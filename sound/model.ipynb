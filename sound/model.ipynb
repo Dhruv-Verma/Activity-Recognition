{
 "cells": [
  {
   "cell_type": "code",
   "execution_count": 1,
   "metadata": {
    "colab": {
     "base_uri": "https://localhost:8080/",
     "height": 364
    },
    "executionInfo": {
     "elapsed": 1296,
     "status": "ok",
     "timestamp": 1601570430822,
     "user": {
      "displayName": "Dhruv Verma",
      "photoUrl": "https://lh3.googleusercontent.com/a-/AOh14GjPErif29dJTpYr10Kx4Olz-3fBzlJHUINscaF57A=s64",
      "userId": "04055500837937310636"
     },
     "user_tz": -330
    },
    "id": "YxPWN60xnHWF",
    "outputId": "c229db07-8588-4b5b-c3d6-2bb66bf94d78"
   },
   "outputs": [
    {
     "name": "stdout",
     "output_type": "stream",
     "text": [
      "Sun Mar  7 15:25:48 2021       \r\n",
      "+-----------------------------------------------------------------------------+\r\n",
      "| NVIDIA-SMI 450.102.04   Driver Version: 450.102.04   CUDA Version: 11.0     |\r\n",
      "|-------------------------------+----------------------+----------------------+\r\n",
      "| GPU  Name        Persistence-M| Bus-Id        Disp.A | Volatile Uncorr. ECC |\r\n",
      "| Fan  Temp  Perf  Pwr:Usage/Cap|         Memory-Usage | GPU-Util  Compute M. |\r\n",
      "|                               |                      |               MIG M. |\r\n",
      "|===============================+======================+======================|\r\n",
      "|   0  TITAN X (Pascal)    Off  | 00000000:08:00.0 Off |                  N/A |\r\n",
      "| 51%   79C    P0    89W / 250W |     15MiB / 12194MiB |      0%      Default |\r\n",
      "|                               |                      |                  N/A |\r\n",
      "+-------------------------------+----------------------+----------------------+\r\n",
      "                                                                               \r\n",
      "+-----------------------------------------------------------------------------+\r\n",
      "| Processes:                                                                  |\r\n",
      "|  GPU   GI   CI        PID   Type   Process name                  GPU Memory |\r\n",
      "|        ID   ID                                                   Usage      |\r\n",
      "|=============================================================================|\r\n",
      "|    0   N/A  N/A      1293      G   /usr/lib/xorg/Xorg                  9MiB |\r\n",
      "|    0   N/A  N/A      1619      G   /usr/bin/gnome-shell                3MiB |\r\n",
      "+-----------------------------------------------------------------------------+\r\n"
     ]
    }
   ],
   "source": [
    "!nvidia-smi"
   ]
  },
  {
   "cell_type": "code",
   "execution_count": 2,
   "metadata": {},
   "outputs": [
    {
     "name": "stdout",
     "output_type": "stream",
     "text": [
      "Requirement already satisfied: keras==2.4.3 in /home/dhruv/anaconda3/lib/python3.8/site-packages (2.4.3)\n",
      "Requirement already satisfied: pyyaml in /home/dhruv/anaconda3/lib/python3.8/site-packages (from keras==2.4.3) (5.3.1)\n",
      "Requirement already satisfied: numpy>=1.9.1 in /home/dhruv/anaconda3/lib/python3.8/site-packages (from keras==2.4.3) (1.18.5)\n",
      "Requirement already satisfied: h5py in /home/dhruv/anaconda3/lib/python3.8/site-packages (from keras==2.4.3) (2.10.0)\n",
      "Requirement already satisfied: scipy>=0.14 in /home/dhruv/anaconda3/lib/python3.8/site-packages (from keras==2.4.3) (1.5.0)\n",
      "Requirement already satisfied: six in /home/dhruv/anaconda3/lib/python3.8/site-packages (from h5py->keras==2.4.3) (1.15.0)\n",
      "\u001b[33mWARNING: Keyring is skipped due to an exception: Failed to create the collection: Prompt dismissed..\u001b[0m\n",
      "\u001b[33mWARNING: Keyring is skipped due to an exception: Failed to create the collection: Prompt dismissed..\u001b[0m\n"
     ]
    }
   ],
   "source": [
    "!pip install keras==2.4.3"
   ]
  },
  {
   "cell_type": "code",
   "execution_count": 3,
   "metadata": {
    "executionInfo": {
     "elapsed": 1326,
     "status": "ok",
     "timestamp": 1601570491553,
     "user": {
      "displayName": "Dhruv Verma",
      "photoUrl": "https://lh3.googleusercontent.com/a-/AOh14GjPErif29dJTpYr10Kx4Olz-3fBzlJHUINscaF57A=s64",
      "userId": "04055500837937310636"
     },
     "user_tz": -330
    },
    "id": "nZfCF63foFxq"
   },
   "outputs": [],
   "source": [
    "import os"
   ]
  },
  {
   "cell_type": "code",
   "execution_count": 4,
   "metadata": {
    "colab": {
     "base_uri": "https://localhost:8080/",
     "height": 35
    },
    "executionInfo": {
     "elapsed": 1245,
     "status": "ok",
     "timestamp": 1601569782356,
     "user": {
      "displayName": "Dhruv Verma",
      "photoUrl": "https://lh3.googleusercontent.com/a-/AOh14GjPErif29dJTpYr10Kx4Olz-3fBzlJHUINscaF57A=s64",
      "userId": "04055500837937310636"
     },
     "user_tz": -330
    },
    "id": "gul33B_goT8u",
    "outputId": "5de7a58e-ff4b-4e96-8986-6df342f175da"
   },
   "outputs": [
    {
     "data": {
      "text/plain": [
       "'/home/dhruv/soundHAR'"
      ]
     },
     "execution_count": 4,
     "metadata": {},
     "output_type": "execute_result"
    }
   ],
   "source": [
    "os.getcwd()"
   ]
  },
  {
   "cell_type": "code",
   "execution_count": 5,
   "metadata": {},
   "outputs": [
    {
     "name": "stdout",
     "output_type": "stream",
     "text": [
      "nvcc: NVIDIA (R) Cuda compiler driver\r\n",
      "Copyright (c) 2005-2020 NVIDIA Corporation\r\n",
      "Built on Wed_Jul_22_19:09:09_PDT_2020\r\n",
      "Cuda compilation tools, release 11.0, V11.0.221\r\n",
      "Build cuda_11.0_bu.TC445_37.28845127_0\r\n"
     ]
    }
   ],
   "source": [
    "!nvcc -V"
   ]
  },
  {
   "cell_type": "code",
   "execution_count": 46,
   "metadata": {
    "executionInfo": {
     "elapsed": 10625,
     "status": "ok",
     "timestamp": 1601570503201,
     "user": {
      "displayName": "Dhruv Verma",
      "photoUrl": "https://lh3.googleusercontent.com/a-/AOh14GjPErif29dJTpYr10Kx4Olz-3fBzlJHUINscaF57A=s64",
      "userId": "04055500837937310636"
     },
     "user_tz": -330
    },
    "id": "EVhv2x0omPUX"
   },
   "outputs": [],
   "source": [
    "import numpy as np\n",
    "import vggish_params\n",
    "import vggish_keras\n",
    "import numpy as np\n",
    "import matplotlib.pyplot as plt\n",
    "import seaborn as sns\n",
    "import pickle\n",
    "from sklearn.preprocessing import OneHotEncoder\n",
    "from keras.layers import Dense\n",
    "from keras.models import Model\n",
    "from keras.optimizers import Adam\n",
    "from keras.losses import CategoricalCrossentropy\n",
    "from keras.metrics import Accuracy, Precision, Recall\n",
    "from sklearn.utils import class_weight\n",
    "from keras.callbacks import EarlyStopping, ModelCheckpoint, ReduceLROnPlateau\n",
    "import seaborn as sns\n",
    "from sklearn.model_selection import train_test_split\n",
    "from sklearn.metrics import accuracy_score, f1_score, confusion_matrix\n",
    "from statistics import mode\n",
    "from tqdm import tqdm\n",
    "import time\n",
    "from keras.models import load_model"
   ]
  },
  {
   "cell_type": "code",
   "execution_count": 47,
   "metadata": {
    "executionInfo": {
     "elapsed": 1277,
     "status": "ok",
     "timestamp": 1601570530433,
     "user": {
      "displayName": "Dhruv Verma",
      "photoUrl": "https://lh3.googleusercontent.com/a-/AOh14GjPErif29dJTpYr10Kx4Olz-3fBzlJHUINscaF57A=s64",
      "userId": "04055500837937310636"
     },
     "user_tz": -330
    },
    "id": "yzV3Lh-iokV-"
   },
   "outputs": [],
   "source": [
    "checkpoint_path = 'vggish_weights.ckpt'\n",
    "# checkpoint_path = 'example_model.hdf5'"
   ]
  },
  {
   "cell_type": "code",
   "execution_count": 29,
   "metadata": {},
   "outputs": [],
   "source": [
    "sfreq = 16000"
   ]
  },
  {
   "cell_type": "code",
   "execution_count": 42,
   "metadata": {},
   "outputs": [
    {
     "data": {
      "text/plain": [
       "'example_model.hdf5'"
      ]
     },
     "execution_count": 42,
     "metadata": {},
     "output_type": "execute_result"
    }
   ],
   "source": [
    "MODEL_URL = \"https://www.dropbox.com/s/cq1d7uqg0l28211/example_model.hdf5?dl=1\"\n",
    "MODEL_PATH = \"example_model.hdf5\"\n",
    "wget.download(MODEL_URL,MODEL_PATH)"
   ]
  },
  {
   "cell_type": "code",
   "execution_count": 40,
   "metadata": {},
   "outputs": [],
   "source": [
    "import wget"
   ]
  },
  {
   "cell_type": "code",
   "execution_count": 37,
   "metadata": {},
   "outputs": [
    {
     "data": {
      "text/plain": [
       "(16, 64, 21)"
      ]
     },
     "execution_count": 37,
     "metadata": {},
     "output_type": "execute_result"
    }
   ],
   "source": [
    "features[0].shape"
   ]
  },
  {
   "cell_type": "code",
   "execution_count": 9,
   "metadata": {
    "executionInfo": {
     "elapsed": 182202,
     "status": "ok",
     "timestamp": 1601570827794,
     "user": {
      "displayName": "Dhruv Verma",
      "photoUrl": "https://lh3.googleusercontent.com/a-/AOh14GjPErif29dJTpYr10Kx4Olz-3fBzlJHUINscaF57A=s64",
      "userId": "04055500837937310636"
     },
     "user_tz": -330
    },
    "id": "Y4WQOp9S_tP2"
   },
   "outputs": [],
   "source": [
    "features = pickle.load(open('featurized_data/default_config/X_{}.pkl'.format(sfreq), 'rb'))\n",
    "labels = pickle.load(open('featurized_data/default_config/y_{}.pkl'.format(sfreq), 'rb'))\n",
    "features = np.concatenate(np.concatenate(features))\n",
    "labels = np.concatenate(np.concatenate(labels))"
   ]
  },
  {
   "cell_type": "code",
   "execution_count": 12,
   "metadata": {},
   "outputs": [
    {
     "data": {
      "text/plain": [
       "<matplotlib.axes._subplots.AxesSubplot at 0x7f396ce42700>"
      ]
     },
     "execution_count": 12,
     "metadata": {},
     "output_type": "execute_result"
    },
    {
     "data": {
      "image/png": "[encoded data removed]",
      "text/plain": [
       "<Figure size 432x288 with 2 Axes>"
      ]
     },
     "metadata": {
      "needs_background": "light"
     },
     "output_type": "display_data"
    }
   ],
   "source": [
    "sns.heatmap(features[20000].T)"
   ]
  },
  {
   "cell_type": "code",
   "execution_count": null,
   "metadata": {},
   "outputs": [],
   "source": [
    "# selected_labels = ['alarm-clock','buzzer', 'cough', 'dishwasher','doorbell',\n",
    "#                    'gargle','shaver','toothbrush','typing','write']"
   ]
  },
  {
   "cell_type": "code",
   "execution_count": null,
   "metadata": {},
   "outputs": [],
   "source": [
    "# features_s = []\n",
    "# labels_s = []\n",
    "# for label in selected_labels:\n",
    "#     idx = np.where(labels == label)[0]\n",
    "#     features_s.append(features[idx])\n",
    "#     labels_s.append(labels[idx])"
   ]
  },
  {
   "cell_type": "code",
   "execution_count": null,
   "metadata": {},
   "outputs": [],
   "source": [
    "# features_s = np.vstack(features_s)\n",
    "# labels_s = np.concatenate(labels_s)"
   ]
  },
  {
   "cell_type": "code",
   "execution_count": null,
   "metadata": {},
   "outputs": [],
   "source": [
    "# features = features_s\n",
    "# labels = labels_s"
   ]
  },
  {
   "cell_type": "code",
   "execution_count": 13,
   "metadata": {
    "id": "d5lV09hPoyUA"
   },
   "outputs": [
    {
     "name": "stderr",
     "output_type": "stream",
     "text": [
      "/home/dhruv/anaconda3/lib/python3.8/site-packages/sklearn/utils/validation.py:68: FutureWarning: Pass classes=['alarm-clock' 'baby-cry' 'blender' 'car-horn' 'cat-meow' 'chopping'\n",
      " 'cooking' 'cough' 'dishwasher' 'dog-bark' 'door' 'doorbell' 'drill'\n",
      " 'engine' 'flush' 'hair-dryer' 'hammer' 'hazard-alarm' 'knock' 'laugh'\n",
      " 'microwave' 'phone-ring' 'saw' 'shaver' 'snore' 'speech' 'toothbrush'\n",
      " 'typing' 'vacuum' 'water-running'], y=['baby-cry' 'baby-cry' 'baby-cry' ... 'cat-meow' 'cat-meow' 'cat-meow'] as keyword args. From version 0.25 passing these as positional arguments will result in an error\n",
      "  warnings.warn(\"Pass {} as keyword args. From version 0.25 \"\n"
     ]
    },
    {
     "data": {
      "text/plain": [
       "{'alarm-clock': 2.60639923591213,\n",
       " 'baby-cry': 1.4070121165248775,\n",
       " 'blender': 3.4851851851851854,\n",
       " 'car-horn': 7.725123849964614,\n",
       " 'cat-meow': 7.611994421199442,\n",
       " 'chopping': 3.275007500750075,\n",
       " 'cooking': 1.0200542005420055,\n",
       " 'cough': 4.59991571849979,\n",
       " 'dishwasher': 1.3018008348240906,\n",
       " 'dog-bark': 1.144552794379784,\n",
       " 'door': 4.394363929146538,\n",
       " 'doorbell': 9.073649210307565,\n",
       " 'drill': 1.7950337115605985,\n",
       " 'engine': 0.2725084881166367,\n",
       " 'flush': 1.7211605171870072,\n",
       " 'hair-dryer': 2.6195344372450204,\n",
       " 'hammer': 1.3092959097996881,\n",
       " 'hazard-alarm': 0.626253585771658,\n",
       " 'knock': 5.739011566771819,\n",
       " 'laugh': 2.451841868823001,\n",
       " 'microwave': 1.4778770647170323,\n",
       " 'phone-ring': 0.951748190775133,\n",
       " 'saw': 2.0827323029956117,\n",
       " 'shaver': 2.0013934726806015,\n",
       " 'snore': 3.972197962154294,\n",
       " 'speech': 0.15628096097127966,\n",
       " 'toothbrush': 6.826516572858036,\n",
       " 'typing': 0.9033101621979477,\n",
       " 'vacuum': 0.6507839980921719,\n",
       " 'water-running': 0.21761562998405104}"
      ]
     },
     "execution_count": 13,
     "metadata": {},
     "output_type": "execute_result"
    }
   ],
   "source": [
    "weights = class_weight.compute_class_weight('balanced',\n",
    "                                            np.unique(labels),\n",
    "                                            labels)\n",
    "class_weights = dict(enumerate(weights))\n",
    "class_name_weights = {np.unique(labels)[key]:class_weights[key] for key in class_weights.keys()}\n",
    "class_name_weights"
   ]
  },
  {
   "cell_type": "code",
   "execution_count": 14,
   "metadata": {
    "id": "S_H-1vfmo2OO"
   },
   "outputs": [],
   "source": [
    "ohe = OneHotEncoder()\n",
    "labels = ohe.fit_transform(labels.reshape((-1,1))).toarray()\n",
    "\n",
    "NUM_CLASSES = len(weights)\n",
    "\n",
    "features = features.reshape((-1, \n",
    "                             vggish_params.NUM_FRAMES, \n",
    "                             vggish_params.NUM_BANDS, 1))\n",
    "\n",
    "labels = labels.reshape((-1, NUM_CLASSES))\n",
    "X_train = features\n",
    "y_train = labels\n",
    "del features,labels"
   ]
  },
  {
   "cell_type": "code",
   "execution_count": 15,
   "metadata": {},
   "outputs": [],
   "source": [
    "test_features = pickle.load(open('featurized_data/default_config/X_test_{}.pkl'.format(sfreq), 'rb'))\n",
    "test_labels = pickle.load(open('featurized_data/default_config/y_test_{}.pkl'.format(sfreq), 'rb'))\n",
    "test_features = np.concatenate(np.concatenate(test_features))\n",
    "test_labels = np.concatenate(np.concatenate(test_labels))\n",
    "\n",
    "test_labels = ohe.transform(test_labels.reshape((-1,1))).toarray()\n",
    "\n",
    "# NUM_CLASSES = 30\n",
    "\n",
    "test_features = test_features.reshape((-1, \n",
    "                             vggish_params.NUM_FRAMES, \n",
    "                             vggish_params.NUM_BANDS, 1))\n",
    "\n",
    "test_labels = test_labels.reshape((-1, NUM_CLASSES))"
   ]
  },
  {
   "cell_type": "code",
   "execution_count": 16,
   "metadata": {},
   "outputs": [],
   "source": [
    "X_test = test_features\n",
    "y_test = test_labels\n",
    "del test_labels, test_features"
   ]
  },
  {
   "cell_type": "code",
   "execution_count": 17,
   "metadata": {},
   "outputs": [
    {
     "name": "stdout",
     "output_type": "stream",
     "text": [
      "X train shape (109156, 96, 64, 1)\n",
      "X test  shape (26154, 96, 64, 1)\n",
      "y train shape (109156, 30)\n",
      "y test  shape (26154, 30)\n"
     ]
    }
   ],
   "source": [
    "print('X train shape {}'.format(X_train.shape))\n",
    "print('X test  shape {}'.format(X_test.shape))\n",
    "print('y train shape {}'.format(y_train.shape))\n",
    "print('y test  shape {}'.format(y_test.shape))"
   ]
  },
  {
   "cell_type": "code",
   "execution_count": 18,
   "metadata": {},
   "outputs": [],
   "source": [
    "# Define VGGish, load the checkpoint, and run the batch through the model to\n",
    "# produce embeddings.\n",
    "vggish = vggish_keras.get_vggish_keras(use_with_lstm=False)\n",
    "vggish.load_weights(checkpoint_path)\n",
    "\n",
    "x = vggish.output\n",
    "x = Dense(NUM_CLASSES, activation='sigmoid', name='prediction')(x)\n",
    "model = Model(vggish.input, x, name='model')\n",
    "\n",
    "model.compile(optimizer='adam', loss='binary_crossentropy', \n",
    "              metrics=['accuracy'])\n",
    "\n",
    "# model.load_weights('checkpoints/model_{}.h5'.format(sfreq))\n",
    "\n",
    "checkpoint = ModelCheckpoint('checkpoints/model_{}.h5'.format(sfreq), monitor='val_accuracy', verbose=1, save_best_only=True, mode='max')\n",
    "earlystopping = EarlyStopping(monitor='val_loss', patience=20, verbose=1)\n",
    "reducelr = ReduceLROnPlateau(monitor='val_loss', factor=0.1, patience=10, verbose=1, min_lr=0.000001) "
   ]
  },
  {
   "cell_type": "code",
   "execution_count": 19,
   "metadata": {
    "scrolled": true
   },
   "outputs": [
    {
     "name": "stdout",
     "output_type": "stream",
     "text": [
      "Model: \"model\"\n",
      "_________________________________________________________________\n",
      "Layer (type)                 Output Shape              Param #   \n",
      "=================================================================\n",
      "input_1 (InputLayer)         [(None, 96, 64, 1)]       0         \n",
      "_________________________________________________________________\n",
      "conv1 (Conv2D)               (None, 96, 64, 64)        640       \n",
      "_________________________________________________________________\n",
      "pool1 (MaxPooling2D)         (None, 48, 32, 64)        0         \n",
      "_________________________________________________________________\n",
      "conv2 (Conv2D)               (None, 48, 32, 128)       73856     \n",
      "_________________________________________________________________\n",
      "pool2 (MaxPooling2D)         (None, 24, 16, 128)       0         \n",
      "_________________________________________________________________\n",
      "conv3_1 (Conv2D)             (None, 24, 16, 256)       295168    \n",
      "_________________________________________________________________\n",
      "conv3_2 (Conv2D)             (None, 24, 16, 256)       590080    \n",
      "_________________________________________________________________\n",
      "pool3 (MaxPooling2D)         (None, 12, 8, 256)        0         \n",
      "_________________________________________________________________\n",
      "conv4_1 (Conv2D)             (None, 12, 8, 512)        1180160   \n",
      "_________________________________________________________________\n",
      "conv4_2 (Conv2D)             (None, 12, 8, 512)        2359808   \n",
      "_________________________________________________________________\n",
      "pool4 (MaxPooling2D)         (None, 6, 4, 512)         0         \n",
      "_________________________________________________________________\n",
      "flatten (Flatten)            (None, 12288)             0         \n",
      "_________________________________________________________________\n",
      "fc1_1 (Dense)                (None, 4096)              50335744  \n",
      "_________________________________________________________________\n",
      "fc1_2 (Dense)                (None, 4096)              16781312  \n",
      "_________________________________________________________________\n",
      "fc2 (Dense)                  (None, 128)               524416    \n",
      "_________________________________________________________________\n",
      "prediction (Dense)           (None, 30)                3870      \n",
      "=================================================================\n",
      "Total params: 72,145,054\n",
      "Trainable params: 72,145,054\n",
      "Non-trainable params: 0\n",
      "_________________________________________________________________\n"
     ]
    }
   ],
   "source": [
    "model.summary()"
   ]
  },
  {
   "cell_type": "code",
   "execution_count": 21,
   "metadata": {},
   "outputs": [
    {
     "name": "stdout",
     "output_type": "stream",
     "text": [
      "Epoch 1/100\n",
      "   1/3412 [..............................] - ETA: 0s - loss: 0.0898 - accuracy: 0.0625WARNING:tensorflow:Callbacks method `on_train_batch_end` is slow compared to the batch time (batch time: 0.0074s vs `on_train_batch_end` time: 0.0176s). Check your callbacks.\n",
      "3412/3412 [==============================] - ETA: 0s - loss: 0.0793 - accuracy: 0.5224\n",
      "Epoch 00001: val_accuracy improved from -inf to 0.38097, saving model to checkpoints/model_16000.h5\n",
      "3412/3412 [==============================] - 93s 27ms/step - loss: 0.0793 - accuracy: 0.5224 - val_loss: 0.1105 - val_accuracy: 0.3810\n",
      "Epoch 2/100\n",
      "3411/3412 [============================>.] - ETA: 0s - loss: 0.0593 - accuracy: 0.6420\n",
      "Epoch 00002: val_accuracy improved from 0.38097 to 0.43959, saving model to checkpoints/model_16000.h5\n",
      "3412/3412 [==============================] - 94s 28ms/step - loss: 0.0593 - accuracy: 0.6420 - val_loss: 0.1209 - val_accuracy: 0.4396\n",
      "Epoch 3/100\n",
      "3411/3412 [============================>.] - ETA: 0s - loss: 0.0519 - accuracy: 0.6746\n",
      "Epoch 00003: val_accuracy did not improve from 0.43959\n",
      "3412/3412 [==============================] - 94s 28ms/step - loss: 0.0519 - accuracy: 0.6746 - val_loss: 0.1339 - val_accuracy: 0.3705\n",
      "Epoch 4/100\n",
      "3411/3412 [============================>.] - ETA: 0s - loss: 0.0466 - accuracy: 0.6988\n",
      "Epoch 00004: val_accuracy did not improve from 0.43959\n",
      "3412/3412 [==============================] - 94s 28ms/step - loss: 0.0466 - accuracy: 0.6988 - val_loss: 0.1240 - val_accuracy: 0.4151\n",
      "Epoch 5/100\n",
      "3411/3412 [============================>.] - ETA: 0s - loss: 0.0426 - accuracy: 0.7147\n",
      "Epoch 00005: val_accuracy did not improve from 0.43959\n",
      "3412/3412 [==============================] - 94s 28ms/step - loss: 0.0426 - accuracy: 0.7147 - val_loss: 0.1476 - val_accuracy: 0.3843\n",
      "Epoch 6/100\n",
      "3411/3412 [============================>.] - ETA: 0s - loss: 0.0410 - accuracy: 0.7205\n",
      "Epoch 00006: val_accuracy did not improve from 0.43959\n",
      "3412/3412 [==============================] - 94s 28ms/step - loss: 0.0410 - accuracy: 0.7205 - val_loss: 0.1469 - val_accuracy: 0.4010\n",
      "Epoch 7/100\n",
      "3411/3412 [============================>.] - ETA: 0s - loss: 0.0365 - accuracy: 0.7377\n",
      "Epoch 00007: val_accuracy did not improve from 0.43959\n",
      "3412/3412 [==============================] - 94s 28ms/step - loss: 0.0365 - accuracy: 0.7377 - val_loss: 0.1625 - val_accuracy: 0.4038\n",
      "Epoch 8/100\n",
      "3411/3412 [============================>.] - ETA: 0s - loss: 0.0378 - accuracy: 0.7306\n",
      "Epoch 00008: val_accuracy did not improve from 0.43959\n",
      "3412/3412 [==============================] - 94s 28ms/step - loss: 0.0378 - accuracy: 0.7306 - val_loss: 0.1730 - val_accuracy: 0.3942\n",
      "Epoch 9/100\n",
      "3411/3412 [============================>.] - ETA: 0s - loss: 0.0355 - accuracy: 0.7433\n",
      "Epoch 00009: val_accuracy did not improve from 0.43959\n",
      "3412/3412 [==============================] - 94s 28ms/step - loss: 0.0355 - accuracy: 0.7433 - val_loss: 0.1832 - val_accuracy: 0.3898\n",
      "Epoch 10/100\n",
      "3411/3412 [============================>.] - ETA: 0s - loss: 0.0363 - accuracy: 0.7398\n",
      "Epoch 00010: val_accuracy did not improve from 0.43959\n",
      "3412/3412 [==============================] - 94s 28ms/step - loss: 0.0363 - accuracy: 0.7398 - val_loss: 0.1538 - val_accuracy: 0.4236\n",
      "Epoch 11/100\n",
      "3411/3412 [============================>.] - ETA: 0s - loss: 0.0327 - accuracy: 0.7561\n",
      "Epoch 00011: val_accuracy did not improve from 0.43959\n",
      "\n",
      "Epoch 00011: ReduceLROnPlateau reducing learning rate to 0.00010000000474974513.\n",
      "3412/3412 [==============================] - 94s 28ms/step - loss: 0.0327 - accuracy: 0.7561 - val_loss: 0.1949 - val_accuracy: 0.3969\n",
      "Epoch 12/100\n",
      "3411/3412 [============================>.] - ETA: 0s - loss: 0.0173 - accuracy: 0.8311\n",
      "Epoch 00012: val_accuracy improved from 0.43959 to 0.45603, saving model to checkpoints/model_16000.h5\n",
      "3412/3412 [==============================] - 95s 28ms/step - loss: 0.0173 - accuracy: 0.8311 - val_loss: 0.1966 - val_accuracy: 0.4560\n",
      "Epoch 13/100\n",
      "3411/3412 [============================>.] - ETA: 0s - loss: 0.0117 - accuracy: 0.8635\n",
      "Epoch 00013: val_accuracy improved from 0.45603 to 0.45867, saving model to checkpoints/model_16000.h5\n",
      "3412/3412 [==============================] - 95s 28ms/step - loss: 0.0117 - accuracy: 0.8635 - val_loss: 0.2188 - val_accuracy: 0.4587\n",
      "Epoch 14/100\n",
      "3411/3412 [============================>.] - ETA: 0s - loss: 0.0090 - accuracy: 0.8835\n",
      "Epoch 00014: val_accuracy improved from 0.45867 to 0.46310, saving model to checkpoints/model_16000.h5\n",
      "3412/3412 [==============================] - 95s 28ms/step - loss: 0.0090 - accuracy: 0.8835 - val_loss: 0.2502 - val_accuracy: 0.4631\n",
      "Epoch 15/100\n",
      "3411/3412 [============================>.] - ETA: 0s - loss: 0.0071 - accuracy: 0.9026\n",
      "Epoch 00015: val_accuracy improved from 0.46310 to 0.46983, saving model to checkpoints/model_16000.h5\n",
      "3412/3412 [==============================] - 95s 28ms/step - loss: 0.0071 - accuracy: 0.9026 - val_loss: 0.3341 - val_accuracy: 0.4698\n",
      "Epoch 16/100\n",
      "3411/3412 [============================>.] - ETA: 0s - loss: 0.0058 - accuracy: 0.9184\n",
      "Epoch 00016: val_accuracy improved from 0.46983 to 0.47270, saving model to checkpoints/model_16000.h5\n",
      "3412/3412 [==============================] - 95s 28ms/step - loss: 0.0058 - accuracy: 0.9184 - val_loss: 0.3807 - val_accuracy: 0.4727\n",
      "Epoch 17/100\n",
      "3411/3412 [============================>.] - ETA: 0s - loss: 0.0050 - accuracy: 0.9304\n",
      "Epoch 00017: val_accuracy improved from 0.47270 to 0.47733, saving model to checkpoints/model_16000.h5\n",
      "3412/3412 [==============================] - 95s 28ms/step - loss: 0.0050 - accuracy: 0.9304 - val_loss: 0.4073 - val_accuracy: 0.4773\n",
      "Epoch 18/100\n",
      "3411/3412 [============================>.] - ETA: 0s - loss: 0.0042 - accuracy: 0.9428\n",
      "Epoch 00018: val_accuracy did not improve from 0.47733\n",
      "3412/3412 [==============================] - 94s 28ms/step - loss: 0.0042 - accuracy: 0.9428 - val_loss: 0.4854 - val_accuracy: 0.4751\n",
      "Epoch 19/100\n",
      "3411/3412 [============================>.] - ETA: 0s - loss: 0.0036 - accuracy: 0.9531\n",
      "Epoch 00019: val_accuracy improved from 0.47733 to 0.48042, saving model to checkpoints/model_16000.h5\n",
      "3412/3412 [==============================] - 95s 28ms/step - loss: 0.0036 - accuracy: 0.9531 - val_loss: 0.5422 - val_accuracy: 0.4804\n",
      "Epoch 20/100\n",
      "3411/3412 [============================>.] - ETA: 0s - loss: 0.0033 - accuracy: 0.9586\n",
      "Epoch 00020: val_accuracy did not improve from 0.48042\n",
      "3412/3412 [==============================] - 94s 28ms/step - loss: 0.0033 - accuracy: 0.9586 - val_loss: 0.5695 - val_accuracy: 0.4741\n",
      "Epoch 21/100\n",
      "3411/3412 [============================>.] - ETA: 0s - loss: 0.0030 - accuracy: 0.9635\n",
      "Epoch 00021: val_accuracy improved from 0.48042 to 0.48203, saving model to checkpoints/model_16000.h5\n",
      "\n",
      "Epoch 00021: ReduceLROnPlateau reducing learning rate to 1.0000000474974514e-05.\n",
      "3412/3412 [==============================] - 96s 28ms/step - loss: 0.0030 - accuracy: 0.9635 - val_loss: 0.5813 - val_accuracy: 0.4820\n",
      "Epoch 00021: early stopping\n"
     ]
    }
   ],
   "source": [
    "history = model.fit(X_train, y_train, epochs=100, batch_size=32, validation_data=(X_test, y_test),\n",
    "                    class_weight=class_weights, callbacks= [checkpoint, earlystopping, reducelr], shuffle=True)"
   ]
  },
  {
   "cell_type": "code",
   "execution_count": 22,
   "metadata": {},
   "outputs": [
    {
     "data": {
      "text/plain": [
       "[<matplotlib.lines.Line2D at 0x7f3955734b50>]"
      ]
     },
     "execution_count": 22,
     "metadata": {},
     "output_type": "execute_result"
    },
    {
     "data": {
      "image/png": "[encoded data removed]",
      "text/plain": [
       "<Figure size 432x288 with 1 Axes>"
      ]
     },
     "metadata": {
      "needs_background": "light"
     },
     "output_type": "display_data"
    }
   ],
   "source": [
    "plt.plot(history.history['val_loss'])"
   ]
  },
  {
   "cell_type": "markdown",
   "metadata": {},
   "source": [
    "### Contextual Results"
   ]
  },
  {
   "cell_type": "code",
   "execution_count": 17,
   "metadata": {},
   "outputs": [
    {
     "name": "stdout",
     "output_type": "stream",
     "text": [
      "Loaded best checkpoint!\n"
     ]
    }
   ],
   "source": [
    "model.load_weights('checkpoints/model_{}.h5'.format(sfreq))\n",
    "print('Loaded best checkpoint!')"
   ]
  },
  {
   "cell_type": "code",
   "execution_count": 18,
   "metadata": {},
   "outputs": [],
   "source": [
    "labels_test = ohe.inverse_transform(y_test).flatten()"
   ]
  },
  {
   "cell_type": "code",
   "execution_count": 19,
   "metadata": {},
   "outputs": [],
   "source": [
    "pred = model.predict(X_test)"
   ]
  },
  {
   "cell_type": "code",
   "execution_count": 20,
   "metadata": {},
   "outputs": [
    {
     "data": {
      "text/plain": [
       "array(['alarm-clock', 'baby-cry', 'blender', 'car-horn', 'cat-meow',\n",
       "       'chopping', 'cooking', 'cough', 'dishwasher', 'dog-bark', 'door',\n",
       "       'doorbell', 'drill', 'engine', 'flush', 'hair-dryer', 'hammer',\n",
       "       'hazard-alarm', 'knock', 'laugh', 'microwave', 'phone-ring', 'saw',\n",
       "       'shaver', 'snore', 'speech', 'toothbrush', 'typing', 'vacuum',\n",
       "       'water-running'], dtype='<U32')"
      ]
     },
     "execution_count": 20,
     "metadata": {},
     "output_type": "execute_result"
    }
   ],
   "source": [
    "np.unique(labels_test)"
   ]
  },
  {
   "cell_type": "code",
   "execution_count": 21,
   "metadata": {},
   "outputs": [],
   "source": [
    "encoding = {label: ohe.transform(np.array(label).reshape(-1,1)).toarray() for label in np.unique(labels_test)}\n",
    "\n",
    "contexts = {\n",
    "    'monolithic': ['alarm-clock', 'baby-cry', 'blender', 'car-horn', 'cat-meow',\n",
    "       'chopping', 'cooking', 'cough', 'dishwasher', 'dog-bark', 'door',\n",
    "       'doorbell', 'drill', 'engine', 'flush', 'hair-dryer', 'hammer',\n",
    "       'hazard-alarm', 'knock', 'laugh', 'microwave', 'phone-ring', 'saw',\n",
    "       'shaver', 'snore', 'speech', 'toothbrush', 'typing', 'vacuum',\n",
    "       'water-running'],\n",
    "    'bathroom': ['water-running', 'shaver', 'toothbrush', 'flush', 'hair-dryer'],\n",
    "    'kitchen': ['hazard-alarm', 'speech', 'chopping', 'water-running', 'microwave', 'blender', 'dishwasher', 'cooking'],\n",
    "    'bedroom': ['speech', 'baby-cry', 'cough', 'snore', 'alarm-clock'],\n",
    "    'office': ['phone-ring', 'speech', 'cough', 'door', 'knock', 'typing'],\n",
    "    'entrance': ['speech', 'door', 'knock', 'doorbell', 'laugh'],\n",
    "    'workshop': ['drill', 'hazard-alarm', 'speech', 'vacuum', 'hammer', 'saw'],\n",
    "    'outdoor': ['dog-bark', 'hazard-alarm', 'speech', 'car-horn', 'engine', 'cat-meow']\n",
    "}\n",
    "\n",
    "context_encoding = {}\n",
    "for context in contexts.keys():\n",
    "    context_encoding[context] = np.zeros((1,30))\n",
    "    for activity in contexts[context]:\n",
    "        context_encoding[context] += encoding[activity]    "
   ]
  },
  {
   "cell_type": "code",
   "execution_count": 22,
   "metadata": {},
   "outputs": [
    {
     "name": "stdout",
     "output_type": "stream",
     "text": [
      "250, monolithic, 0.24025080287505735, 0.21753807234584813\n",
      "250, bathroom, 0.4432389937106918, 0.3767953629978072\n",
      "250, kitchen, 0.3242099322799097, 0.23509611885221973\n",
      "250, bedroom, 0.27311387620097655, 0.24571837773417937\n",
      "250, office, 0.3991017500387177, 0.438140046030926\n",
      "250, entrance, 0.261678104936905, 0.3186410410470032\n",
      "250, workshop, 0.2824427480916031, 0.2560457100237921\n",
      "250, outdoor, 0.3335302806499261, 0.2292495039714536\n"
     ]
    }
   ],
   "source": [
    "for context in contexts.keys():\n",
    "#     context = list(contexts.keys())[0]\n",
    "    valid_idx = [i for i, label in enumerate(labels_test) if label in contexts[context]]\n",
    "    valid_pred = pred[valid_idx]\n",
    "    valid_labels = labels_test[valid_idx]\n",
    "    valid_pred = np.argmax(valid_pred * context_encoding[context], axis=1)\n",
    "    valid_pred = [ohe.categories_[0][pr] for pr in valid_pred]\n",
    "    acc = accuracy_score(valid_labels, valid_pred)\n",
    "    f1 = f1_score(valid_labels, valid_pred, average='weighted')\n",
    "    conf_mat = confusion_matrix(valid_labels, valid_pred, normalize='true')\n",
    "    label_names = np.unique(valid_labels)\n",
    "    print('{}, {}, {}, {}'.format(sfreq, context, acc, f1))\n",
    "    # fig, ax = plt.subplots(figsize=(13,10))\n",
    "    # sns.heatmap(conf_mat, cmap='Blues', ax=ax, xticklabels=label_names, yticklabels=label_names, annot=False)\n",
    "    # ax.set_title('sFreq: {}, Context: {}, Acc: {}'.format(sfreq,context,acc))\n",
    "    # ax.set_xlabel('Predicted Label')\n",
    "    # ax.set_ylabel('True Label')"
   ]
  },
  {
   "cell_type": "markdown",
   "metadata": {},
   "source": [
    "### File-Level Metrics "
   ]
  },
  {
   "cell_type": "code",
   "execution_count": 44,
   "metadata": {},
   "outputs": [],
   "source": [
    "num_bands = 64\n",
    "test_features = pickle.load(open('featurized_data/default_config/X_test_{}.pkl'.format(sfreq), 'rb'))\n",
    "test_labels = pickle.load(open('featurized_data/default_config/y_test_{}.pkl'.format(sfreq), 'rb'))\n",
    "# test_features = np.concatenate(np.concatenate(test_features))\n",
    "# test_labels = np.concatenate(np.concatenate(test_labels))\n",
    "\n",
    "test_features_flat = []\n",
    "for cls in test_features:\n",
    "    for file in cls:\n",
    "        if len(file) != 0:\n",
    "            test_features_flat.append(file)\n",
    "\n",
    "test_labels_ohe = []\n",
    "for cls in test_labels:\n",
    "    for file in cls:\n",
    "        if len(file) != 0:\n",
    "            file_labels = ohe.transform(np.array(file).reshape((-1,1))).toarray()\n",
    "            test_labels_ohe.append(file_labels)\n",
    "\n",
    "NUM_CLASSES = 30\n",
    "\n",
    "X_test = [file.reshape((-1, vggish_params.NUM_FRAMES, num_bands, 1)) for file in test_features_flat] \n",
    "y_test = [file.reshape((-1, NUM_CLASSES)) for file in test_labels_ohe]"
   ]
  },
  {
   "cell_type": "code",
   "execution_count": 48,
   "metadata": {},
   "outputs": [
    {
     "name": "stdout",
     "output_type": "stream",
     "text": [
      "Model: \"model_1\"\n",
      "_________________________________________________________________\n",
      "Layer (type)                 Output Shape              Param #   \n",
      "=================================================================\n",
      "input_1 (InputLayer)         [(None, 96, 64, 1)]       0         \n",
      "_________________________________________________________________\n",
      "conv1 (Conv2D)               (None, 96, 64, 64)        640       \n",
      "_________________________________________________________________\n",
      "pool1 (MaxPooling2D)         (None, 48, 32, 64)        0         \n",
      "_________________________________________________________________\n",
      "conv2 (Conv2D)               (None, 48, 32, 128)       73856     \n",
      "_________________________________________________________________\n",
      "pool2 (MaxPooling2D)         (None, 24, 16, 128)       0         \n",
      "_________________________________________________________________\n",
      "conv3_1 (Conv2D)             (None, 24, 16, 256)       295168    \n",
      "_________________________________________________________________\n",
      "conv3_2 (Conv2D)             (None, 24, 16, 256)       590080    \n",
      "_________________________________________________________________\n",
      "pool3 (MaxPooling2D)         (None, 12, 8, 256)        0         \n",
      "_________________________________________________________________\n",
      "conv4_1 (Conv2D)             (None, 12, 8, 512)        1180160   \n",
      "_________________________________________________________________\n",
      "conv4_2 (Conv2D)             (None, 12, 8, 512)        2359808   \n",
      "_________________________________________________________________\n",
      "pool4 (MaxPooling2D)         (None, 6, 4, 512)         0         \n",
      "_________________________________________________________________\n",
      "flatten (Flatten)            (None, 12288)             0         \n",
      "_________________________________________________________________\n",
      "fc1_1 (Dense)                (None, 4096)              50335744  \n",
      "_________________________________________________________________\n",
      "fc1_2 (Dense)                (None, 4096)              16781312  \n",
      "_________________________________________________________________\n",
      "fc2 (Dense)                  (None, 128)               524416    \n",
      "_________________________________________________________________\n",
      "main_out (Dense)             (None, 30)                3870      \n",
      "=================================================================\n",
      "Total params: 72,145,054\n",
      "Trainable params: 72,145,054\n",
      "Non-trainable params: 0\n",
      "_________________________________________________________________\n"
     ]
    }
   ],
   "source": [
    "model = load_model('example_model.hdf5')\n",
    "model.summary()"
   ]
  },
  {
   "cell_type": "code",
   "execution_count": 24,
   "metadata": {},
   "outputs": [
    {
     "name": "stdout",
     "output_type": "stream",
     "text": [
      "Loaded best checkpoint!\n"
     ]
    }
   ],
   "source": [
    "model.load_weights('checkpoints/model_{}.h5'.format(sfreq))\n",
    "print('Loaded best checkpoint!')"
   ]
  },
  {
   "cell_type": "code",
   "execution_count": 49,
   "metadata": {},
   "outputs": [],
   "source": [
    "labels_test = np.array([ohe.inverse_transform(file).flatten() for file in y_test])"
   ]
  },
  {
   "cell_type": "code",
   "execution_count": 55,
   "metadata": {},
   "outputs": [
    {
     "data": {
      "text/plain": [
       "(6, 96, 64, 1)"
      ]
     },
     "execution_count": 55,
     "metadata": {},
     "output_type": "execute_result"
    }
   ],
   "source": []
  },
  {
   "cell_type": "code",
   "execution_count": 50,
   "metadata": {},
   "outputs": [],
   "source": [
    "pred = np.array([model.predict(file) for file in X_test])"
   ]
  },
  {
   "cell_type": "code",
   "execution_count": null,
   "metadata": {},
   "outputs": [],
   "source": [
    "pred_time = []\n",
    "for file in tqdm(X_test):\n",
    "    for i in range(len(file)):\n",
    "        frame = file[i:i+1]\n",
    "        st = time.time()\n",
    "        prediction = model.predict(frame)\n",
    "        en = time.time()\n",
    "        pred_time.append(en-st)"
   ]
  },
  {
   "cell_type": "code",
   "execution_count": null,
   "metadata": {},
   "outputs": [],
   "source": [
    "print('{},{}'.format(sfreq, np.mean(pred_time)))"
   ]
  },
  {
   "cell_type": "code",
   "execution_count": 51,
   "metadata": {},
   "outputs": [],
   "source": [
    "encoding = {label: ohe.transform(np.array(label).reshape(-1,1)).toarray() for label in np.unique(np.concatenate(labels_test).flatten())}\n",
    "\n",
    "contexts = {\n",
    "    'monolithic': ['alarm-clock', 'baby-cry', 'blender', 'car-horn', 'cat-meow',\n",
    "       'chopping', 'cooking', 'cough', 'dishwasher', 'dog-bark', 'door',\n",
    "       'doorbell', 'drill', 'engine', 'flush', 'hair-dryer', 'hammer',\n",
    "       'hazard-alarm', 'knock', 'laugh', 'microwave', 'phone-ring', 'saw',\n",
    "       'shaver', 'snore', 'speech', 'toothbrush', 'typing', 'vacuum',\n",
    "       'water-running'],\n",
    "    'bathroom': ['water-running', 'shaver', 'toothbrush', 'flush', 'hair-dryer'],\n",
    "    'kitchen': ['hazard-alarm', 'speech', 'chopping', 'water-running', 'microwave', 'blender', 'dishwasher', 'cooking'],\n",
    "    'bedroom': ['speech', 'baby-cry', 'cough', 'snore', 'alarm-clock'],\n",
    "    'office': ['phone-ring', 'speech', 'cough', 'door', 'knock', 'typing'],\n",
    "    'entrance': ['speech', 'door', 'knock', 'doorbell', 'laugh'],\n",
    "    'workshop': ['drill', 'hazard-alarm', 'speech', 'vacuum', 'hammer', 'saw'],\n",
    "    'outdoor': ['dog-bark', 'hazard-alarm', 'speech', 'car-horn', 'engine', 'cat-meow']\n",
    "}\n",
    "\n",
    "context_encoding = {}\n",
    "for context in contexts.keys():\n",
    "    context_encoding[context] = np.zeros((1,30))\n",
    "    for activity in contexts[context]:\n",
    "        context_encoding[context] += encoding[activity]    "
   ]
  },
  {
   "cell_type": "code",
   "execution_count": 52,
   "metadata": {},
   "outputs": [
    {
     "name": "stdout",
     "output_type": "stream",
     "text": [
      "16000,monolithic,0.004771642808452625,0.002666691038045298\n",
      "16000,bathroom,0.2277580071174377,0.2320106166462348\n",
      "16000,kitchen,0.075,0.06501685986190117\n",
      "16000,bedroom,0.20318725099601595,0.18188358879267486\n",
      "16000,office,0.15060240963855423,0.11253095377507678\n",
      "16000,entrance,0.16334661354581673,0.1365843298967943\n",
      "16000,workshop,0.19424460431654678,0.17420283838577771\n",
      "16000,outdoor,0.12,0.06155057064147973\n"
     ]
    }
   ],
   "source": [
    "for context in contexts.keys():\n",
    "#     context = list(contexts.keys())[1]\n",
    "    valid_idx = [i for i, label in enumerate(labels_test) if label[0] in contexts[context]]\n",
    "    valid_pred = pred[valid_idx]\n",
    "    valid_labels = labels_test[valid_idx]\n",
    "    valid_pred = [np.argmax(file * context_encoding[context], axis=1) for file in valid_pred]\n",
    "    # Transform to per file level labels\n",
    "    valid_pred = [ohe.categories_[0][mode(file)] for file in valid_pred]\n",
    "    valid_labels = [file[0] for file in valid_labels]\n",
    "    acc = accuracy_score(valid_labels, valid_pred)\n",
    "    f1 = f1_score(valid_labels, valid_pred, average='weighted')\n",
    "    conf_mat = confusion_matrix(valid_labels, valid_pred, normalize='true')\n",
    "    label_names = np.unique(valid_labels)\n",
    "    print('{},{},{},{}'.format(sfreq, context, acc, f1))\n",
    "    # fig, ax = plt.subplots(figsize=(13,10))\n",
    "    # sns.heatmap(conf_mat, cmap='Blues', ax=ax, xticklabels=label_names, yticklabels=label_names, annot=False)\n",
    "    # ax.set_title('sFreq: {}, Context: {}, Acc: {}'.format(sfreq,context,acc))\n",
    "    # ax.set_xlabel('Predicted Label')\n",
    "    # ax.set_ylabel('True Label')"
   ]
  }
 ],
 "metadata": {
  "accelerator": "GPU",
  "colab": {
   "authorship_tag": "ABX9TyOZ3nl0I+mVkmJRBp9GYBH+",
   "name": "model.ipynb",
   "provenance": []
  },
  "kernelspec": {
   "display_name": "Python 3",
   "language": "python",
   "name": "python3"
  },
  "language_info": {
   "codemirror_mode": {
    "name": "ipython",
    "version": 3
   },
   "file_extension": ".py",
   "mimetype": "text/x-python",
   "name": "python",
   "nbconvert_exporter": "python",
   "pygments_lexer": "ipython3",
   "version": "3.8.3"
  }
 },
 "nbformat": 4,
 "nbformat_minor": 1
}

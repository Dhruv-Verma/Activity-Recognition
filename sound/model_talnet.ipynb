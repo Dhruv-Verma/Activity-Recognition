{
 "cells": [
  {
   "cell_type": "code",
   "execution_count": 1,
   "metadata": {
    "colab": {
     "base_uri": "https://localhost:8080/",
     "height": 364
    },
    "executionInfo": {
     "elapsed": 1296,
     "status": "ok",
     "timestamp": 1601570430822,
     "user": {
      "displayName": "Dhruv Verma",
      "photoUrl": "https://lh3.googleusercontent.com/a-/AOh14GjPErif29dJTpYr10Kx4Olz-3fBzlJHUINscaF57A=s64",
      "userId": "04055500837937310636"
     },
     "user_tz": -330
    },
    "id": "YxPWN60xnHWF",
    "outputId": "c229db07-8588-4b5b-c3d6-2bb66bf94d78"
   },
   "outputs": [
    {
     "name": "stdout",
     "output_type": "stream",
     "text": [
      "Wed Dec 30 01:29:07 2020       \r\n",
      "+-----------------------------------------------------------------------------+\r\n",
      "| NVIDIA-SMI 450.80.02    Driver Version: 450.80.02    CUDA Version: 11.0     |\r\n",
      "|-------------------------------+----------------------+----------------------+\r\n",
      "| GPU  Name        Persistence-M| Bus-Id        Disp.A | Volatile Uncorr. ECC |\r\n",
      "| Fan  Temp  Perf  Pwr:Usage/Cap|         Memory-Usage | GPU-Util  Compute M. |\r\n",
      "|                               |                      |               MIG M. |\r\n",
      "|===============================+======================+======================|\r\n",
      "|   0  TITAN X (Pascal)    On   | 00000000:08:00.0 Off |                  N/A |\r\n",
      "| 23%   31C    P8     9W / 250W |     68MiB / 12188MiB |      0%      Default |\r\n",
      "|                               |                      |                  N/A |\r\n",
      "+-------------------------------+----------------------+----------------------+\r\n",
      "                                                                               \r\n",
      "+-----------------------------------------------------------------------------+\r\n",
      "| Processes:                                                                  |\r\n",
      "|  GPU   GI   CI        PID   Type   Process name                  GPU Memory |\r\n",
      "|        ID   ID                                                   Usage      |\r\n",
      "|=============================================================================|\r\n",
      "|    0   N/A  N/A      1390      G   /usr/lib/xorg/Xorg                 56MiB |\r\n",
      "|    0   N/A  N/A      1607      G   /usr/bin/gnome-shell                9MiB |\r\n",
      "+-----------------------------------------------------------------------------+\r\n"
     ]
    }
   ],
   "source": [
    "!nvidia-smi"
   ]
  },
  {
   "cell_type": "code",
   "execution_count": 2,
   "metadata": {
    "executionInfo": {
     "elapsed": 10625,
     "status": "ok",
     "timestamp": 1601570503201,
     "user": {
      "displayName": "Dhruv Verma",
      "photoUrl": "https://lh3.googleusercontent.com/a-/AOh14GjPErif29dJTpYr10Kx4Olz-3fBzlJHUINscaF57A=s64",
      "userId": "04055500837937310636"
     },
     "user_tz": -330
    },
    "id": "EVhv2x0omPUX"
   },
   "outputs": [],
   "source": [
    "import os\n",
    "import numpy as np\n",
    "import vggish_params\n",
    "import vggish_keras\n",
    "import numpy as np\n",
    "import matplotlib.pyplot as plt\n",
    "import seaborn as sns\n",
    "import pickle\n",
    "from sklearn.preprocessing import OneHotEncoder\n",
    "from keras.layers import Dense\n",
    "from keras.models import Model\n",
    "from keras.optimizers import Adam\n",
    "from keras.losses import CategoricalCrossentropy\n",
    "from keras.metrics import Accuracy, Precision, Recall\n",
    "from sklearn.utils import class_weight\n",
    "from keras.callbacks import EarlyStopping, ModelCheckpoint, ReduceLROnPlateau\n",
    "import seaborn as sns\n",
    "from sklearn.model_selection import train_test_split\n",
    "from sklearn.metrics import accuracy_score, f1_score, confusion_matrix\n",
    "from statistics import mode\n",
    "from tqdm import tqdm, trange\n",
    "import time"
   ]
  },
  {
   "cell_type": "code",
   "execution_count": 3,
   "metadata": {},
   "outputs": [],
   "source": [
    "sfreq = 1000\n",
    "sec = 10"
   ]
  },
  {
   "cell_type": "code",
   "execution_count": 200,
   "metadata": {},
   "outputs": [
    {
     "data": {
      "text/plain": [
       "'alarm-clock'"
      ]
     },
     "execution_count": 200,
     "metadata": {},
     "output_type": "execute_result"
    }
   ],
   "source": [
    "y_train[18]"
   ]
  },
  {
   "cell_type": "code",
   "execution_count": 240,
   "metadata": {
    "executionInfo": {
     "elapsed": 182202,
     "status": "ok",
     "timestamp": 1601570827794,
     "user": {
      "displayName": "Dhruv Verma",
      "photoUrl": "https://lh3.googleusercontent.com/a-/AOh14GjPErif29dJTpYr10Kx4Olz-3fBzlJHUINscaF57A=s64",
      "userId": "04055500837937310636"
     },
     "user_tz": -330
    },
    "id": "Y4WQOp9S_tP2"
   },
   "outputs": [],
   "source": [
    "X_train = np.load('temporal_data/{}sec/features_train_{}.npy'.format(sec, sfreq), allow_pickle=True)\n",
    "y_train = np.load('temporal_data/{}sec/labels_train_{}.npy'.format(sec, sfreq), allow_pickle=True)\n",
    "\n",
    "speech_index = 23\n",
    "alarm_clock_index = 18\n",
    "water_running_index = 8\n",
    "\n",
    "X_train = list(X_train)\n",
    "y_train = list(y_train)\n",
    "del X_train[speech_index], y_train[speech_index]\n",
    "del X_train[alarm_clock_index], y_train[alarm_clock_index]\n",
    "del X_train[water_running_index], y_train[water_running_index]\n",
    "\n",
    "X_train = np.concatenate(X_train)\n",
    "y_train = np.concatenate(y_train)    \n",
    "\n",
    "valid_idx = []\n",
    "for i in range(len(X_train)):\n",
    "    if len(X_train[i].shape) == 3:\n",
    "        valid_idx.append(i)\n",
    "    elif len(X_train[i].shape) != 1:\n",
    "        print('ghotala! @ {}'.format(i))\n",
    "\n",
    "X_train = X_train[valid_idx]\n",
    "y_train = y_train[valid_idx]\n",
    "\n",
    "shuffled_idx = np.arange(len(X_train))\n",
    "np.random.shuffle(shuffled_idx)\n",
    "\n",
    "X_train = X_train[shuffled_idx]\n",
    "y_train = y_train[shuffled_idx]\n",
    "\n",
    "X_train = np.concatenate(X_train)\n",
    "y_train = np.concatenate(y_train)\n",
    "\n",
    "NUM_BANDS = X_train.shape[1]\n",
    "NUM_FRAMES = X_train.shape[2]\n",
    "# NUM_BANDS = X_train[0].shape[1]\n",
    "# NUM_FRAMES = X_train[0].shape[2]"
   ]
  },
  {
   "cell_type": "code",
   "execution_count": 180,
   "metadata": {},
   "outputs": [
    {
     "data": {
      "text/plain": [
       "(102752, 64, 101)"
      ]
     },
     "execution_count": 180,
     "metadata": {},
     "output_type": "execute_result"
    }
   ],
   "source": [
    "X_train.shape"
   ]
  },
  {
   "cell_type": "code",
   "execution_count": 181,
   "metadata": {},
   "outputs": [
    {
     "name": "stdout",
     "output_type": "stream",
     "text": [
      "(64, 101)\n"
     ]
    },
    {
     "data": {
      "text/plain": [
       "'saw'"
      ]
     },
     "execution_count": 181,
     "metadata": {},
     "output_type": "execute_result"
    }
   ],
   "source": [
    "i=100001\n",
    "print(X_train[i].shape)\n",
    "y_train[i]"
   ]
  },
  {
   "cell_type": "code",
   "execution_count": 241,
   "metadata": {},
   "outputs": [
    {
     "data": {
      "text/plain": [
       "<matplotlib.axes._subplots.AxesSubplot at 0x7fe330cec3a0>"
      ]
     },
     "execution_count": 241,
     "metadata": {},
     "output_type": "execute_result"
    },
    {
     "data": {
      "image/png": "[encoded data removed]",
      "text/plain": [
       "<Figure size 432x288 with 2 Axes>"
      ]
     },
     "metadata": {
      "needs_background": "light"
     },
     "output_type": "display_data"
    }
   ],
   "source": [
    "sns.heatmap(X_train[i])"
   ]
  },
  {
   "cell_type": "code",
   "execution_count": 242,
   "metadata": {
    "id": "d5lV09hPoyUA"
   },
   "outputs": [
    {
     "name": "stderr",
     "output_type": "stream",
     "text": [
      "/home/dhruv/anaconda3/lib/python3.8/site-packages/sklearn/utils/validation.py:68: FutureWarning: Pass classes=['alarm-clock' 'baby-cry' 'blender' 'cat-meow' 'chopping' 'cooking'\n",
      " 'cough' 'dishwasher' 'dog-bark' 'door' 'drill' 'engine' 'flush'\n",
      " 'hair-dryer' 'hammer' 'hazard-alarm' 'knock' 'laugh' 'microwave'\n",
      " 'phone-ring' 'saw' 'shaver' 'snore' 'toothbrush' 'typing' 'vacuum'\n",
      " 'water-running'], y=['toothbrush' 'toothbrush' 'toothbrush' ... 'hazard-alarm' 'hazard-alarm'\n",
      " 'hazard-alarm'] as keyword args. From version 0.25 passing these as positional arguments will result in an error\n",
      "  warnings.warn(\"Pass {} as keyword args. From version 0.25 \"\n"
     ]
    },
    {
     "data": {
      "text/plain": [
       "{'alarm-clock': 2.5506521306252488,\n",
       " 'baby-cry': 1.7827009724614233,\n",
       " 'blender': 3.8144425832868043,\n",
       " 'cat-meow': 16.35935504469987,\n",
       " 'chopping': 10.067295412122998,\n",
       " 'cooking': 4.007782862059525,\n",
       " 'cough': 39.53510802469136,\n",
       " 'dishwasher': 0.6533603667361629,\n",
       " 'dog-bark': 1.1860532407407407,\n",
       " 'door': 94.88425925925925,\n",
       " 'drill': 1.7538680084890805,\n",
       " 'engine': 0.24964614683749065,\n",
       " 'flush': 1.4284419911066506,\n",
       " 'hair-dryer': 0.7950084562987789,\n",
       " 'hammer': 1.1624411547841869,\n",
       " 'hazard-alarm': 0.29558959270797275,\n",
       " 'knock': 55.00536768652711,\n",
       " 'laugh': 18.514001806684732,\n",
       " 'microwave': 1.8559268314769537,\n",
       " 'phone-ring': 3.0002927829014787,\n",
       " 'saw': 2.5489391338954803,\n",
       " 'shaver': 1.4536079549484375,\n",
       " 'snore': 5.206269369506681,\n",
       " 'toothbrush': 10.230108815014475,\n",
       " 'typing': 0.8490761454967272,\n",
       " 'vacuum': 0.4179463022101498,\n",
       " 'water-running': 0.158642800968499}"
      ]
     },
     "execution_count": 242,
     "metadata": {},
     "output_type": "execute_result"
    }
   ],
   "source": [
    "weights = class_weight.compute_class_weight('balanced',\n",
    "                                            np.unique(y_train),\n",
    "                                            y_train)\n",
    "class_weights = dict(enumerate(weights))\n",
    "class_name_weights = {np.unique(y_train)[key]:class_weights[key] for key in class_weights.keys()}\n",
    "class_name_weights"
   ]
  },
  {
   "cell_type": "code",
   "execution_count": 243,
   "metadata": {
    "id": "S_H-1vfmo2OO"
   },
   "outputs": [],
   "source": [
    "ohe = OneHotEncoder()\n",
    "NUM_CLASSES = len(weights)\n",
    "NUM_FILES = len(y_train)\n",
    "\n",
    "y_train = ohe.fit_transform(y_train.reshape((-1,1))).toarray().reshape((-1, NUM_CLASSES))\n",
    "\n",
    "X_train = X_train.reshape((-1, NUM_FRAMES, NUM_BANDS, 1))\n",
    "\n",
    "# y_ohe = []\n",
    "# for i in tqdm(range(NUM_FILES)):\n",
    "#     file_ohe = ohe.transform(np.array(y_train[i]).reshape((-1,1))).toarray().reshape((-1, NUM_CLASSES))\n",
    "#     y_ohe.append(file_ohe)              \n",
    "#     X_train[i] = X_train[i].reshape((-1, NUM_BANDS, NUM_FRAMES, 1))\n",
    "    \n",
    "# y_train = np.array(y_ohe)"
   ]
  },
  {
   "cell_type": "code",
   "execution_count": 228,
   "metadata": {},
   "outputs": [
    {
     "data": {
      "text/plain": [
       "(533,)"
      ]
     },
     "execution_count": 228,
     "metadata": {},
     "output_type": "execute_result"
    }
   ],
   "source": [
    "X_test.shape"
   ]
  },
  {
   "cell_type": "code",
   "execution_count": 244,
   "metadata": {},
   "outputs": [],
   "source": [
    "X_test = np.load('temporal_data/{}sec/features_test_{}.npy'.format(sec, sfreq), allow_pickle=True)\n",
    "y_test = np.load('temporal_data/{}sec/labels_test_{}.npy'.format(sec, sfreq), allow_pickle=True)\n",
    "\n",
    "X_test = list(X_test)\n",
    "y_test = list(y_test)\n",
    "del X_test[speech_index], y_test[speech_index]\n",
    "del X_test[alarm_clock_index], y_test[alarm_clock_index]\n",
    "del X_test[water_running_index], y_test[water_running_index]\n",
    "\n",
    "# X_test = np.concatenate(X_test)\n",
    "# y_test = np.concatenate(y_test)      \n",
    "\n",
    "X_valid_test = []\n",
    "y_valid_test = []\n",
    "\n",
    "for lbl in range(len(class_name_weights.keys())):\n",
    "    for i in range(len(X_test[lbl])):\n",
    "        if len(X_test[lbl][i].shape) == 3:\n",
    "            X_valid_test.append(X_test[lbl][i])\n",
    "            y_valid_test.append(y_test[lbl][i])\n",
    "        \n",
    "        elif len(X_test[lbl][i].shape) != 1:\n",
    "            print('ghotala! @ {}'.format(i))\n",
    "\n",
    "X_test = np.array(X_valid_test)\n",
    "y_test = np.array(y_valid_test)\n",
    "   \n",
    "shuffled_idx = np.arange(len(X_test))\n",
    "np.random.shuffle(shuffled_idx)\n",
    "\n",
    "X_test = X_test[shuffled_idx]\n",
    "y_test = y_test[shuffled_idx]\n",
    "\n",
    "X_test = np.concatenate(X_test)\n",
    "y_test = np.concatenate(y_test)\n",
    "\n",
    "NUM_TEST_FILES = len(y_test)\n",
    "\n",
    "y_test = ohe.fit_transform(y_test.reshape((-1,1))).toarray().reshape((-1, NUM_CLASSES))\n",
    "X_test = X_test.reshape((-1, NUM_FRAMES, NUM_BANDS, 1))\n",
    "\n",
    "# y_ohe = []\n",
    "# for i in tqdm(range(NUM_TEST_FILES)):\n",
    "#     file_ohe = ohe.transform(np.array(y_test[i]).reshape((-1,1))).toarray().reshape((-1, NUM_CLASSES))\n",
    "#     y_ohe.append(file_ohe)              \n",
    "#     X_test[i] = X_test[i].reshape((-1, NUM_BANDS, NUM_FRAMES, 1))\n",
    "\n",
    "# y_test = np.array(y_ohe)"
   ]
  },
  {
   "cell_type": "code",
   "execution_count": 236,
   "metadata": {},
   "outputs": [
    {
     "data": {
      "text/plain": [
       "(27266, 27)"
      ]
     },
     "execution_count": 236,
     "metadata": {},
     "output_type": "execute_result"
    }
   ],
   "source": [
    "X_test.shape\n",
    "X_train.shape\n",
    "y_test.shape"
   ]
  },
  {
   "cell_type": "code",
   "execution_count": 245,
   "metadata": {
    "scrolled": true
   },
   "outputs": [
    {
     "name": "stdout",
     "output_type": "stream",
     "text": [
      "X train shape (102475, 101, 64, 1)\n",
      "X test  shape (27266, 101, 64, 1)\n",
      "y train shape (102475, 27)\n",
      "y test  shape (27266, 27)\n"
     ]
    }
   ],
   "source": [
    "idx = 13\n",
    "print('X train shape {}'.format(X_train.shape))\n",
    "print('X test  shape {}'.format(X_test.shape))\n",
    "print('y train shape {}'.format(y_train.shape))\n",
    "print('y test  shape {}'.format(y_test.shape))"
   ]
  },
  {
   "cell_type": "code",
   "execution_count": 272,
   "metadata": {},
   "outputs": [
    {
     "name": "stdout",
     "output_type": "stream",
     "text": [
      "Model: \"model\"\n",
      "_________________________________________________________________\n",
      "Layer (type)                 Output Shape              Param #   \n",
      "=================================================================\n",
      "input (InputLayer)           [(None, 101, 64, 1)]      0         \n",
      "_________________________________________________________________\n",
      "conv1 (Conv2D)               (None, 101, 64, 32)       832       \n",
      "_________________________________________________________________\n",
      "pool1 (MaxPooling2D)         (None, 101, 32, 32)       0         \n",
      "_________________________________________________________________\n",
      "conv2 (Conv2D)               (None, 101, 32, 64)       51264     \n",
      "_________________________________________________________________\n",
      "pool2 (MaxPooling2D)         (None, 50, 16, 64)        0         \n",
      "_________________________________________________________________\n",
      "conv3 (Conv2D)               (None, 50, 16, 128)       204928    \n",
      "_________________________________________________________________\n",
      "pool3 (MaxPooling2D)         (None, 25, 8, 128)        0         \n",
      "_________________________________________________________________\n",
      "flatten (Reshape)            (None, 25, 1024)          0         \n",
      "_________________________________________________________________\n",
      "bi_lstm (Bidirectional)      (None, 25, 200)           900000    \n",
      "_________________________________________________________________\n",
      "frame_level_pred (Dense)     (None, 25, 27)            5427      \n",
      "_________________________________________________________________\n",
      "recording_level_pred (Lambda (None, 27)                0         \n",
      "=================================================================\n",
      "Total params: 1,162,451\n",
      "Trainable params: 1,162,451\n",
      "Non-trainable params: 0\n",
      "_________________________________________________________________\n"
     ]
    }
   ],
   "source": [
    "from keras.layers import Input, Dense, Conv2D, MaxPooling2D, Flatten, Dropout, LSTM, Reshape, Bidirectional, Lambda, GlobalAveragePooling1D\n",
    "from keras.models import Model\n",
    "import keras.backend as K\n",
    "\n",
    "def softmax_pool(x):\n",
    "    x_sum_sq = K.sum(K.square(x), axis=1)\n",
    "    x_sum = K.sum(x, axis=1)\n",
    "    return x_sum_sq/x_sum \n",
    "\n",
    "def softmax_pool_output_shape(input_shape):\n",
    "    shape = list(input_shape)\n",
    "    return tuple(shape[2])\n",
    "\n",
    "# Input\n",
    "input_shape = (NUM_FRAMES, NUM_BANDS, 1)\n",
    "batch_input_shape = (1, NUM_BANDS, NUM_FRAMES, 1)\n",
    "img_input = Input(shape = input_shape, name='input')\n",
    "\n",
    "# Block 1\n",
    "x = Conv2D(32, (5, 5), activation='relu', padding='same', name='conv1')(img_input)\n",
    "x = MaxPooling2D((1, 2), strides=(1, 2), name='pool1')(x)\n",
    "\n",
    "# Block 2\n",
    "x = Conv2D(64, (5, 5), activation='relu', padding='same', name='conv2')(x)\n",
    "x = MaxPooling2D((2, 2), strides=(2, 2), name='pool2')(x)\n",
    "\n",
    "# Block 3\n",
    "x = Conv2D(128, (5, 5), activation='relu', padding='same', name='conv3')(x)\n",
    "x = MaxPooling2D((2, 2), strides=(2, 2), name='pool3')(x)\n",
    "\n",
    "# LSTM\n",
    "x = Reshape((25, -1), name='flatten')(x)\n",
    "x = Bidirectional(LSTM(units = 100, return_sequences=True), name='bi_lstm')(x)\n",
    "\n",
    "# # Block fc\n",
    "# x = Dropout(0.4)(x)\n",
    "x = Dense(NUM_CLASSES, activation='sigmoid', name='frame_level_pred')(x)\n",
    "x = Lambda(softmax_pool, output_shape = softmax_pool_output_shape, name='recording_level_pred')(x)\n",
    "# x = GlobalAveragePooling1D()(x)\n",
    "model = Model(img_input, x, name='model')\n",
    "\n",
    "model.summary()"
   ]
  },
  {
   "cell_type": "code",
   "execution_count": 273,
   "metadata": {},
   "outputs": [],
   "source": [
    "MODEL_NAME = 'talnet_{}_{}'.format(sec, sfreq)\n",
    "\n",
    "BATCH_SIZE = 64\n",
    "\n",
    "model.compile(optimizer='adam', loss='binary_crossentropy', metrics=['accuracy'])\n",
    "# model.load_weights('checkpoints/model_{}.h5'.format(sfreq))\n",
    "\n",
    "checkpoint = ModelCheckpoint('checkpoints/{}.h5'.format(MODEL_NAME), monitor='val_accuracy', verbose=1, save_best_only=True, mode='max')\n",
    "earlystopping = EarlyStopping(monitor='val_accuracy', patience=20, verbose=1)\n",
    "reducelr = ReduceLROnPlateau(monitor='val_accuracy', factor=0.1, patience=10, verbose=1, min_lr=0.000001)"
   ]
  },
  {
   "cell_type": "code",
   "execution_count": 274,
   "metadata": {},
   "outputs": [
    {
     "name": "stdout",
     "output_type": "stream",
     "text": [
      "Epoch 1/100\n",
      "1600/1602 [============================>.] - ETA: 0s - loss: 0.1608 - accuracy: 0.0080\n",
      "Epoch 00001: val_accuracy improved from -inf to 0.00583, saving model to checkpoints/talnet_10_1000.h5\n",
      "1602/1602 [==============================] - 38s 24ms/step - loss: 0.1608 - accuracy: 0.0081 - val_loss: 0.1598 - val_accuracy: 0.0058\n",
      "Epoch 2/100\n",
      "1600/1602 [============================>.] - ETA: 0s - loss: 0.1603 - accuracy: 0.0073\n",
      "Epoch 00002: val_accuracy improved from 0.00583 to 0.04992, saving model to checkpoints/talnet_10_1000.h5\n",
      "1602/1602 [==============================] - 38s 24ms/step - loss: 0.1603 - accuracy: 0.0073 - val_loss: 0.1585 - val_accuracy: 0.0499\n",
      "Epoch 3/100\n",
      "1600/1602 [============================>.] - ETA: 0s - loss: 0.1601 - accuracy: 0.0103\n",
      "Epoch 00003: val_accuracy did not improve from 0.04992\n",
      "1602/1602 [==============================] - 38s 24ms/step - loss: 0.1602 - accuracy: 0.0103 - val_loss: 0.1630 - val_accuracy: 0.0014\n",
      "Epoch 4/100\n",
      "1600/1602 [============================>.] - ETA: 0s - loss: 0.1601 - accuracy: 0.0091\n",
      "Epoch 00004: val_accuracy did not improve from 0.04992\n",
      "1602/1602 [==============================] - 38s 24ms/step - loss: 0.1602 - accuracy: 0.0091 - val_loss: 0.1562 - val_accuracy: 0.0464\n",
      "Epoch 5/100\n",
      "1600/1602 [============================>.] - ETA: 0s - loss: 0.1601 - accuracy: 0.0065\n",
      "Epoch 00005: val_accuracy did not improve from 0.04992\n",
      "1602/1602 [==============================] - 38s 24ms/step - loss: 0.1600 - accuracy: 0.0065 - val_loss: 0.1570 - val_accuracy: 0.0117\n",
      "Epoch 6/100\n",
      "1600/1602 [============================>.] - ETA: 0s - loss: 0.1596 - accuracy: 0.0067\n",
      "Epoch 00006: val_accuracy improved from 0.04992 to 0.08692, saving model to checkpoints/talnet_10_1000.h5\n",
      "1602/1602 [==============================] - 38s 24ms/step - loss: 0.1596 - accuracy: 0.0067 - val_loss: 0.1573 - val_accuracy: 0.0869\n",
      "Epoch 7/100\n",
      "1600/1602 [============================>.] - ETA: 0s - loss: 0.1596 - accuracy: 0.0079\n",
      "Epoch 00007: val_accuracy did not improve from 0.08692\n",
      "1602/1602 [==============================] - 38s 24ms/step - loss: 0.1598 - accuracy: 0.0080 - val_loss: 0.1578 - val_accuracy: 0.0203\n",
      "Epoch 8/100\n",
      "1600/1602 [============================>.] - ETA: 0s - loss: 0.1599 - accuracy: 0.0104\n",
      "Epoch 00008: val_accuracy did not improve from 0.08692\n",
      "1602/1602 [==============================] - 38s 24ms/step - loss: 0.1598 - accuracy: 0.0104 - val_loss: 0.1569 - val_accuracy: 0.0055\n",
      "Epoch 9/100\n",
      "1600/1602 [============================>.] - ETA: 0s - loss: 0.1597 - accuracy: 0.0086\n",
      "Epoch 00009: val_accuracy did not improve from 0.08692\n",
      "1602/1602 [==============================] - 38s 24ms/step - loss: 0.1597 - accuracy: 0.0086 - val_loss: 0.1605 - val_accuracy: 0.0027\n",
      "Epoch 10/100\n",
      "1600/1602 [============================>.] - ETA: 0s - loss: 0.1599 - accuracy: 0.0073\n",
      "Epoch 00010: val_accuracy did not improve from 0.08692\n",
      "1602/1602 [==============================] - 38s 24ms/step - loss: 0.1599 - accuracy: 0.0073 - val_loss: 0.1578 - val_accuracy: 0.0045\n",
      "Epoch 11/100\n",
      "1600/1602 [============================>.] - ETA: 0s - loss: 0.1599 - accuracy: 0.0074\n",
      "Epoch 00011: val_accuracy did not improve from 0.08692\n",
      "1602/1602 [==============================] - 38s 24ms/step - loss: 0.1599 - accuracy: 0.0074 - val_loss: 0.1592 - val_accuracy: 0.0014\n",
      "Epoch 12/100\n",
      "1600/1602 [============================>.] - ETA: 0s - loss: 0.1598 - accuracy: 0.0101\n",
      "Epoch 00012: val_accuracy did not improve from 0.08692\n",
      "1602/1602 [==============================] - 38s 24ms/step - loss: 0.1598 - accuracy: 0.0101 - val_loss: 0.1569 - val_accuracy: 0.0423\n",
      "Epoch 13/100\n",
      "1600/1602 [============================>.] - ETA: 0s - loss: 0.1598 - accuracy: 0.0070\n",
      "Epoch 00013: val_accuracy did not improve from 0.08692\n",
      "1602/1602 [==============================] - 38s 24ms/step - loss: 0.1598 - accuracy: 0.0070 - val_loss: 0.1569 - val_accuracy: 0.0485\n",
      "Epoch 14/100\n",
      "1600/1602 [============================>.] - ETA: 0s - loss: 0.1597 - accuracy: 0.0086\n",
      "Epoch 00014: val_accuracy did not improve from 0.08692\n",
      "1602/1602 [==============================] - 38s 24ms/step - loss: 0.1598 - accuracy: 0.0086 - val_loss: 0.1626 - val_accuracy: 0.0014\n",
      "Epoch 15/100\n",
      "1600/1602 [============================>.] - ETA: 0s - loss: 0.1598 - accuracy: 0.0075\n",
      "Epoch 00015: val_accuracy did not improve from 0.08692\n",
      "1602/1602 [==============================] - 38s 24ms/step - loss: 0.1598 - accuracy: 0.0075 - val_loss: 0.1571 - val_accuracy: 0.0499\n",
      "Epoch 16/100\n",
      "1600/1602 [============================>.] - ETA: 0s - loss: 0.1598 - accuracy: 0.0105\n",
      "Epoch 00016: val_accuracy did not improve from 0.08692\n",
      "\n",
      "Epoch 00016: ReduceLROnPlateau reducing learning rate to 0.00010000000474974513.\n",
      "1602/1602 [==============================] - 38s 24ms/step - loss: 0.1598 - accuracy: 0.0105 - val_loss: 0.1614 - val_accuracy: 0.0058\n",
      "Epoch 17/100\n",
      " 757/1602 [=============>................] - ETA: 18s - loss: 0.1576 - accuracy: 5.5730e-04"
     ]
    },
    {
     "ename": "KeyboardInterrupt",
     "evalue": "",
     "output_type": "error",
     "traceback": [
      "\u001b[0;31m---------------------------------------------------------------------------\u001b[0m",
      "\u001b[0;31mKeyboardInterrupt\u001b[0m                         Traceback (most recent call last)",
      "\u001b[0;32m<ipython-input-274-b2a966288ce2>\u001b[0m in \u001b[0;36m<module>\u001b[0;34m\u001b[0m\n\u001b[0;32m----> 1\u001b[0;31m history = model.fit(X_train, y_train, epochs=100, batch_size=BATCH_SIZE, validation_data=(X_test, y_test),\n\u001b[0m\u001b[1;32m      2\u001b[0m                     class_weight=class_weights, callbacks= [checkpoint, earlystopping, reducelr], shuffle=True)\n",
      "\u001b[0;32m~/anaconda3/lib/python3.8/site-packages/tensorflow/python/keras/engine/training.py\u001b[0m in \u001b[0;36m_method_wrapper\u001b[0;34m(self, *args, **kwargs)\u001b[0m\n\u001b[1;32m    106\u001b[0m   \u001b[0;32mdef\u001b[0m \u001b[0m_method_wrapper\u001b[0m\u001b[0;34m(\u001b[0m\u001b[0mself\u001b[0m\u001b[0;34m,\u001b[0m \u001b[0;34m*\u001b[0m\u001b[0margs\u001b[0m\u001b[0;34m,\u001b[0m \u001b[0;34m**\u001b[0m\u001b[0mkwargs\u001b[0m\u001b[0;34m)\u001b[0m\u001b[0;34m:\u001b[0m\u001b[0;34m\u001b[0m\u001b[0;34m\u001b[0m\u001b[0m\n\u001b[1;32m    107\u001b[0m     \u001b[0;32mif\u001b[0m \u001b[0;32mnot\u001b[0m \u001b[0mself\u001b[0m\u001b[0;34m.\u001b[0m\u001b[0m_in_multi_worker_mode\u001b[0m\u001b[0;34m(\u001b[0m\u001b[0;34m)\u001b[0m\u001b[0;34m:\u001b[0m  \u001b[0;31m# pylint: disable=protected-access\u001b[0m\u001b[0;34m\u001b[0m\u001b[0;34m\u001b[0m\u001b[0m\n\u001b[0;32m--> 108\u001b[0;31m       \u001b[0;32mreturn\u001b[0m \u001b[0mmethod\u001b[0m\u001b[0;34m(\u001b[0m\u001b[0mself\u001b[0m\u001b[0;34m,\u001b[0m \u001b[0;34m*\u001b[0m\u001b[0margs\u001b[0m\u001b[0;34m,\u001b[0m \u001b[0;34m**\u001b[0m\u001b[0mkwargs\u001b[0m\u001b[0;34m)\u001b[0m\u001b[0;34m\u001b[0m\u001b[0;34m\u001b[0m\u001b[0m\n\u001b[0m\u001b[1;32m    109\u001b[0m \u001b[0;34m\u001b[0m\u001b[0m\n\u001b[1;32m    110\u001b[0m     \u001b[0;31m# Running inside `run_distribute_coordinator` already.\u001b[0m\u001b[0;34m\u001b[0m\u001b[0;34m\u001b[0m\u001b[0;34m\u001b[0m\u001b[0m\n",
      "\u001b[0;32m~/anaconda3/lib/python3.8/site-packages/tensorflow/python/keras/engine/training.py\u001b[0m in \u001b[0;36mfit\u001b[0;34m(self, x, y, batch_size, epochs, verbose, callbacks, validation_split, validation_data, shuffle, class_weight, sample_weight, initial_epoch, steps_per_epoch, validation_steps, validation_batch_size, validation_freq, max_queue_size, workers, use_multiprocessing)\u001b[0m\n\u001b[1;32m   1101\u001b[0m               \u001b[0mlogs\u001b[0m \u001b[0;34m=\u001b[0m \u001b[0mtmp_logs\u001b[0m  \u001b[0;31m# No error, now safe to assign to logs.\u001b[0m\u001b[0;34m\u001b[0m\u001b[0;34m\u001b[0m\u001b[0m\n\u001b[1;32m   1102\u001b[0m               \u001b[0mend_step\u001b[0m \u001b[0;34m=\u001b[0m \u001b[0mstep\u001b[0m \u001b[0;34m+\u001b[0m \u001b[0mdata_handler\u001b[0m\u001b[0;34m.\u001b[0m\u001b[0mstep_increment\u001b[0m\u001b[0;34m\u001b[0m\u001b[0;34m\u001b[0m\u001b[0m\n\u001b[0;32m-> 1103\u001b[0;31m               \u001b[0mcallbacks\u001b[0m\u001b[0;34m.\u001b[0m\u001b[0mon_train_batch_end\u001b[0m\u001b[0;34m(\u001b[0m\u001b[0mend_step\u001b[0m\u001b[0;34m,\u001b[0m \u001b[0mlogs\u001b[0m\u001b[0;34m)\u001b[0m\u001b[0;34m\u001b[0m\u001b[0;34m\u001b[0m\u001b[0m\n\u001b[0m\u001b[1;32m   1104\u001b[0m         \u001b[0mepoch_logs\u001b[0m \u001b[0;34m=\u001b[0m \u001b[0mcopy\u001b[0m\u001b[0;34m.\u001b[0m\u001b[0mcopy\u001b[0m\u001b[0;34m(\u001b[0m\u001b[0mlogs\u001b[0m\u001b[0;34m)\u001b[0m\u001b[0;34m\u001b[0m\u001b[0;34m\u001b[0m\u001b[0m\n\u001b[1;32m   1105\u001b[0m \u001b[0;34m\u001b[0m\u001b[0m\n",
      "\u001b[0;32m~/anaconda3/lib/python3.8/site-packages/tensorflow/python/keras/callbacks.py\u001b[0m in \u001b[0;36mon_train_batch_end\u001b[0;34m(self, batch, logs)\u001b[0m\n\u001b[1;32m    438\u001b[0m     \"\"\"\n\u001b[1;32m    439\u001b[0m     \u001b[0;32mif\u001b[0m \u001b[0mself\u001b[0m\u001b[0;34m.\u001b[0m\u001b[0m_should_call_train_batch_hooks\u001b[0m\u001b[0;34m:\u001b[0m\u001b[0;34m\u001b[0m\u001b[0;34m\u001b[0m\u001b[0m\n\u001b[0;32m--> 440\u001b[0;31m       \u001b[0mself\u001b[0m\u001b[0;34m.\u001b[0m\u001b[0m_call_batch_hook\u001b[0m\u001b[0;34m(\u001b[0m\u001b[0mModeKeys\u001b[0m\u001b[0;34m.\u001b[0m\u001b[0mTRAIN\u001b[0m\u001b[0;34m,\u001b[0m \u001b[0;34m'end'\u001b[0m\u001b[0;34m,\u001b[0m \u001b[0mbatch\u001b[0m\u001b[0;34m,\u001b[0m \u001b[0mlogs\u001b[0m\u001b[0;34m=\u001b[0m\u001b[0mlogs\u001b[0m\u001b[0;34m)\u001b[0m\u001b[0;34m\u001b[0m\u001b[0;34m\u001b[0m\u001b[0m\n\u001b[0m\u001b[1;32m    441\u001b[0m \u001b[0;34m\u001b[0m\u001b[0m\n\u001b[1;32m    442\u001b[0m   \u001b[0;32mdef\u001b[0m \u001b[0mon_test_batch_begin\u001b[0m\u001b[0;34m(\u001b[0m\u001b[0mself\u001b[0m\u001b[0;34m,\u001b[0m \u001b[0mbatch\u001b[0m\u001b[0;34m,\u001b[0m \u001b[0mlogs\u001b[0m\u001b[0;34m=\u001b[0m\u001b[0;32mNone\u001b[0m\u001b[0;34m)\u001b[0m\u001b[0;34m:\u001b[0m\u001b[0;34m\u001b[0m\u001b[0;34m\u001b[0m\u001b[0m\n",
      "\u001b[0;32m~/anaconda3/lib/python3.8/site-packages/tensorflow/python/keras/callbacks.py\u001b[0m in \u001b[0;36m_call_batch_hook\u001b[0;34m(self, mode, hook, batch, logs)\u001b[0m\n\u001b[1;32m    287\u001b[0m       \u001b[0mself\u001b[0m\u001b[0;34m.\u001b[0m\u001b[0m_call_batch_begin_hook\u001b[0m\u001b[0;34m(\u001b[0m\u001b[0mmode\u001b[0m\u001b[0;34m,\u001b[0m \u001b[0mbatch\u001b[0m\u001b[0;34m,\u001b[0m \u001b[0mlogs\u001b[0m\u001b[0;34m)\u001b[0m\u001b[0;34m\u001b[0m\u001b[0;34m\u001b[0m\u001b[0m\n\u001b[1;32m    288\u001b[0m     \u001b[0;32melif\u001b[0m \u001b[0mhook\u001b[0m \u001b[0;34m==\u001b[0m \u001b[0;34m'end'\u001b[0m\u001b[0;34m:\u001b[0m\u001b[0;34m\u001b[0m\u001b[0;34m\u001b[0m\u001b[0m\n\u001b[0;32m--> 289\u001b[0;31m       \u001b[0mself\u001b[0m\u001b[0;34m.\u001b[0m\u001b[0m_call_batch_end_hook\u001b[0m\u001b[0;34m(\u001b[0m\u001b[0mmode\u001b[0m\u001b[0;34m,\u001b[0m \u001b[0mbatch\u001b[0m\u001b[0;34m,\u001b[0m \u001b[0mlogs\u001b[0m\u001b[0;34m)\u001b[0m\u001b[0;34m\u001b[0m\u001b[0;34m\u001b[0m\u001b[0m\n\u001b[0m\u001b[1;32m    290\u001b[0m     \u001b[0;32melse\u001b[0m\u001b[0;34m:\u001b[0m\u001b[0;34m\u001b[0m\u001b[0;34m\u001b[0m\u001b[0m\n\u001b[1;32m    291\u001b[0m       \u001b[0;32mraise\u001b[0m \u001b[0mValueError\u001b[0m\u001b[0;34m(\u001b[0m\u001b[0;34m'Unrecognized hook: {}'\u001b[0m\u001b[0;34m.\u001b[0m\u001b[0mformat\u001b[0m\u001b[0;34m(\u001b[0m\u001b[0mhook\u001b[0m\u001b[0;34m)\u001b[0m\u001b[0;34m)\u001b[0m\u001b[0;34m\u001b[0m\u001b[0;34m\u001b[0m\u001b[0m\n",
      "\u001b[0;32m~/anaconda3/lib/python3.8/site-packages/tensorflow/python/keras/callbacks.py\u001b[0m in \u001b[0;36m_call_batch_end_hook\u001b[0;34m(self, mode, batch, logs)\u001b[0m\n\u001b[1;32m    307\u001b[0m       \u001b[0mbatch_time\u001b[0m \u001b[0;34m=\u001b[0m \u001b[0mtime\u001b[0m\u001b[0;34m.\u001b[0m\u001b[0mtime\u001b[0m\u001b[0;34m(\u001b[0m\u001b[0;34m)\u001b[0m \u001b[0;34m-\u001b[0m \u001b[0mself\u001b[0m\u001b[0;34m.\u001b[0m\u001b[0m_batch_start_time\u001b[0m\u001b[0;34m\u001b[0m\u001b[0;34m\u001b[0m\u001b[0m\n\u001b[1;32m    308\u001b[0m \u001b[0;34m\u001b[0m\u001b[0m\n\u001b[0;32m--> 309\u001b[0;31m     \u001b[0mself\u001b[0m\u001b[0;34m.\u001b[0m\u001b[0m_call_batch_hook_helper\u001b[0m\u001b[0;34m(\u001b[0m\u001b[0mhook_name\u001b[0m\u001b[0;34m,\u001b[0m \u001b[0mbatch\u001b[0m\u001b[0;34m,\u001b[0m \u001b[0mlogs\u001b[0m\u001b[0;34m)\u001b[0m\u001b[0;34m\u001b[0m\u001b[0;34m\u001b[0m\u001b[0m\n\u001b[0m\u001b[1;32m    310\u001b[0m \u001b[0;34m\u001b[0m\u001b[0m\n\u001b[1;32m    311\u001b[0m     \u001b[0;32mif\u001b[0m \u001b[0mself\u001b[0m\u001b[0;34m.\u001b[0m\u001b[0m_check_timing\u001b[0m\u001b[0;34m:\u001b[0m\u001b[0;34m\u001b[0m\u001b[0;34m\u001b[0m\u001b[0m\n",
      "\u001b[0;32m~/anaconda3/lib/python3.8/site-packages/tensorflow/python/keras/callbacks.py\u001b[0m in \u001b[0;36m_call_batch_hook_helper\u001b[0;34m(self, hook_name, batch, logs)\u001b[0m\n\u001b[1;32m    343\u001b[0m       \u001b[0;32melse\u001b[0m\u001b[0;34m:\u001b[0m\u001b[0;34m\u001b[0m\u001b[0;34m\u001b[0m\u001b[0m\n\u001b[1;32m    344\u001b[0m         \u001b[0;32mif\u001b[0m \u001b[0mnumpy_logs\u001b[0m \u001b[0;32mis\u001b[0m \u001b[0;32mNone\u001b[0m\u001b[0;34m:\u001b[0m  \u001b[0;31m# Only convert once.\u001b[0m\u001b[0;34m\u001b[0m\u001b[0;34m\u001b[0m\u001b[0m\n\u001b[0;32m--> 345\u001b[0;31m           \u001b[0mnumpy_logs\u001b[0m \u001b[0;34m=\u001b[0m \u001b[0mtf_utils\u001b[0m\u001b[0;34m.\u001b[0m\u001b[0mto_numpy_or_python_type\u001b[0m\u001b[0;34m(\u001b[0m\u001b[0mlogs\u001b[0m\u001b[0;34m)\u001b[0m\u001b[0;34m\u001b[0m\u001b[0;34m\u001b[0m\u001b[0m\n\u001b[0m\u001b[1;32m    346\u001b[0m         \u001b[0mhook\u001b[0m\u001b[0;34m(\u001b[0m\u001b[0mbatch\u001b[0m\u001b[0;34m,\u001b[0m \u001b[0mnumpy_logs\u001b[0m\u001b[0;34m)\u001b[0m\u001b[0;34m\u001b[0m\u001b[0;34m\u001b[0m\u001b[0m\n\u001b[1;32m    347\u001b[0m \u001b[0;34m\u001b[0m\u001b[0m\n",
      "\u001b[0;32m~/anaconda3/lib/python3.8/site-packages/tensorflow/python/keras/utils/tf_utils.py\u001b[0m in \u001b[0;36mto_numpy_or_python_type\u001b[0;34m(tensors)\u001b[0m\n\u001b[1;32m    535\u001b[0m     \u001b[0;32mreturn\u001b[0m \u001b[0mt\u001b[0m  \u001b[0;31m# Don't turn ragged or sparse tensors to NumPy.\u001b[0m\u001b[0;34m\u001b[0m\u001b[0;34m\u001b[0m\u001b[0m\n\u001b[1;32m    536\u001b[0m \u001b[0;34m\u001b[0m\u001b[0m\n\u001b[0;32m--> 537\u001b[0;31m   \u001b[0;32mreturn\u001b[0m \u001b[0mnest\u001b[0m\u001b[0;34m.\u001b[0m\u001b[0mmap_structure\u001b[0m\u001b[0;34m(\u001b[0m\u001b[0m_to_single_numpy_or_python_type\u001b[0m\u001b[0;34m,\u001b[0m \u001b[0mtensors\u001b[0m\u001b[0;34m)\u001b[0m\u001b[0;34m\u001b[0m\u001b[0;34m\u001b[0m\u001b[0m\n\u001b[0m\u001b[1;32m    538\u001b[0m \u001b[0;34m\u001b[0m\u001b[0m\n\u001b[1;32m    539\u001b[0m \u001b[0;34m\u001b[0m\u001b[0m\n",
      "\u001b[0;32m~/anaconda3/lib/python3.8/site-packages/tensorflow/python/util/nest.py\u001b[0m in \u001b[0;36mmap_structure\u001b[0;34m(func, *structure, **kwargs)\u001b[0m\n\u001b[1;32m    633\u001b[0m \u001b[0;34m\u001b[0m\u001b[0m\n\u001b[1;32m    634\u001b[0m   return pack_sequence_as(\n\u001b[0;32m--> 635\u001b[0;31m       \u001b[0mstructure\u001b[0m\u001b[0;34m[\u001b[0m\u001b[0;36m0\u001b[0m\u001b[0;34m]\u001b[0m\u001b[0;34m,\u001b[0m \u001b[0;34m[\u001b[0m\u001b[0mfunc\u001b[0m\u001b[0;34m(\u001b[0m\u001b[0;34m*\u001b[0m\u001b[0mx\u001b[0m\u001b[0;34m)\u001b[0m \u001b[0;32mfor\u001b[0m \u001b[0mx\u001b[0m \u001b[0;32min\u001b[0m \u001b[0mentries\u001b[0m\u001b[0;34m]\u001b[0m\u001b[0;34m,\u001b[0m\u001b[0;34m\u001b[0m\u001b[0;34m\u001b[0m\u001b[0m\n\u001b[0m\u001b[1;32m    636\u001b[0m       expand_composites=expand_composites)\n\u001b[1;32m    637\u001b[0m \u001b[0;34m\u001b[0m\u001b[0m\n",
      "\u001b[0;32m~/anaconda3/lib/python3.8/site-packages/tensorflow/python/util/nest.py\u001b[0m in \u001b[0;36m<listcomp>\u001b[0;34m(.0)\u001b[0m\n\u001b[1;32m    633\u001b[0m \u001b[0;34m\u001b[0m\u001b[0m\n\u001b[1;32m    634\u001b[0m   return pack_sequence_as(\n\u001b[0;32m--> 635\u001b[0;31m       \u001b[0mstructure\u001b[0m\u001b[0;34m[\u001b[0m\u001b[0;36m0\u001b[0m\u001b[0;34m]\u001b[0m\u001b[0;34m,\u001b[0m \u001b[0;34m[\u001b[0m\u001b[0mfunc\u001b[0m\u001b[0;34m(\u001b[0m\u001b[0;34m*\u001b[0m\u001b[0mx\u001b[0m\u001b[0;34m)\u001b[0m \u001b[0;32mfor\u001b[0m \u001b[0mx\u001b[0m \u001b[0;32min\u001b[0m \u001b[0mentries\u001b[0m\u001b[0;34m]\u001b[0m\u001b[0;34m,\u001b[0m\u001b[0;34m\u001b[0m\u001b[0;34m\u001b[0m\u001b[0m\n\u001b[0m\u001b[1;32m    636\u001b[0m       expand_composites=expand_composites)\n\u001b[1;32m    637\u001b[0m \u001b[0;34m\u001b[0m\u001b[0m\n",
      "\u001b[0;32m~/anaconda3/lib/python3.8/site-packages/tensorflow/python/keras/utils/tf_utils.py\u001b[0m in \u001b[0;36m_to_single_numpy_or_python_type\u001b[0;34m(t)\u001b[0m\n\u001b[1;32m    531\u001b[0m   \u001b[0;32mdef\u001b[0m \u001b[0m_to_single_numpy_or_python_type\u001b[0m\u001b[0;34m(\u001b[0m\u001b[0mt\u001b[0m\u001b[0;34m)\u001b[0m\u001b[0;34m:\u001b[0m\u001b[0;34m\u001b[0m\u001b[0;34m\u001b[0m\u001b[0m\n\u001b[1;32m    532\u001b[0m     \u001b[0;32mif\u001b[0m \u001b[0misinstance\u001b[0m\u001b[0;34m(\u001b[0m\u001b[0mt\u001b[0m\u001b[0;34m,\u001b[0m \u001b[0mops\u001b[0m\u001b[0;34m.\u001b[0m\u001b[0mTensor\u001b[0m\u001b[0;34m)\u001b[0m\u001b[0;34m:\u001b[0m\u001b[0;34m\u001b[0m\u001b[0;34m\u001b[0m\u001b[0m\n\u001b[0;32m--> 533\u001b[0;31m       \u001b[0mx\u001b[0m \u001b[0;34m=\u001b[0m \u001b[0mt\u001b[0m\u001b[0;34m.\u001b[0m\u001b[0mnumpy\u001b[0m\u001b[0;34m(\u001b[0m\u001b[0;34m)\u001b[0m\u001b[0;34m\u001b[0m\u001b[0;34m\u001b[0m\u001b[0m\n\u001b[0m\u001b[1;32m    534\u001b[0m       \u001b[0;32mreturn\u001b[0m \u001b[0mx\u001b[0m\u001b[0;34m.\u001b[0m\u001b[0mitem\u001b[0m\u001b[0;34m(\u001b[0m\u001b[0;34m)\u001b[0m \u001b[0;32mif\u001b[0m \u001b[0mnp\u001b[0m\u001b[0;34m.\u001b[0m\u001b[0mndim\u001b[0m\u001b[0;34m(\u001b[0m\u001b[0mx\u001b[0m\u001b[0;34m)\u001b[0m \u001b[0;34m==\u001b[0m \u001b[0;36m0\u001b[0m \u001b[0;32melse\u001b[0m \u001b[0mx\u001b[0m\u001b[0;34m\u001b[0m\u001b[0;34m\u001b[0m\u001b[0m\n\u001b[1;32m    535\u001b[0m     \u001b[0;32mreturn\u001b[0m \u001b[0mt\u001b[0m  \u001b[0;31m# Don't turn ragged or sparse tensors to NumPy.\u001b[0m\u001b[0;34m\u001b[0m\u001b[0;34m\u001b[0m\u001b[0m\n",
      "\u001b[0;32m~/anaconda3/lib/python3.8/site-packages/tensorflow/python/framework/ops.py\u001b[0m in \u001b[0;36mnumpy\u001b[0;34m(self)\u001b[0m\n\u001b[1;32m   1061\u001b[0m     \"\"\"\n\u001b[1;32m   1062\u001b[0m     \u001b[0;31m# TODO(slebedev): Consider avoiding a copy for non-CPU or remote tensors.\u001b[0m\u001b[0;34m\u001b[0m\u001b[0;34m\u001b[0m\u001b[0;34m\u001b[0m\u001b[0m\n\u001b[0;32m-> 1063\u001b[0;31m     \u001b[0mmaybe_arr\u001b[0m \u001b[0;34m=\u001b[0m \u001b[0mself\u001b[0m\u001b[0;34m.\u001b[0m\u001b[0m_numpy\u001b[0m\u001b[0;34m(\u001b[0m\u001b[0;34m)\u001b[0m  \u001b[0;31m# pylint: disable=protected-access\u001b[0m\u001b[0;34m\u001b[0m\u001b[0;34m\u001b[0m\u001b[0m\n\u001b[0m\u001b[1;32m   1064\u001b[0m     \u001b[0;32mreturn\u001b[0m \u001b[0mmaybe_arr\u001b[0m\u001b[0;34m.\u001b[0m\u001b[0mcopy\u001b[0m\u001b[0;34m(\u001b[0m\u001b[0;34m)\u001b[0m \u001b[0;32mif\u001b[0m \u001b[0misinstance\u001b[0m\u001b[0;34m(\u001b[0m\u001b[0mmaybe_arr\u001b[0m\u001b[0;34m,\u001b[0m \u001b[0mnp\u001b[0m\u001b[0;34m.\u001b[0m\u001b[0mndarray\u001b[0m\u001b[0;34m)\u001b[0m \u001b[0;32melse\u001b[0m \u001b[0mmaybe_arr\u001b[0m\u001b[0;34m\u001b[0m\u001b[0;34m\u001b[0m\u001b[0m\n\u001b[1;32m   1065\u001b[0m \u001b[0;34m\u001b[0m\u001b[0m\n",
      "\u001b[0;32m~/anaconda3/lib/python3.8/site-packages/tensorflow/python/framework/ops.py\u001b[0m in \u001b[0;36m_numpy\u001b[0;34m(self)\u001b[0m\n\u001b[1;32m   1027\u001b[0m   \u001b[0;32mdef\u001b[0m \u001b[0m_numpy\u001b[0m\u001b[0;34m(\u001b[0m\u001b[0mself\u001b[0m\u001b[0;34m)\u001b[0m\u001b[0;34m:\u001b[0m\u001b[0;34m\u001b[0m\u001b[0;34m\u001b[0m\u001b[0m\n\u001b[1;32m   1028\u001b[0m     \u001b[0;32mtry\u001b[0m\u001b[0;34m:\u001b[0m\u001b[0;34m\u001b[0m\u001b[0;34m\u001b[0m\u001b[0m\n\u001b[0;32m-> 1029\u001b[0;31m       \u001b[0;32mreturn\u001b[0m \u001b[0mself\u001b[0m\u001b[0;34m.\u001b[0m\u001b[0m_numpy_internal\u001b[0m\u001b[0;34m(\u001b[0m\u001b[0;34m)\u001b[0m\u001b[0;34m\u001b[0m\u001b[0;34m\u001b[0m\u001b[0m\n\u001b[0m\u001b[1;32m   1030\u001b[0m     \u001b[0;32mexcept\u001b[0m \u001b[0mcore\u001b[0m\u001b[0;34m.\u001b[0m\u001b[0m_NotOkStatusException\u001b[0m \u001b[0;32mas\u001b[0m \u001b[0me\u001b[0m\u001b[0;34m:\u001b[0m  \u001b[0;31m# pylint: disable=protected-access\u001b[0m\u001b[0;34m\u001b[0m\u001b[0;34m\u001b[0m\u001b[0m\n\u001b[1;32m   1031\u001b[0m       \u001b[0msix\u001b[0m\u001b[0;34m.\u001b[0m\u001b[0mraise_from\u001b[0m\u001b[0;34m(\u001b[0m\u001b[0mcore\u001b[0m\u001b[0;34m.\u001b[0m\u001b[0m_status_to_exception\u001b[0m\u001b[0;34m(\u001b[0m\u001b[0me\u001b[0m\u001b[0;34m.\u001b[0m\u001b[0mcode\u001b[0m\u001b[0;34m,\u001b[0m \u001b[0me\u001b[0m\u001b[0;34m.\u001b[0m\u001b[0mmessage\u001b[0m\u001b[0;34m)\u001b[0m\u001b[0;34m,\u001b[0m \u001b[0;32mNone\u001b[0m\u001b[0;34m)\u001b[0m  \u001b[0;31m# pylint: disable=protected-access\u001b[0m\u001b[0;34m\u001b[0m\u001b[0;34m\u001b[0m\u001b[0m\n",
      "\u001b[0;31mKeyboardInterrupt\u001b[0m: "
     ]
    }
   ],
   "source": [
    "history = model.fit(X_train, y_train, epochs=100, batch_size=BATCH_SIZE, validation_data=(X_test, y_test),\n",
    "                    class_weight=class_weights, callbacks= [checkpoint, earlystopping, reducelr], shuffle=True)"
   ]
  },
  {
   "cell_type": "code",
   "execution_count": null,
   "metadata": {},
   "outputs": [],
   "source": [
    "NUM_EPOCHS = 1\n",
    "\n",
    "for epoch in range(NUM_EPOCHS):\n",
    "    for file in range(NUM_FILES):\n",
    "        NUM_FRAMES = X_train[file].shape[0]\n",
    "        for frame in range(NUM_FRAMES):\n",
    "        X_file_train = X_train[file][frame:frame+1]\n",
    "        y_file_train = y_train[file][frame:frame+1]\n",
    "        history = model.fit(X_file_train, y_file_train, epochs=1, batch_size=1, \n",
    "                    class_weight=class_weights, callbacks= [checkpoint, earlystopping, reducelr], shuffle=True)"
   ]
  },
  {
   "cell_type": "code",
   "execution_count": null,
   "metadata": {},
   "outputs": [],
   "source": [
    "plt.plot(history.history['val_accuracy'])"
   ]
  },
  {
   "cell_type": "markdown",
   "metadata": {},
   "source": [
    "### Contextual Results"
   ]
  },
  {
   "cell_type": "code",
   "execution_count": 54,
   "metadata": {},
   "outputs": [
    {
     "name": "stdout",
     "output_type": "stream",
     "text": [
      "Loaded best checkpoint!\n"
     ]
    }
   ],
   "source": [
    "model.load_weights('checkpoints/{}.h5'.format(MODEL_NAME))\n",
    "print('Loaded best checkpoint!')"
   ]
  },
  {
   "cell_type": "code",
   "execution_count": 55,
   "metadata": {},
   "outputs": [
    {
     "data": {
      "text/plain": [
       "'convlstm_2_1000'"
      ]
     },
     "execution_count": 55,
     "metadata": {},
     "output_type": "execute_result"
    }
   ],
   "source": [
    "MODEL_NAME"
   ]
  },
  {
   "cell_type": "code",
   "execution_count": null,
   "metadata": {},
   "outputs": [],
   "source": [
    "labels_test = ohe.inverse_transform(y_test).flatten()"
   ]
  },
  {
   "cell_type": "code",
   "execution_count": null,
   "metadata": {},
   "outputs": [],
   "source": [
    "pred = model.predict(X_test)"
   ]
  },
  {
   "cell_type": "code",
   "execution_count": null,
   "metadata": {},
   "outputs": [],
   "source": [
    "np.unique(labels_test)"
   ]
  },
  {
   "cell_type": "code",
   "execution_count": null,
   "metadata": {},
   "outputs": [],
   "source": [
    "encoding = {label: ohe.transform(np.array(label).reshape(-1,1)).toarray() for label in np.unique(labels_test)}\n",
    "\n",
    "contexts = {\n",
    "    'monolithic': ['alarm-clock', 'baby-cry', 'blender', 'car-horn', 'cat-meow',\n",
    "       'chopping', 'cooking', 'cough', 'dishwasher', 'dog-bark', 'door',\n",
    "       'doorbell', 'drill', 'engine', 'flush', 'hair-dryer', 'hammer',\n",
    "       'hazard-alarm', 'knock', 'laugh', 'microwave', 'phone-ring', 'saw',\n",
    "       'shaver', 'snore', 'speech', 'toothbrush', 'typing', 'vacuum',\n",
    "       'water-running'],\n",
    "    'bathroom': ['water-running', 'shaver', 'toothbrush', 'flush', 'hair-dryer'],\n",
    "    'kitchen': ['hazard-alarm', 'speech', 'chopping', 'water-running', 'microwave', 'blender', 'dishwasher', 'cooking'],\n",
    "    'bedroom': ['speech', 'baby-cry', 'cough', 'snore', 'alarm-clock'],\n",
    "    'office': ['phone-ring', 'speech', 'cough', 'door', 'knock', 'typing'],\n",
    "    'entrance': ['speech', 'door', 'knock', 'doorbell', 'laugh'],\n",
    "    'workshop': ['drill', 'hazard-alarm', 'speech', 'vacuum', 'hammer', 'saw'],\n",
    "    'outdoor': ['dog-bark', 'hazard-alarm', 'speech', 'car-horn', 'engine', 'cat-meow']\n",
    "}\n",
    "\n",
    "context_encoding = {}\n",
    "for context in contexts.keys():\n",
    "    context_encoding[context] = np.zeros((1,30))\n",
    "    for activity in contexts[context]:\n",
    "        context_encoding[context] += encoding[activity]    "
   ]
  },
  {
   "cell_type": "code",
   "execution_count": null,
   "metadata": {},
   "outputs": [],
   "source": [
    "for context in contexts.keys():\n",
    "#     context = list(contexts.keys())[0]\n",
    "    valid_idx = [i for i, label in enumerate(labels_test) if label in contexts[context]]\n",
    "    valid_pred = pred[valid_idx]\n",
    "    valid_labels = labels_test[valid_idx]\n",
    "    valid_pred = np.argmax(valid_pred * context_encoding[context], axis=1)\n",
    "    valid_pred = [ohe.categories_[0][pr] for pr in valid_pred]\n",
    "    acc = accuracy_score(valid_labels, valid_pred)\n",
    "    f1 = f1_score(valid_labels, valid_pred, average='weighted')\n",
    "    conf_mat = confusion_matrix(valid_labels, valid_pred, normalize='true')\n",
    "    label_names = np.unique(valid_labels)\n",
    "    print('{},{},{},{},{}'.format(sfreq,context,acc,f1,sec))\n",
    "    # fig, ax = plt.subplots(figsize=(13,10))\n",
    "    # sns.heatmap(conf_mat, cmap='Blues', ax=ax, xticklabels=label_names, yticklabels=label_names, annot=False)\n",
    "    # ax.set_title('sFreq: {}, Context: {}, Acc: {}'.format(sfreq,context,acc))\n",
    "    # ax.set_xlabel('Predicted Label')\n",
    "    # ax.set_ylabel('True Label')"
   ]
  },
  {
   "cell_type": "code",
   "execution_count": 70,
   "metadata": {},
   "outputs": [
    {
     "data": {
      "text/plain": [
       "12224"
      ]
     },
     "execution_count": 70,
     "metadata": {},
     "output_type": "execute_result"
    }
   ],
   "source": [
    "len(X_train)"
   ]
  },
  {
   "cell_type": "markdown",
   "metadata": {},
   "source": [
    "### File-Level Metrics "
   ]
  },
  {
   "cell_type": "code",
   "execution_count": null,
   "metadata": {},
   "outputs": [],
   "source": [
    "num_bands = 64\n",
    "X_test = np.load('temporal_data/{}sec/features_test_{}.npy'.format(sec, sfreq), allow_pickle=True)\n",
    "y_test = np.load('temporal_data/{}sec/labels_test_{}.npy'.format(sec, sfreq), allow_pickle=True)\n",
    "\n",
    "X_test = np.concatenate(X_test)\n",
    "y_test = np.concatenate(y_test)    \n",
    "\n",
    "valid_idx = []\n",
    "for i in range(len(X_test)):\n",
    "    if len(X_test[i] == 3):\n",
    "        valid_idx.append(i)\n",
    "    elif len(X_test[i] != 0):\n",
    "        print('ghotala! @ {}'.format(i))\n",
    "\n",
    "X_test = X_test[valid_idx]\n",
    "y_test = y_test[valid_idx]\n",
    "\n",
    "X_test = [file.reshape((-1, NUM_BANDS, NUM_FRAMES, 1)) for file in X_test]\n",
    "y_test = [ohe.transform(np.array(file).reshape(-1,1)).toarray().reshape((-1, NUM_CLASSES)) for file in y_test]"
   ]
  },
  {
   "cell_type": "code",
   "execution_count": null,
   "metadata": {},
   "outputs": [],
   "source": [
    "model.load_weights('checkpoints/{}.h5'.format(MODEL_NAME))\n",
    "print('Loaded best checkpoint!')"
   ]
  },
  {
   "cell_type": "code",
   "execution_count": null,
   "metadata": {},
   "outputs": [],
   "source": [
    "labels_test = np.array([ohe.inverse_transform(file).flatten() for file in y_test])"
   ]
  },
  {
   "cell_type": "code",
   "execution_count": null,
   "metadata": {},
   "outputs": [],
   "source": [
    "pred = np.array([model.predict(file) for file in X_test])"
   ]
  },
  {
   "cell_type": "code",
   "execution_count": null,
   "metadata": {},
   "outputs": [],
   "source": [
    "pred_time = []\n",
    "for file in tqdm(X_test):\n",
    "    for i in range(len(file)):\n",
    "        frame = file[i:i+1]\n",
    "        st = time.time()\n",
    "        prediction = model.predict(frame)\n",
    "        en = time.time()\n",
    "        pred_time.append(en-st)"
   ]
  },
  {
   "cell_type": "code",
   "execution_count": null,
   "metadata": {},
   "outputs": [],
   "source": [
    "print('{},{}'.format(sfreq, np.mean(pred_time)))"
   ]
  },
  {
   "cell_type": "code",
   "execution_count": null,
   "metadata": {},
   "outputs": [],
   "source": [
    "encoding = {label: ohe.transform(np.array(label).reshape(-1,1)).toarray() for label in np.unique(np.concatenate(labels_test).flatten())}\n",
    "\n",
    "contexts = {\n",
    "    'monolithic': ['alarm-clock', 'baby-cry', 'blender', 'car-horn', 'cat-meow',\n",
    "       'chopping', 'cooking', 'cough', 'dishwasher', 'dog-bark', 'door',\n",
    "       'doorbell', 'drill', 'engine', 'flush', 'hair-dryer', 'hammer',\n",
    "       'hazard-alarm', 'knock', 'laugh', 'microwave', 'phone-ring', 'saw',\n",
    "       'shaver', 'snore', 'speech', 'toothbrush', 'typing', 'vacuum',\n",
    "       'water-running'],\n",
    "    'bathroom': ['water-running', 'shaver', 'toothbrush', 'flush', 'hair-dryer'],\n",
    "    'kitchen': ['hazard-alarm', 'speech', 'chopping', 'water-running', 'microwave', 'blender', 'dishwasher', 'cooking'],\n",
    "    'bedroom': ['speech', 'baby-cry', 'cough', 'snore', 'alarm-clock'],\n",
    "    'office': ['phone-ring', 'speech', 'cough', 'door', 'knock', 'typing'],\n",
    "    'entrance': ['speech', 'door', 'knock', 'doorbell', 'laugh'],\n",
    "    'workshop': ['drill', 'hazard-alarm', 'speech', 'vacuum', 'hammer', 'saw'],\n",
    "    'outdoor': ['dog-bark', 'hazard-alarm', 'speech', 'car-horn', 'engine', 'cat-meow']\n",
    "}\n",
    "\n",
    "context_encoding = {}\n",
    "for context in contexts.keys():\n",
    "    context_encoding[context] = np.zeros((1,30))\n",
    "    for activity in contexts[context]:\n",
    "        context_encoding[context] += encoding[activity]    "
   ]
  },
  {
   "cell_type": "code",
   "execution_count": null,
   "metadata": {},
   "outputs": [],
   "source": []
  },
  {
   "cell_type": "code",
   "execution_count": null,
   "metadata": {},
   "outputs": [],
   "source": [
    "for context in contexts.keys():\n",
    "    valid_idx = [i for i, label in enumerate(labels_test) if label[0] in contexts[context]]\n",
    "    valid_pred = pred[valid_idx]\n",
    "    valid_labels = labels_test[valid_idx]\n",
    "    valid_pred = [np.argmax(file * context_encoding[context], axis=1) for file in valid_pred]\n",
    "    # Transform to per file level labels\n",
    "    valid_pred = [ohe.categories_[0][mode(file)] for file in valid_pred]\n",
    "    valid_labels = [file[0] for file in valid_labels]\n",
    "    acc = accuracy_score(valid_labels, valid_pred)\n",
    "    f1 = f1_score(valid_labels, valid_pred, average='weighted')\n",
    "    conf_mat = confusion_matrix(valid_labels, valid_pred, normalize='true')\n",
    "    label_names = np.unique(valid_labels)\n",
    "    print('{},{},{},{}'.format(sfreq, context, acc, f1))\n",
    "    fig, ax = plt.subplots(figsize=(13,10))\n",
    "    sns.heatmap(conf_mat, cmap='Blues', ax=ax, xticklabels=label_names, yticklabels=label_names, annot=False)\n",
    "    ax.set_title('sFreq: {}, Context: {}, Acc: {}'.format(sfreq,context,acc))\n",
    "    ax.set_xlabel('Predicted Label')\n",
    "    ax.set_ylabel('True Label')"
   ]
  }
 ],
 "metadata": {
  "accelerator": "GPU",
  "colab": {
   "authorship_tag": "ABX9TyOZ3nl0I+mVkmJRBp9GYBH+",
   "name": "model.ipynb",
   "provenance": []
  },
  "kernelspec": {
   "display_name": "Python 3",
   "language": "python",
   "name": "python3"
  },
  "language_info": {
   "codemirror_mode": {
    "name": "ipython",
    "version": 3
   },
   "file_extension": ".py",
   "mimetype": "text/x-python",
   "name": "python",
   "nbconvert_exporter": "python",
   "pygments_lexer": "ipython3",
   "version": "3.8.3"
  }
 },
 "nbformat": 4,
 "nbformat_minor": 1
}

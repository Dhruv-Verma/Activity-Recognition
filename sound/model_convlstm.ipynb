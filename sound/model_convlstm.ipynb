{
 "cells": [
  {
   "cell_type": "code",
   "execution_count": null,
   "metadata": {
    "colab": {
     "base_uri": "https://localhost:8080/",
     "height": 364
    },
    "executionInfo": {
     "elapsed": 1296,
     "status": "ok",
     "timestamp": 1601570430822,
     "user": {
      "displayName": "Dhruv Verma",
      "photoUrl": "https://lh3.googleusercontent.com/a-/AOh14GjPErif29dJTpYr10Kx4Olz-3fBzlJHUINscaF57A=s64",
      "userId": "04055500837937310636"
     },
     "user_tz": -330
    },
    "id": "YxPWN60xnHWF",
    "outputId": "c229db07-8588-4b5b-c3d6-2bb66bf94d78"
   },
   "outputs": [],
   "source": [
    "!nvidia-smi"
   ]
  },
  {
   "cell_type": "code",
   "execution_count": 73,
   "metadata": {
    "executionInfo": {
     "elapsed": 10625,
     "status": "ok",
     "timestamp": 1601570503201,
     "user": {
      "displayName": "Dhruv Verma",
      "photoUrl": "https://lh3.googleusercontent.com/a-/AOh14GjPErif29dJTpYr10Kx4Olz-3fBzlJHUINscaF57A=s64",
      "userId": "04055500837937310636"
     },
     "user_tz": -330
    },
    "id": "EVhv2x0omPUX"
   },
   "outputs": [],
   "source": [
    "import os\n",
    "import numpy as np\n",
    "import vggish_params\n",
    "import vggish_keras\n",
    "import numpy as np\n",
    "import matplotlib.pyplot as plt\n",
    "import seaborn as sns\n",
    "import pickle\n",
    "from sklearn.preprocessing import OneHotEncoder\n",
    "from keras.layers import Dense\n",
    "from keras.models import Model\n",
    "from keras.optimizers import Adam\n",
    "from keras.losses import CategoricalCrossentropy\n",
    "from keras.metrics import Accuracy, Precision, Recall\n",
    "from sklearn.utils import class_weight\n",
    "from keras.callbacks import EarlyStopping, ModelCheckpoint, ReduceLROnPlateau\n",
    "import seaborn as sns\n",
    "from sklearn.model_selection import train_test_split\n",
    "from sklearn.metrics import accuracy_score, f1_score, confusion_matrix\n",
    "from statistics import mode\n",
    "from tqdm import tqdm, trange\n",
    "import time"
   ]
  },
  {
   "cell_type": "code",
   "execution_count": 82,
   "metadata": {},
   "outputs": [],
   "source": [
    "sfreq = 1000\n",
    "sec = 2"
   ]
  },
  {
   "cell_type": "code",
   "execution_count": 83,
   "metadata": {
    "executionInfo": {
     "elapsed": 182202,
     "status": "ok",
     "timestamp": 1601570827794,
     "user": {
      "displayName": "Dhruv Verma",
      "photoUrl": "https://lh3.googleusercontent.com/a-/AOh14GjPErif29dJTpYr10Kx4Olz-3fBzlJHUINscaF57A=s64",
      "userId": "04055500837937310636"
     },
     "user_tz": -330
    },
    "id": "Y4WQOp9S_tP2"
   },
   "outputs": [],
   "source": [
    "X_train = np.load('temporal_data/{}sec/features_train_{}.npy'.format(sec, sfreq), allow_pickle=True)\n",
    "y_train = np.load('temporal_data/{}sec/labels_train_{}.npy'.format(sec, sfreq), allow_pickle=True)\n",
    "\n",
    "speech_index = 23\n",
    "\n",
    "X_train = list(X_train)\n",
    "y_train = list(y_train)\n",
    "del X_train[speech_index], y_train[speech_index]\n",
    "\n",
    "X_train = np.concatenate(X_train)\n",
    "y_train = np.concatenate(y_train)    \n",
    "\n",
    "valid_idx = []\n",
    "for i in range(len(X_train)):\n",
    "    if len(X_train[i] == 3):\n",
    "        valid_idx.append(i)\n",
    "    elif len(X_train[i] != 0):\n",
    "        print('ghotala! @ {}'.format(i))\n",
    "\n",
    "X_train = X_train[valid_idx]\n",
    "y_train = y_train[valid_idx]\n",
    "\n",
    "shuffled_idx = np.arange(len(X_train))\n",
    "np.random.shuffle(shuffled_idx)\n",
    "\n",
    "X_train = X_train[shuffled_idx]\n",
    "y_train = y_train[shuffled_idx]\n",
    "\n",
    "# X_train = np.concatenate(X_train)\n",
    "# y_train = np.concatenate(y_train)\n",
    "\n",
    "NUM_BANDS = X_train[0].shape[1]\n",
    "NUM_FRAMES = X_train[0].shape[2]"
   ]
  },
  {
   "cell_type": "code",
   "execution_count": 92,
   "metadata": {},
   "outputs": [
    {
     "data": {
      "text/plain": [
       "<matplotlib.axes._subplots.AxesSubplot at 0x7f9cecf58370>"
      ]
     },
     "execution_count": 92,
     "metadata": {},
     "output_type": "execute_result"
    },
    {
     "data": {
      "image/png": "[encoded data removed]",
      "text/plain": [
       "<Figure size 432x288 with 2 Axes>"
      ]
     },
     "metadata": {
      "needs_background": "light"
     },
     "output_type": "display_data"
    }
   ],
   "source": [
    "sns.heatmap(X_train[1][5])"
   ]
  },
  {
   "cell_type": "code",
   "execution_count": 95,
   "metadata": {},
   "outputs": [
    {
     "data": {
      "text/plain": [
       "(232733,)"
      ]
     },
     "execution_count": 95,
     "metadata": {},
     "output_type": "execute_result"
    }
   ],
   "source": [
    "np.concatenate(y_train).shape"
   ]
  },
  {
   "cell_type": "code",
   "execution_count": 96,
   "metadata": {
    "collapsed": true,
    "id": "d5lV09hPoyUA"
   },
   "outputs": [
    {
     "data": {
      "text/plain": [
       "{'alarm-clock': 2.123088852399197,\n",
       " 'baby-cry': 1.332880893882904,\n",
       " 'blender': 2.856986778949436,\n",
       " 'car-horn': 13.006930084390543,\n",
       " 'cat-meow': 5.060073053006914,\n",
       " 'chopping': 3.120247224754652,\n",
       " 'cooking': 0.6642340557911741,\n",
       " 'cough': 4.257440775633404,\n",
       " 'dishwasher': 1.2547335619244786,\n",
       " 'dog-bark': 0.7516414594051668,\n",
       " 'door': 2.6321009714886734,\n",
       " 'doorbell': 6.344091590568352,\n",
       " 'drill': 1.2015684776267355,\n",
       " 'engine': 0.31368339048111965,\n",
       " 'flush': 1.1078514442392278,\n",
       " 'hair-dryer': 1.3145415007483974,\n",
       " 'hammer': 0.7489758154054098,\n",
       " 'hazard-alarm': 0.3492743117930524,\n",
       " 'knock': 3.6445394468978045,\n",
       " 'laugh': 2.52208543748239,\n",
       " 'microwave': 0.938299527893016,\n",
       " 'phone-ring': 1.1121502026148788,\n",
       " 'saw': 1.388696290373588,\n",
       " 'shaver': 1.9144264938141615,\n",
       " 'snore': 3.010231006027369,\n",
       " 'toothbrush': 4.160329633006203,\n",
       " 'typing': 0.479321260351727,\n",
       " 'vacuum': 0.6073313048334317,\n",
       " 'water-running': 0.2292019152929961}"
      ]
     },
     "execution_count": 96,
     "metadata": {},
     "output_type": "execute_result"
    }
   ],
   "source": [
    "weights = class_weight.compute_class_weight('balanced',\n",
    "                                            np.unique(np.concatenate(y_train)),\n",
    "                                            np.concatenate(y_train))\n",
    "class_weights = dict(enumerate(weights))\n",
    "class_name_weights = {np.unique(np.concatenate(y_train))[key]:class_weights[key] for key in class_weights.keys()}\n",
    "class_name_weights"
   ]
  },
  {
   "cell_type": "code",
   "execution_count": 97,
   "metadata": {
    "id": "S_H-1vfmo2OO"
   },
   "outputs": [
    {
     "name": "stderr",
     "output_type": "stream",
     "text": [
      "100%|██████████| 12224/12224 [00:02<00:00, 5688.36it/s]\n"
     ]
    }
   ],
   "source": [
    "ohe = OneHotEncoder()\n",
    "ohe.fit(np.concatenate(y_train).reshape((-1,1)))\n",
    "\n",
    "NUM_CLASSES = len(weights)\n",
    "NUM_FILES = len(y_train)\n",
    "\n",
    "y_ohe = []\n",
    "for i in tqdm(range(NUM_FILES)):\n",
    "    file_ohe = ohe.transform(np.array(y_train[i]).reshape((-1,1))).toarray().reshape((-1, NUM_CLASSES))\n",
    "    y_ohe.append(file_ohe)              \n",
    "    X_train[i] = X_train[i].reshape((-1, NUM_BANDS, NUM_FRAMES, 1))\n",
    "    \n",
    "y_train = np.array(y_ohe)"
   ]
  },
  {
   "cell_type": "code",
   "execution_count": 102,
   "metadata": {},
   "outputs": [
    {
     "data": {
      "text/plain": [
       "(1, 64, 21, 1)"
      ]
     },
     "execution_count": 102,
     "metadata": {},
     "output_type": "execute_result"
    }
   ],
   "source": [
    "X_train[6].shape"
   ]
  },
  {
   "cell_type": "code",
   "execution_count": 105,
   "metadata": {},
   "outputs": [
    {
     "name": "stderr",
     "output_type": "stream",
     "text": [
      "100%|██████████| 1176/1176 [00:00<00:00, 5628.49it/s]\n"
     ]
    }
   ],
   "source": [
    "X_test = np.load('temporal_data/{}sec/features_test_{}.npy'.format(sec, sfreq), allow_pickle=True)\n",
    "y_test = np.load('temporal_data/{}sec/labels_test_{}.npy'.format(sec, sfreq), allow_pickle=True)\n",
    "\n",
    "X_test = list(X_test)\n",
    "y_test = list(y_test)\n",
    "del X_test[speech_index], y_test[speech_index]\n",
    "\n",
    "X_test = np.concatenate(X_test)\n",
    "y_test = np.concatenate(y_test)      \n",
    "\n",
    "valid_idx = []\n",
    "for i in range(len(X_test)):\n",
    "    if len(X_test[i] == 3):\n",
    "        valid_idx.append(i)\n",
    "    elif len(X_test[i] != 0):\n",
    "        print('ghotala! @ {}'.format(i))\n",
    "    \n",
    "X_test = X_test[valid_idx]\n",
    "y_test = y_test[valid_idx]\n",
    "   \n",
    "shuffled_idx = np.arange(len(X_test))\n",
    "np.random.shuffle(shuffled_idx)\n",
    "\n",
    "X_test = X_test[shuffled_idx]\n",
    "y_test = y_test[shuffled_idx]\n",
    "\n",
    "# X_test = np.concatenate(X_test)\n",
    "# y_test = np.concatenate(y_test)\n",
    "\n",
    "NUM_TEST_FILES = len(y_test)\n",
    "\n",
    "y_ohe = []\n",
    "for i in tqdm(range(NUM_TEST_FILES)):\n",
    "    file_ohe = ohe.transform(np.array(y_test[i]).reshape((-1,1))).toarray().reshape((-1, NUM_CLASSES))\n",
    "    y_ohe.append(file_ohe)              \n",
    "    X_test[i] = X_test[i].reshape((-1, NUM_BANDS, NUM_FRAMES, 1))\n",
    "\n",
    "y_test = np.array(y_ohe)"
   ]
  },
  {
   "cell_type": "code",
   "execution_count": 132,
   "metadata": {},
   "outputs": [
    {
     "data": {
      "text/plain": [
       "(12224,)"
      ]
     },
     "execution_count": 132,
     "metadata": {},
     "output_type": "execute_result"
    }
   ],
   "source": [
    "X_train.shape"
   ]
  },
  {
   "cell_type": "code",
   "execution_count": 130,
   "metadata": {
    "scrolled": true
   },
   "outputs": [
    {
     "name": "stdout",
     "output_type": "stream",
     "text": [
      "X train shape (6, 64, 21, 1)\n",
      "X test  shape (1, 64, 21, 1)\n",
      "y train shape (6, 29)\n",
      "y test  shape (1, 29)\n"
     ]
    }
   ],
   "source": [
    "idx = 13\n",
    "print('X train shape {}'.format(X_train[idx].shape))\n",
    "print('X test  shape {}'.format(X_test[idx].shape))\n",
    "print('y train shape {}'.format(y_train[idx].shape))\n",
    "print('y test  shape {}'.format(y_test[idx].shape))"
   ]
  },
  {
   "cell_type": "code",
   "execution_count": 134,
   "metadata": {},
   "outputs": [
    {
     "name": "stdout",
     "output_type": "stream",
     "text": [
      "Model: \"model\"\n",
      "_________________________________________________________________\n",
      "Layer (type)                 Output Shape              Param #   \n",
      "=================================================================\n",
      "input_13 (InputLayer)        [(1, 64, 21, 1)]          0         \n",
      "_________________________________________________________________\n",
      "conv1 (Conv2D)               (1, 64, 21, 64)           640       \n",
      "_________________________________________________________________\n",
      "pool1 (MaxPooling2D)         (1, 32, 10, 64)           0         \n",
      "_________________________________________________________________\n",
      "conv2 (Conv2D)               (1, 32, 10, 128)          73856     \n",
      "_________________________________________________________________\n",
      "pool2 (MaxPooling2D)         (1, 16, 5, 128)           0         \n",
      "_________________________________________________________________\n",
      "conv3_1 (Conv2D)             (1, 16, 5, 256)           295168    \n",
      "_________________________________________________________________\n",
      "conv3_2 (Conv2D)             (1, 16, 5, 256)           590080    \n",
      "_________________________________________________________________\n",
      "pool3 (MaxPooling2D)         (1, 8, 2, 256)            0         \n",
      "_________________________________________________________________\n",
      "conv4_1 (Conv2D)             (1, 8, 2, 512)            1180160   \n",
      "_________________________________________________________________\n",
      "conv4_2 (Conv2D)             (1, 8, 2, 512)            2359808   \n",
      "_________________________________________________________________\n",
      "pool4 (MaxPooling2D)         (1, 4, 2, 512)            0         \n",
      "_________________________________________________________________\n",
      "flatten (Flatten)            (1, 4096)                 0         \n",
      "_________________________________________________________________\n",
      "reshape_9 (Reshape)          (1, 1, 4096)              0         \n",
      "_________________________________________________________________\n",
      "lstm (LSTM)                  (1, 256)                  4457472   \n",
      "_________________________________________________________________\n",
      "fc2 (Dense)                  (1, 128)                  32896     \n",
      "_________________________________________________________________\n",
      "prediction (Dense)           (1, 29)                   3741      \n",
      "=================================================================\n",
      "Total params: 8,993,821\n",
      "Trainable params: 8,993,821\n",
      "Non-trainable params: 0\n",
      "_________________________________________________________________\n"
     ]
    }
   ],
   "source": [
    "from keras.layers import Input, Dense, Conv2D, MaxPooling2D, Flatten, Dropout, LSTM, Reshape\n",
    "from keras.models import Model\n",
    "\n",
    "# Input\n",
    "input_shape = (NUM_BANDS, NUM_FRAMES, 1)\n",
    "batch_input_shape = (1, NUM_BANDS, NUM_FRAMES, 1)\n",
    "img_input = Input(batch_input_shape = batch_input_shape)\n",
    "\n",
    "# Block 1\n",
    "x = Conv2D(64, (3, 3), activation='relu', padding='same', name='conv1')(img_input)\n",
    "x = MaxPooling2D((2, 2), strides=(2, 2), name='pool1')(x)\n",
    "\n",
    "# Block 2\n",
    "x = Conv2D(128, (3, 3), activation='relu', padding='same', name='conv2')(x)\n",
    "x = MaxPooling2D((2, 2), strides=(2, 2), name='pool2')(x)\n",
    "\n",
    "# Block 3\n",
    "x = Conv2D(256, (3, 3), activation='relu', padding='same', name='conv3_1')(x)\n",
    "x = Conv2D(256, (3, 3), activation='relu', padding='same', name='conv3_2')(x)\n",
    "x = MaxPooling2D((2, 2), strides=(2, 2), name='pool3')(x)\n",
    "\n",
    "# Block 4\n",
    "x = Conv2D(512, (3, 3), activation='relu', padding='same', name='conv4_1')(x)\n",
    "x = Conv2D(512, (3, 3), activation='relu', padding='same', name='conv4_2')(x)\n",
    "x = MaxPooling2D((2, 1), strides=(2, 1), name='pool4')(x)\n",
    "\n",
    "x = Flatten(name='flatten')(x)\n",
    "\n",
    "# LSTM\n",
    "x = Reshape((1, -1))(x)\n",
    "x = LSTM(units = 256, stateful=True, name='lstm')(x)\n",
    "\n",
    "# # Block fc\n",
    "# x = Dense(1024, activation='relu', name='fc1_2')(x)\n",
    "# x = Dropout(0.4)(x)\n",
    "x = Dense(128,  activation='relu', name='fc2')(x)\n",
    "# x = Dropout(0.4)(x)\n",
    "x = Dense(NUM_CLASSES, activation='sigmoid', name='prediction')(x)\n",
    "model = Model(img_input, x, name='model')\n",
    "\n",
    "model.summary()"
   ]
  },
  {
   "cell_type": "code",
   "execution_count": 135,
   "metadata": {},
   "outputs": [],
   "source": [
    "MODEL_NAME = 'convlstm_{}_{}'.format(sec, sfreq)\n",
    "\n",
    "BATCH_SIZE = 1\n",
    "\n",
    "model.compile(optimizer='adam', loss='binary_crossentropy', metrics=['accuracy'])\n",
    "# model.load_weights('checkpoints/model_{}.h5'.format(sfreq))\n",
    "\n",
    "checkpoint = ModelCheckpoint('checkpoints/{}.h5'.format(MODEL_NAME), monitor='val_accuracy', verbose=1, save_best_only=True, mode='max')\n",
    "earlystopping = EarlyStopping(monitor='val_accuracy', patience=20, verbose=1)\n",
    "reducelr = ReduceLROnPlateau(monitor='val_accuracy', factor=0.1, patience=10, verbose=1, min_lr=0.000001)"
   ]
  },
  {
   "cell_type": "code",
   "execution_count": 36,
   "metadata": {},
   "outputs": [
    {
     "data": {
      "text/plain": [
       "(1, 64, 11, 1)"
      ]
     },
     "execution_count": 36,
     "metadata": {},
     "output_type": "execute_result"
    }
   ],
   "source": [
    "X_train[0][0:1].shape"
   ]
  },
  {
   "cell_type": "code",
   "execution_count": 136,
   "metadata": {},
   "outputs": [
    {
     "name": "stderr",
     "output_type": "stream",
     "text": [
      "epoch 1: Train: 100%|██████████| 12224/12224 [1:20:21<00:00,  2.54it/s, loss=0.157, accuracy=0.125]  \n",
      "epoch 1: Test: 100%|██████████| 1176/1176 [02:10<00:00,  9.01it/s, loss=0.159, accuracy=0.111]\n",
      "epoch 2: Train:   0%|          | 0/12224 [00:00<?, ?it/s]"
     ]
    },
    {
     "name": "stdout",
     "output_type": "stream",
     "text": [
      "val accuracy improved from 0.0 to 0.11084204167127609. saving model...\n",
      "\n"
     ]
    },
    {
     "name": "stderr",
     "output_type": "stream",
     "text": [
      "epoch 2: Train: 100%|██████████| 12224/12224 [1:17:03<00:00,  2.64it/s, loss=0.159, accuracy=0.117]  \n",
      "epoch 2: Test: 100%|██████████| 1176/1176 [02:09<00:00,  9.08it/s, loss=0.159, accuracy=0.11] \n",
      "epoch 3: Train:   0%|          | 0/12224 [00:00<?, ?it/s, loss=0.159, accuracy=0.11]"
     ]
    },
    {
     "name": "stdout",
     "output_type": "stream",
     "text": [
      "\n"
     ]
    },
    {
     "name": "stderr",
     "output_type": "stream",
     "text": [
      "epoch 3: Train: 100%|██████████| 12224/12224 [1:16:41<00:00,  2.66it/s, loss=0.159, accuracy=0.114]  \n",
      "epoch 3: Test: 100%|██████████| 1176/1176 [02:08<00:00,  9.14it/s, loss=0.16, accuracy=0.11] \n",
      "epoch 4: Train:   0%|          | 0/12224 [00:00<?, ?it/s, loss=0.16, accuracy=0.11]"
     ]
    },
    {
     "name": "stdout",
     "output_type": "stream",
     "text": [
      "\n"
     ]
    },
    {
     "name": "stderr",
     "output_type": "stream",
     "text": [
      "epoch 4: Train: 100%|██████████| 12224/12224 [1:16:48<00:00,  2.65it/s, loss=0.16, accuracy=0.113]   \n",
      "epoch 4: Test: 100%|██████████| 1176/1176 [02:08<00:00,  9.12it/s, loss=0.16, accuracy=0.11]\n",
      "epoch 5: Train:   0%|          | 0/12224 [00:00<?, ?it/s, loss=0.16, accuracy=0.11]"
     ]
    },
    {
     "name": "stdout",
     "output_type": "stream",
     "text": [
      "\n"
     ]
    },
    {
     "name": "stderr",
     "output_type": "stream",
     "text": [
      "epoch 5: Train: 100%|██████████| 12224/12224 [1:16:32<00:00,  2.66it/s, loss=0.16, accuracy=0.112]   \n",
      "epoch 5: Test: 100%|██████████| 1176/1176 [02:09<00:00,  9.05it/s, loss=0.16, accuracy=0.11]\n",
      "epoch 6: Train:   0%|          | 0/12224 [00:00<?, ?it/s, loss=0.16, accuracy=0.11]"
     ]
    },
    {
     "name": "stdout",
     "output_type": "stream",
     "text": [
      "\n"
     ]
    },
    {
     "name": "stderr",
     "output_type": "stream",
     "text": [
      "epoch 6: Train:  57%|█████▋    | 6986/12224 [43:17<32:27,  2.69it/s, loss=0.159, accuracy=0.111]  \n"
     ]
    },
    {
     "ename": "KeyboardInterrupt",
     "evalue": "",
     "output_type": "error",
     "traceback": [
      "\u001b[0;31m---------------------------------------------------------------------------\u001b[0m",
      "\u001b[0;31mKeyboardInterrupt\u001b[0m                         Traceback (most recent call last)",
      "\u001b[0;32m<ipython-input-136-1636e20a1d4a>\u001b[0m in \u001b[0;36m<module>\u001b[0;34m\u001b[0m\n\u001b[1;32m     17\u001b[0m             \u001b[0mX\u001b[0m \u001b[0;34m=\u001b[0m \u001b[0mX_batch\u001b[0m\u001b[0;34m[\u001b[0m\u001b[0mj\u001b[0m\u001b[0;34m:\u001b[0m\u001b[0mj\u001b[0m\u001b[0;34m+\u001b[0m\u001b[0;36m1\u001b[0m\u001b[0;34m]\u001b[0m\u001b[0;34m\u001b[0m\u001b[0;34m\u001b[0m\u001b[0m\n\u001b[1;32m     18\u001b[0m             \u001b[0my\u001b[0m \u001b[0;34m=\u001b[0m \u001b[0my_batch\u001b[0m\u001b[0;34m[\u001b[0m\u001b[0mj\u001b[0m\u001b[0;34m:\u001b[0m\u001b[0mj\u001b[0m\u001b[0;34m+\u001b[0m\u001b[0;36m1\u001b[0m\u001b[0;34m]\u001b[0m\u001b[0;34m\u001b[0m\u001b[0;34m\u001b[0m\u001b[0m\n\u001b[0;32m---> 19\u001b[0;31m             \u001b[0mmetrics\u001b[0m \u001b[0;34m=\u001b[0m \u001b[0mmodel\u001b[0m\u001b[0;34m.\u001b[0m\u001b[0mtrain_on_batch\u001b[0m\u001b[0;34m(\u001b[0m\u001b[0mX\u001b[0m\u001b[0;34m,\u001b[0m \u001b[0my\u001b[0m\u001b[0;34m,\u001b[0m \u001b[0mclass_weight\u001b[0m\u001b[0;34m=\u001b[0m\u001b[0mclass_weights\u001b[0m\u001b[0;34m,\u001b[0m \u001b[0mreset_metrics\u001b[0m\u001b[0;34m=\u001b[0m\u001b[0;32mFalse\u001b[0m\u001b[0;34m,\u001b[0m \u001b[0mreturn_dict\u001b[0m\u001b[0;34m=\u001b[0m\u001b[0;32mTrue\u001b[0m\u001b[0;34m)\u001b[0m\u001b[0;34m\u001b[0m\u001b[0;34m\u001b[0m\u001b[0m\n\u001b[0m\u001b[1;32m     20\u001b[0m         \u001b[0mlstm\u001b[0m \u001b[0;34m=\u001b[0m \u001b[0mmodel\u001b[0m\u001b[0;34m.\u001b[0m\u001b[0mget_layer\u001b[0m\u001b[0;34m(\u001b[0m\u001b[0;34m'lstm'\u001b[0m\u001b[0;34m)\u001b[0m\u001b[0;34m\u001b[0m\u001b[0;34m\u001b[0m\u001b[0m\n\u001b[1;32m     21\u001b[0m         \u001b[0mlstm\u001b[0m\u001b[0;34m.\u001b[0m\u001b[0mreset_states\u001b[0m\u001b[0;34m(\u001b[0m\u001b[0;34m)\u001b[0m\u001b[0;34m\u001b[0m\u001b[0;34m\u001b[0m\u001b[0m\n",
      "\u001b[0;32m~/anaconda3/lib/python3.8/site-packages/tensorflow/python/keras/engine/training.py\u001b[0m in \u001b[0;36mtrain_on_batch\u001b[0;34m(self, x, y, sample_weight, class_weight, reset_metrics, return_dict)\u001b[0m\n\u001b[1;32m   1693\u001b[0m                                                     class_weight)\n\u001b[1;32m   1694\u001b[0m       \u001b[0mtrain_function\u001b[0m \u001b[0;34m=\u001b[0m \u001b[0mself\u001b[0m\u001b[0;34m.\u001b[0m\u001b[0mmake_train_function\u001b[0m\u001b[0;34m(\u001b[0m\u001b[0;34m)\u001b[0m\u001b[0;34m\u001b[0m\u001b[0;34m\u001b[0m\u001b[0m\n\u001b[0;32m-> 1695\u001b[0;31m       \u001b[0mlogs\u001b[0m \u001b[0;34m=\u001b[0m \u001b[0mtrain_function\u001b[0m\u001b[0;34m(\u001b[0m\u001b[0miterator\u001b[0m\u001b[0;34m)\u001b[0m\u001b[0;34m\u001b[0m\u001b[0;34m\u001b[0m\u001b[0m\n\u001b[0m\u001b[1;32m   1696\u001b[0m \u001b[0;34m\u001b[0m\u001b[0m\n\u001b[1;32m   1697\u001b[0m     \u001b[0;32mif\u001b[0m \u001b[0mreset_metrics\u001b[0m\u001b[0;34m:\u001b[0m\u001b[0;34m\u001b[0m\u001b[0;34m\u001b[0m\u001b[0m\n",
      "\u001b[0;32m~/anaconda3/lib/python3.8/site-packages/tensorflow/python/eager/def_function.py\u001b[0m in \u001b[0;36m__call__\u001b[0;34m(self, *args, **kwds)\u001b[0m\n\u001b[1;32m    778\u001b[0m       \u001b[0;32melse\u001b[0m\u001b[0;34m:\u001b[0m\u001b[0;34m\u001b[0m\u001b[0;34m\u001b[0m\u001b[0m\n\u001b[1;32m    779\u001b[0m         \u001b[0mcompiler\u001b[0m \u001b[0;34m=\u001b[0m \u001b[0;34m\"nonXla\"\u001b[0m\u001b[0;34m\u001b[0m\u001b[0;34m\u001b[0m\u001b[0m\n\u001b[0;32m--> 780\u001b[0;31m         \u001b[0mresult\u001b[0m \u001b[0;34m=\u001b[0m \u001b[0mself\u001b[0m\u001b[0;34m.\u001b[0m\u001b[0m_call\u001b[0m\u001b[0;34m(\u001b[0m\u001b[0;34m*\u001b[0m\u001b[0margs\u001b[0m\u001b[0;34m,\u001b[0m \u001b[0;34m**\u001b[0m\u001b[0mkwds\u001b[0m\u001b[0;34m)\u001b[0m\u001b[0;34m\u001b[0m\u001b[0;34m\u001b[0m\u001b[0m\n\u001b[0m\u001b[1;32m    781\u001b[0m \u001b[0;34m\u001b[0m\u001b[0m\n\u001b[1;32m    782\u001b[0m       \u001b[0mnew_tracing_count\u001b[0m \u001b[0;34m=\u001b[0m \u001b[0mself\u001b[0m\u001b[0;34m.\u001b[0m\u001b[0m_get_tracing_count\u001b[0m\u001b[0;34m(\u001b[0m\u001b[0;34m)\u001b[0m\u001b[0;34m\u001b[0m\u001b[0;34m\u001b[0m\u001b[0m\n",
      "\u001b[0;32m~/anaconda3/lib/python3.8/site-packages/tensorflow/python/eager/def_function.py\u001b[0m in \u001b[0;36m_call\u001b[0;34m(self, *args, **kwds)\u001b[0m\n\u001b[1;32m    805\u001b[0m       \u001b[0;31m# In this case we have created variables on the first call, so we run the\u001b[0m\u001b[0;34m\u001b[0m\u001b[0;34m\u001b[0m\u001b[0;34m\u001b[0m\u001b[0m\n\u001b[1;32m    806\u001b[0m       \u001b[0;31m# defunned version which is guaranteed to never create variables.\u001b[0m\u001b[0;34m\u001b[0m\u001b[0;34m\u001b[0m\u001b[0;34m\u001b[0m\u001b[0m\n\u001b[0;32m--> 807\u001b[0;31m       \u001b[0;32mreturn\u001b[0m \u001b[0mself\u001b[0m\u001b[0;34m.\u001b[0m\u001b[0m_stateless_fn\u001b[0m\u001b[0;34m(\u001b[0m\u001b[0;34m*\u001b[0m\u001b[0margs\u001b[0m\u001b[0;34m,\u001b[0m \u001b[0;34m**\u001b[0m\u001b[0mkwds\u001b[0m\u001b[0;34m)\u001b[0m  \u001b[0;31m# pylint: disable=not-callable\u001b[0m\u001b[0;34m\u001b[0m\u001b[0;34m\u001b[0m\u001b[0m\n\u001b[0m\u001b[1;32m    808\u001b[0m     \u001b[0;32melif\u001b[0m \u001b[0mself\u001b[0m\u001b[0;34m.\u001b[0m\u001b[0m_stateful_fn\u001b[0m \u001b[0;32mis\u001b[0m \u001b[0;32mnot\u001b[0m \u001b[0;32mNone\u001b[0m\u001b[0;34m:\u001b[0m\u001b[0;34m\u001b[0m\u001b[0;34m\u001b[0m\u001b[0m\n\u001b[1;32m    809\u001b[0m       \u001b[0;31m# Release the lock early so that multiple threads can perform the call\u001b[0m\u001b[0;34m\u001b[0m\u001b[0;34m\u001b[0m\u001b[0;34m\u001b[0m\u001b[0m\n",
      "\u001b[0;32m~/anaconda3/lib/python3.8/site-packages/tensorflow/python/eager/function.py\u001b[0m in \u001b[0;36m__call__\u001b[0;34m(self, *args, **kwargs)\u001b[0m\n\u001b[1;32m   2827\u001b[0m     \u001b[0;32mwith\u001b[0m \u001b[0mself\u001b[0m\u001b[0;34m.\u001b[0m\u001b[0m_lock\u001b[0m\u001b[0;34m:\u001b[0m\u001b[0;34m\u001b[0m\u001b[0;34m\u001b[0m\u001b[0m\n\u001b[1;32m   2828\u001b[0m       \u001b[0mgraph_function\u001b[0m\u001b[0;34m,\u001b[0m \u001b[0margs\u001b[0m\u001b[0;34m,\u001b[0m \u001b[0mkwargs\u001b[0m \u001b[0;34m=\u001b[0m \u001b[0mself\u001b[0m\u001b[0;34m.\u001b[0m\u001b[0m_maybe_define_function\u001b[0m\u001b[0;34m(\u001b[0m\u001b[0margs\u001b[0m\u001b[0;34m,\u001b[0m \u001b[0mkwargs\u001b[0m\u001b[0;34m)\u001b[0m\u001b[0;34m\u001b[0m\u001b[0;34m\u001b[0m\u001b[0m\n\u001b[0;32m-> 2829\u001b[0;31m     \u001b[0;32mreturn\u001b[0m \u001b[0mgraph_function\u001b[0m\u001b[0;34m.\u001b[0m\u001b[0m_filtered_call\u001b[0m\u001b[0;34m(\u001b[0m\u001b[0margs\u001b[0m\u001b[0;34m,\u001b[0m \u001b[0mkwargs\u001b[0m\u001b[0;34m)\u001b[0m  \u001b[0;31m# pylint: disable=protected-access\u001b[0m\u001b[0;34m\u001b[0m\u001b[0;34m\u001b[0m\u001b[0m\n\u001b[0m\u001b[1;32m   2830\u001b[0m \u001b[0;34m\u001b[0m\u001b[0m\n\u001b[1;32m   2831\u001b[0m   \u001b[0;34m@\u001b[0m\u001b[0mproperty\u001b[0m\u001b[0;34m\u001b[0m\u001b[0;34m\u001b[0m\u001b[0m\n",
      "\u001b[0;32m~/anaconda3/lib/python3.8/site-packages/tensorflow/python/eager/function.py\u001b[0m in \u001b[0;36m_filtered_call\u001b[0;34m(self, args, kwargs, cancellation_manager)\u001b[0m\n\u001b[1;32m   1841\u001b[0m       \u001b[0;31m`\u001b[0m\u001b[0margs\u001b[0m\u001b[0;31m`\u001b[0m \u001b[0;32mand\u001b[0m\u001b[0;31m \u001b[0m\u001b[0;31m`\u001b[0m\u001b[0mkwargs\u001b[0m\u001b[0;31m`\u001b[0m\u001b[0;34m.\u001b[0m\u001b[0;34m\u001b[0m\u001b[0;34m\u001b[0m\u001b[0m\n\u001b[1;32m   1842\u001b[0m     \"\"\"\n\u001b[0;32m-> 1843\u001b[0;31m     return self._call_flat(\n\u001b[0m\u001b[1;32m   1844\u001b[0m         [t for t in nest.flatten((args, kwargs), expand_composites=True)\n\u001b[1;32m   1845\u001b[0m          if isinstance(t, (ops.Tensor,\n",
      "\u001b[0;32m~/anaconda3/lib/python3.8/site-packages/tensorflow/python/eager/function.py\u001b[0m in \u001b[0;36m_call_flat\u001b[0;34m(self, args, captured_inputs, cancellation_manager)\u001b[0m\n\u001b[1;32m   1921\u001b[0m         and executing_eagerly):\n\u001b[1;32m   1922\u001b[0m       \u001b[0;31m# No tape is watching; skip to running the function.\u001b[0m\u001b[0;34m\u001b[0m\u001b[0;34m\u001b[0m\u001b[0;34m\u001b[0m\u001b[0m\n\u001b[0;32m-> 1923\u001b[0;31m       return self._build_call_outputs(self._inference_function.call(\n\u001b[0m\u001b[1;32m   1924\u001b[0m           ctx, args, cancellation_manager=cancellation_manager))\n\u001b[1;32m   1925\u001b[0m     forward_backward = self._select_forward_and_backward_functions(\n",
      "\u001b[0;32m~/anaconda3/lib/python3.8/site-packages/tensorflow/python/eager/function.py\u001b[0m in \u001b[0;36mcall\u001b[0;34m(self, ctx, args, cancellation_manager)\u001b[0m\n\u001b[1;32m    543\u001b[0m       \u001b[0;32mwith\u001b[0m \u001b[0m_InterpolateFunctionError\u001b[0m\u001b[0;34m(\u001b[0m\u001b[0mself\u001b[0m\u001b[0;34m)\u001b[0m\u001b[0;34m:\u001b[0m\u001b[0;34m\u001b[0m\u001b[0;34m\u001b[0m\u001b[0m\n\u001b[1;32m    544\u001b[0m         \u001b[0;32mif\u001b[0m \u001b[0mcancellation_manager\u001b[0m \u001b[0;32mis\u001b[0m \u001b[0;32mNone\u001b[0m\u001b[0;34m:\u001b[0m\u001b[0;34m\u001b[0m\u001b[0;34m\u001b[0m\u001b[0m\n\u001b[0;32m--> 545\u001b[0;31m           outputs = execute.execute(\n\u001b[0m\u001b[1;32m    546\u001b[0m               \u001b[0mstr\u001b[0m\u001b[0;34m(\u001b[0m\u001b[0mself\u001b[0m\u001b[0;34m.\u001b[0m\u001b[0msignature\u001b[0m\u001b[0;34m.\u001b[0m\u001b[0mname\u001b[0m\u001b[0;34m)\u001b[0m\u001b[0;34m,\u001b[0m\u001b[0;34m\u001b[0m\u001b[0;34m\u001b[0m\u001b[0m\n\u001b[1;32m    547\u001b[0m               \u001b[0mnum_outputs\u001b[0m\u001b[0;34m=\u001b[0m\u001b[0mself\u001b[0m\u001b[0;34m.\u001b[0m\u001b[0m_num_outputs\u001b[0m\u001b[0;34m,\u001b[0m\u001b[0;34m\u001b[0m\u001b[0;34m\u001b[0m\u001b[0m\n",
      "\u001b[0;32m~/anaconda3/lib/python3.8/site-packages/tensorflow/python/eager/execute.py\u001b[0m in \u001b[0;36mquick_execute\u001b[0;34m(op_name, num_outputs, inputs, attrs, ctx, name)\u001b[0m\n\u001b[1;32m     57\u001b[0m   \u001b[0;32mtry\u001b[0m\u001b[0;34m:\u001b[0m\u001b[0;34m\u001b[0m\u001b[0;34m\u001b[0m\u001b[0m\n\u001b[1;32m     58\u001b[0m     \u001b[0mctx\u001b[0m\u001b[0;34m.\u001b[0m\u001b[0mensure_initialized\u001b[0m\u001b[0;34m(\u001b[0m\u001b[0;34m)\u001b[0m\u001b[0;34m\u001b[0m\u001b[0;34m\u001b[0m\u001b[0m\n\u001b[0;32m---> 59\u001b[0;31m     tensors = pywrap_tfe.TFE_Py_Execute(ctx._handle, device_name, op_name,\n\u001b[0m\u001b[1;32m     60\u001b[0m                                         inputs, attrs, num_outputs)\n\u001b[1;32m     61\u001b[0m   \u001b[0;32mexcept\u001b[0m \u001b[0mcore\u001b[0m\u001b[0;34m.\u001b[0m\u001b[0m_NotOkStatusException\u001b[0m \u001b[0;32mas\u001b[0m \u001b[0me\u001b[0m\u001b[0;34m:\u001b[0m\u001b[0;34m\u001b[0m\u001b[0;34m\u001b[0m\u001b[0m\n",
      "\u001b[0;31mKeyboardInterrupt\u001b[0m: "
     ]
    }
   ],
   "source": [
    "history = {\n",
    "    'train': [],\n",
    "    'test': []\n",
    "}\n",
    "\n",
    "max_acc = 0.0\n",
    "for epoch in range(10):\n",
    "    \n",
    "    # Training\n",
    "    num_batches = len(X_train) \n",
    "    t = trange(num_batches, desc='epoch {}: Train'.format(epoch+1))\n",
    "    for i in t:\n",
    "        X_batch = X_train[i]\n",
    "        y_batch = y_train[i]\n",
    "        num_samples = len(X_batch)\n",
    "        for j in range(num_samples):\n",
    "            X = X_batch[j:j+1]\n",
    "            y = y_batch[j:j+1]\n",
    "            metrics = model.train_on_batch(X, y, class_weight=class_weights, reset_metrics=False, return_dict=True)\n",
    "        lstm = model.get_layer('lstm')\n",
    "        lstm.reset_states()\n",
    "        t.set_postfix(metrics)\n",
    "    history['train'].append(metrics)\n",
    "    \n",
    "    # Testing\n",
    "    num_batches = len(X_test) \n",
    "    t = trange(num_batches, desc='epoch {}: Test'.format(epoch+1))\n",
    "    for i in t:\n",
    "        X_batch = X_test[i]\n",
    "        y_batch = y_test[i]\n",
    "        num_samples = len(X_batch)\n",
    "        for j in range(num_samples):\n",
    "            X = X_batch[j:j+1]\n",
    "            y = y_batch[j:j+1]\n",
    "            metrics = model.test_on_batch(X, y, reset_metrics=False, return_dict=True)\n",
    "        lstm = model.get_layer('lstm')\n",
    "        lstm.reset_states()\n",
    "        t.set_postfix(metrics)\n",
    "    history['test'].append(metrics)\n",
    "    \n",
    "    if max_acc < metrics['accuracy']:\n",
    "        print('val accuracy improved from {} to {}. saving model...'.format(max_acc, metrics['accuracy']))\n",
    "        max_acc = metrics['accuracy']\n",
    "        model.save('checkpoints/{}.h5'.format(MODEL_NAME))\n",
    "        \n",
    "    print('')"
   ]
  },
  {
   "cell_type": "code",
   "execution_count": null,
   "metadata": {},
   "outputs": [],
   "source": [
    "NUM_EPOCHS = 1\n",
    "\n",
    "for epoch in range(NUM_EPOCHS):\n",
    "    for file in range(NUM_FILES):\n",
    "        NUM_FRAMES = X_train[file].shape[0]\n",
    "        for frame in range(NUM_FRAMES):\n",
    "        X_file_train = X_train[file][frame:frame+1]\n",
    "        y_file_train = y_train[file][frame:frame+1]\n",
    "        history = model.fit(X_file_train, y_file_train, epochs=1, batch_size=1, \n",
    "                    class_weight=class_weights, callbacks= [checkpoint, earlystopping, reducelr], shuffle=True)"
   ]
  },
  {
   "cell_type": "code",
   "execution_count": null,
   "metadata": {},
   "outputs": [],
   "source": [
    "plt.plot(history.history['val_accuracy'])"
   ]
  },
  {
   "cell_type": "markdown",
   "metadata": {},
   "source": [
    "### Contextual Results"
   ]
  },
  {
   "cell_type": "code",
   "execution_count": 54,
   "metadata": {},
   "outputs": [
    {
     "name": "stdout",
     "output_type": "stream",
     "text": [
      "Loaded best checkpoint!\n"
     ]
    }
   ],
   "source": [
    "model.load_weights('checkpoints/{}.h5'.format(MODEL_NAME))\n",
    "print('Loaded best checkpoint!')"
   ]
  },
  {
   "cell_type": "code",
   "execution_count": 55,
   "metadata": {},
   "outputs": [
    {
     "data": {
      "text/plain": [
       "'convlstm_2_1000'"
      ]
     },
     "execution_count": 55,
     "metadata": {},
     "output_type": "execute_result"
    }
   ],
   "source": [
    "MODEL_NAME"
   ]
  },
  {
   "cell_type": "code",
   "execution_count": null,
   "metadata": {},
   "outputs": [],
   "source": [
    "labels_test = ohe.inverse_transform(y_test).flatten()"
   ]
  },
  {
   "cell_type": "code",
   "execution_count": null,
   "metadata": {},
   "outputs": [],
   "source": [
    "pred = model.predict(X_test)"
   ]
  },
  {
   "cell_type": "code",
   "execution_count": null,
   "metadata": {},
   "outputs": [],
   "source": [
    "np.unique(labels_test)"
   ]
  },
  {
   "cell_type": "code",
   "execution_count": null,
   "metadata": {},
   "outputs": [],
   "source": [
    "encoding = {label: ohe.transform(np.array(label).reshape(-1,1)).toarray() for label in np.unique(labels_test)}\n",
    "\n",
    "contexts = {\n",
    "    'monolithic': ['alarm-clock', 'baby-cry', 'blender', 'car-horn', 'cat-meow',\n",
    "       'chopping', 'cooking', 'cough', 'dishwasher', 'dog-bark', 'door',\n",
    "       'doorbell', 'drill', 'engine', 'flush', 'hair-dryer', 'hammer',\n",
    "       'hazard-alarm', 'knock', 'laugh', 'microwave', 'phone-ring', 'saw',\n",
    "       'shaver', 'snore', 'speech', 'toothbrush', 'typing', 'vacuum',\n",
    "       'water-running'],\n",
    "    'bathroom': ['water-running', 'shaver', 'toothbrush', 'flush', 'hair-dryer'],\n",
    "    'kitchen': ['hazard-alarm', 'speech', 'chopping', 'water-running', 'microwave', 'blender', 'dishwasher', 'cooking'],\n",
    "    'bedroom': ['speech', 'baby-cry', 'cough', 'snore', 'alarm-clock'],\n",
    "    'office': ['phone-ring', 'speech', 'cough', 'door', 'knock', 'typing'],\n",
    "    'entrance': ['speech', 'door', 'knock', 'doorbell', 'laugh'],\n",
    "    'workshop': ['drill', 'hazard-alarm', 'speech', 'vacuum', 'hammer', 'saw'],\n",
    "    'outdoor': ['dog-bark', 'hazard-alarm', 'speech', 'car-horn', 'engine', 'cat-meow']\n",
    "}\n",
    "\n",
    "context_encoding = {}\n",
    "for context in contexts.keys():\n",
    "    context_encoding[context] = np.zeros((1,30))\n",
    "    for activity in contexts[context]:\n",
    "        context_encoding[context] += encoding[activity]    "
   ]
  },
  {
   "cell_type": "code",
   "execution_count": null,
   "metadata": {},
   "outputs": [],
   "source": [
    "for context in contexts.keys():\n",
    "#     context = list(contexts.keys())[0]\n",
    "    valid_idx = [i for i, label in enumerate(labels_test) if label in contexts[context]]\n",
    "    valid_pred = pred[valid_idx]\n",
    "    valid_labels = labels_test[valid_idx]\n",
    "    valid_pred = np.argmax(valid_pred * context_encoding[context], axis=1)\n",
    "    valid_pred = [ohe.categories_[0][pr] for pr in valid_pred]\n",
    "    acc = accuracy_score(valid_labels, valid_pred)\n",
    "    f1 = f1_score(valid_labels, valid_pred, average='weighted')\n",
    "    conf_mat = confusion_matrix(valid_labels, valid_pred, normalize='true')\n",
    "    label_names = np.unique(valid_labels)\n",
    "    print('{},{},{},{},{}'.format(sfreq,context,acc,f1,sec))\n",
    "    # fig, ax = plt.subplots(figsize=(13,10))\n",
    "    # sns.heatmap(conf_mat, cmap='Blues', ax=ax, xticklabels=label_names, yticklabels=label_names, annot=False)\n",
    "    # ax.set_title('sFreq: {}, Context: {}, Acc: {}'.format(sfreq,context,acc))\n",
    "    # ax.set_xlabel('Predicted Label')\n",
    "    # ax.set_ylabel('True Label')"
   ]
  },
  {
   "cell_type": "code",
   "execution_count": 70,
   "metadata": {},
   "outputs": [
    {
     "data": {
      "text/plain": [
       "12224"
      ]
     },
     "execution_count": 70,
     "metadata": {},
     "output_type": "execute_result"
    }
   ],
   "source": [
    "len(X_train)"
   ]
  },
  {
   "cell_type": "markdown",
   "metadata": {},
   "source": [
    "### File-Level Metrics "
   ]
  },
  {
   "cell_type": "code",
   "execution_count": null,
   "metadata": {},
   "outputs": [],
   "source": [
    "num_bands = 64\n",
    "X_test = np.load('temporal_data/{}sec/features_test_{}.npy'.format(sec, sfreq), allow_pickle=True)\n",
    "y_test = np.load('temporal_data/{}sec/labels_test_{}.npy'.format(sec, sfreq), allow_pickle=True)\n",
    "\n",
    "X_test = np.concatenate(X_test)\n",
    "y_test = np.concatenate(y_test)    \n",
    "\n",
    "valid_idx = []\n",
    "for i in range(len(X_test)):\n",
    "    if len(X_test[i] == 3):\n",
    "        valid_idx.append(i)\n",
    "    elif len(X_test[i] != 0):\n",
    "        print('ghotala! @ {}'.format(i))\n",
    "\n",
    "X_test = X_test[valid_idx]\n",
    "y_test = y_test[valid_idx]\n",
    "\n",
    "X_test = [file.reshape((-1, NUM_BANDS, NUM_FRAMES, 1)) for file in X_test]\n",
    "y_test = [ohe.transform(np.array(file).reshape(-1,1)).toarray().reshape((-1, NUM_CLASSES)) for file in y_test]"
   ]
  },
  {
   "cell_type": "code",
   "execution_count": null,
   "metadata": {},
   "outputs": [],
   "source": [
    "model.load_weights('checkpoints/{}.h5'.format(MODEL_NAME))\n",
    "print('Loaded best checkpoint!')"
   ]
  },
  {
   "cell_type": "code",
   "execution_count": null,
   "metadata": {},
   "outputs": [],
   "source": [
    "labels_test = np.array([ohe.inverse_transform(file).flatten() for file in y_test])"
   ]
  },
  {
   "cell_type": "code",
   "execution_count": null,
   "metadata": {},
   "outputs": [],
   "source": [
    "pred = np.array([model.predict(file) for file in X_test])"
   ]
  },
  {
   "cell_type": "code",
   "execution_count": null,
   "metadata": {},
   "outputs": [],
   "source": [
    "pred_time = []\n",
    "for file in tqdm(X_test):\n",
    "    for i in range(len(file)):\n",
    "        frame = file[i:i+1]\n",
    "        st = time.time()\n",
    "        prediction = model.predict(frame)\n",
    "        en = time.time()\n",
    "        pred_time.append(en-st)"
   ]
  },
  {
   "cell_type": "code",
   "execution_count": null,
   "metadata": {},
   "outputs": [],
   "source": [
    "print('{},{}'.format(sfreq, np.mean(pred_time)))"
   ]
  },
  {
   "cell_type": "code",
   "execution_count": null,
   "metadata": {},
   "outputs": [],
   "source": [
    "encoding = {label: ohe.transform(np.array(label).reshape(-1,1)).toarray() for label in np.unique(np.concatenate(labels_test).flatten())}\n",
    "\n",
    "contexts = {\n",
    "    'monolithic': ['alarm-clock', 'baby-cry', 'blender', 'car-horn', 'cat-meow',\n",
    "       'chopping', 'cooking', 'cough', 'dishwasher', 'dog-bark', 'door',\n",
    "       'doorbell', 'drill', 'engine', 'flush', 'hair-dryer', 'hammer',\n",
    "       'hazard-alarm', 'knock', 'laugh', 'microwave', 'phone-ring', 'saw',\n",
    "       'shaver', 'snore', 'speech', 'toothbrush', 'typing', 'vacuum',\n",
    "       'water-running'],\n",
    "    'bathroom': ['water-running', 'shaver', 'toothbrush', 'flush', 'hair-dryer'],\n",
    "    'kitchen': ['hazard-alarm', 'speech', 'chopping', 'water-running', 'microwave', 'blender', 'dishwasher', 'cooking'],\n",
    "    'bedroom': ['speech', 'baby-cry', 'cough', 'snore', 'alarm-clock'],\n",
    "    'office': ['phone-ring', 'speech', 'cough', 'door', 'knock', 'typing'],\n",
    "    'entrance': ['speech', 'door', 'knock', 'doorbell', 'laugh'],\n",
    "    'workshop': ['drill', 'hazard-alarm', 'speech', 'vacuum', 'hammer', 'saw'],\n",
    "    'outdoor': ['dog-bark', 'hazard-alarm', 'speech', 'car-horn', 'engine', 'cat-meow']\n",
    "}\n",
    "\n",
    "context_encoding = {}\n",
    "for context in contexts.keys():\n",
    "    context_encoding[context] = np.zeros((1,30))\n",
    "    for activity in contexts[context]:\n",
    "        context_encoding[context] += encoding[activity]    "
   ]
  },
  {
   "cell_type": "code",
   "execution_count": null,
   "metadata": {},
   "outputs": [],
   "source": []
  },
  {
   "cell_type": "code",
   "execution_count": null,
   "metadata": {},
   "outputs": [],
   "source": [
    "for context in contexts.keys():\n",
    "    valid_idx = [i for i, label in enumerate(labels_test) if label[0] in contexts[context]]\n",
    "    valid_pred = pred[valid_idx]\n",
    "    valid_labels = labels_test[valid_idx]\n",
    "    valid_pred = [np.argmax(file * context_encoding[context], axis=1) for file in valid_pred]\n",
    "    # Transform to per file level labels\n",
    "    valid_pred = [ohe.categories_[0][mode(file)] for file in valid_pred]\n",
    "    valid_labels = [file[0] for file in valid_labels]\n",
    "    acc = accuracy_score(valid_labels, valid_pred)\n",
    "    f1 = f1_score(valid_labels, valid_pred, average='weighted')\n",
    "    conf_mat = confusion_matrix(valid_labels, valid_pred, normalize='true')\n",
    "    label_names = np.unique(valid_labels)\n",
    "    print('{},{},{},{}'.format(sfreq, context, acc, f1))\n",
    "    fig, ax = plt.subplots(figsize=(13,10))\n",
    "    sns.heatmap(conf_mat, cmap='Blues', ax=ax, xticklabels=label_names, yticklabels=label_names, annot=False)\n",
    "    ax.set_title('sFreq: {}, Context: {}, Acc: {}'.format(sfreq,context,acc))\n",
    "    ax.set_xlabel('Predicted Label')\n",
    "    ax.set_ylabel('True Label')"
   ]
  }
 ],
 "metadata": {
  "accelerator": "GPU",
  "colab": {
   "authorship_tag": "ABX9TyOZ3nl0I+mVkmJRBp9GYBH+",
   "name": "model.ipynb",
   "provenance": []
  },
  "kernelspec": {
   "display_name": "Python 3",
   "language": "python",
   "name": "python3"
  },
  "language_info": {
   "codemirror_mode": {
    "name": "ipython",
    "version": 3
   },
   "file_extension": ".py",
   "mimetype": "text/x-python",
   "name": "python",
   "nbconvert_exporter": "python",
   "pygments_lexer": "ipython3",
   "version": "3.8.3"
  }
 },
 "nbformat": 4,
 "nbformat_minor": 1
}

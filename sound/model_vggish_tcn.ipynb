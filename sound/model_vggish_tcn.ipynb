{
 "cells": [
  {
   "cell_type": "code",
   "execution_count": 1,
   "metadata": {
    "colab": {
     "base_uri": "https://localhost:8080/",
     "height": 364
    },
    "executionInfo": {
     "elapsed": 1296,
     "status": "ok",
     "timestamp": 1601570430822,
     "user": {
      "displayName": "Dhruv Verma",
      "photoUrl": "https://lh3.googleusercontent.com/a-/AOh14GjPErif29dJTpYr10Kx4Olz-3fBzlJHUINscaF57A=s64",
      "userId": "04055500837937310636"
     },
     "user_tz": -330
    },
    "id": "YxPWN60xnHWF",
    "outputId": "c229db07-8588-4b5b-c3d6-2bb66bf94d78"
   },
   "outputs": [
    {
     "name": "stdout",
     "output_type": "stream",
     "text": [
      "Tue Mar 16 22:24:02 2021       \r\n",
      "+-----------------------------------------------------------------------------+\r\n",
      "| NVIDIA-SMI 450.102.04   Driver Version: 450.102.04   CUDA Version: 11.0     |\r\n",
      "|-------------------------------+----------------------+----------------------+\r\n",
      "| GPU  Name        Persistence-M| Bus-Id        Disp.A | Volatile Uncorr. ECC |\r\n",
      "| Fan  Temp  Perf  Pwr:Usage/Cap|         Memory-Usage | GPU-Util  Compute M. |\r\n",
      "|                               |                      |               MIG M. |\r\n",
      "|===============================+======================+======================|\r\n",
      "|   0  TITAN X (Pascal)    Off  | 00000000:08:00.0 Off |                  N/A |\r\n",
      "| 23%   33C    P8    11W / 250W |     15MiB / 12194MiB |      0%      Default |\r\n",
      "|                               |                      |                  N/A |\r\n",
      "+-------------------------------+----------------------+----------------------+\r\n",
      "                                                                               \r\n",
      "+-----------------------------------------------------------------------------+\r\n",
      "| Processes:                                                                  |\r\n",
      "|  GPU   GI   CI        PID   Type   Process name                  GPU Memory |\r\n",
      "|        ID   ID                                                   Usage      |\r\n",
      "|=============================================================================|\r\n",
      "|    0   N/A  N/A      1293      G   /usr/lib/xorg/Xorg                  9MiB |\r\n",
      "|    0   N/A  N/A      1619      G   /usr/bin/gnome-shell                3MiB |\r\n",
      "+-----------------------------------------------------------------------------+\r\n"
     ]
    }
   ],
   "source": [
    "!nvidia-smi"
   ]
  },
  {
   "cell_type": "code",
   "execution_count": 14,
   "metadata": {
    "executionInfo": {
     "elapsed": 10625,
     "status": "ok",
     "timestamp": 1601570503201,
     "user": {
      "displayName": "Dhruv Verma",
      "photoUrl": "https://lh3.googleusercontent.com/a-/AOh14GjPErif29dJTpYr10Kx4Olz-3fBzlJHUINscaF57A=s64",
      "userId": "04055500837937310636"
     },
     "user_tz": -330
    },
    "id": "EVhv2x0omPUX"
   },
   "outputs": [],
   "source": [
    "import numpy as np\n",
    "import vggish_params\n",
    "import vggish_keras\n",
    "import numpy as np\n",
    "import matplotlib.pyplot as plt\n",
    "import seaborn as sns\n",
    "import pickle\n",
    "from sklearn.preprocessing import OneHotEncoder\n",
    "from keras.layers import Dense, Reshape\n",
    "from keras.models import Model\n",
    "from keras.optimizers import Adam\n",
    "from keras.losses import CategoricalCrossentropy\n",
    "from keras.metrics import Accuracy, Precision, Recall\n",
    "from sklearn.utils import class_weight\n",
    "from keras.callbacks import EarlyStopping, ModelCheckpoint, ReduceLROnPlateau\n",
    "import seaborn as sns\n",
    "from sklearn.model_selection import train_test_split\n",
    "from sklearn.metrics import accuracy_score, f1_score, confusion_matrix\n",
    "from statistics import mode\n",
    "from tqdm import tqdm\n",
    "import time\n",
    "from keras.models import load_model\n",
    "import soundtransfer\n",
    "from tcn import TCN, tcn_full_summary\n"
   ]
  },
  {
   "cell_type": "code",
   "execution_count": 4,
   "metadata": {
    "executionInfo": {
     "elapsed": 1277,
     "status": "ok",
     "timestamp": 1601570530433,
     "user": {
      "displayName": "Dhruv Verma",
      "photoUrl": "https://lh3.googleusercontent.com/a-/AOh14GjPErif29dJTpYr10Kx4Olz-3fBzlJHUINscaF57A=s64",
      "userId": "04055500837937310636"
     },
     "user_tz": -330
    },
    "id": "yzV3Lh-iokV-"
   },
   "outputs": [],
   "source": [
    "checkpoint_path = 'vggish_weights.ckpt'"
   ]
  },
  {
   "cell_type": "code",
   "execution_count": 5,
   "metadata": {},
   "outputs": [],
   "source": [
    "sfreq = 16000"
   ]
  },
  {
   "cell_type": "code",
   "execution_count": 7,
   "metadata": {
    "executionInfo": {
     "elapsed": 182202,
     "status": "ok",
     "timestamp": 1601570827794,
     "user": {
      "displayName": "Dhruv Verma",
      "photoUrl": "https://lh3.googleusercontent.com/a-/AOh14GjPErif29dJTpYr10Kx4Olz-3fBzlJHUINscaF57A=s64",
      "userId": "04055500837937310636"
     },
     "user_tz": -330
    },
    "id": "Y4WQOp9S_tP2"
   },
   "outputs": [],
   "source": [
    "feature_mode = 'mel_spec'\n",
    "mode = 'train'\n",
    "features = pickle.load(open('features/{}/{}_features.pkl'.format(feature_mode, mode), 'rb'))\n",
    "labels = pickle.load(open('features/{}/{}_labels.pkl'.format(feature_mode, mode), 'rb'))\n",
    "features = np.concatenate(np.concatenate(features)).astype('float64')\n",
    "labels = np.concatenate(np.concatenate(labels)).astype('int64')"
   ]
  },
  {
   "cell_type": "code",
   "execution_count": 8,
   "metadata": {},
   "outputs": [
    {
     "data": {
      "text/plain": [
       "<matplotlib.axes._subplots.AxesSubplot at 0x7fb15da31d60>"
      ]
     },
     "execution_count": 8,
     "metadata": {},
     "output_type": "execute_result"
    },
    {
     "data": {
      "image/png": "[encoded data removed]",
      "text/plain": [
       "<Figure size 432x288 with 2 Axes>"
      ]
     },
     "metadata": {
      "needs_background": "light"
     },
     "output_type": "display_data"
    }
   ],
   "source": [
    "sns.heatmap(features[4].T)"
   ]
  },
  {
   "cell_type": "code",
   "execution_count": 9,
   "metadata": {
    "id": "d5lV09hPoyUA"
   },
   "outputs": [
    {
     "name": "stderr",
     "output_type": "stream",
     "text": [
      "/home/dhruv/anaconda3/lib/python3.8/site-packages/sklearn/utils/validation.py:68: FutureWarning: Pass classes=[ 0  1  2  3  4  5  6  7  8  9 10 11 12 13 14 15 16 17 18 19 20 21 22 23\n",
      " 24 25 26 27 28 29], y=[ 6  6  6 ... 27 27 27] as keyword args. From version 0.25 passing these as positional arguments will result in an error\n",
      "  warnings.warn(\"Pass {} as keyword args. From version 0.25 \"\n"
     ]
    },
    {
     "data": {
      "text/plain": [
       "{0: 0.9702741087913649,\n",
       " 1: 1.6033090823750293,\n",
       " 2: 0.5239837398373983,\n",
       " 3: 1.4220857618651124,\n",
       " 4: 0.10539168800715806,\n",
       " 5: 0.9338026243849098,\n",
       " 6: 1.84590651175358,\n",
       " 7: 4.023380447585395,\n",
       " 8: 4.721285418106427,\n",
       " 9: 2.4294807965860596,\n",
       " 10: 0.35251289989680085,\n",
       " 11: 3.944399538106236,\n",
       " 12: 1.3647023571713943,\n",
       " 13: 2.918282785134558,\n",
       " 14: 5.716903765690376,\n",
       " 15: 4.047215639810426,\n",
       " 16: 2.017035724830233,\n",
       " 17: 8.027849588719153,\n",
       " 18: 1.5508967082860385,\n",
       " 19: 2.065205562273277,\n",
       " 20: 2.996359649122807,\n",
       " 21: 4.110529482551144,\n",
       " 22: 0.6580331342708534,\n",
       " 23: 1.0182888657027873,\n",
       " 24: 13.087547892720307,\n",
       " 25: 0.46642315832593706,\n",
       " 26: 1.9586295871559634,\n",
       " 27: 6.402717900656045,\n",
       " 28: 3.0828971119133572,\n",
       " 29: 0.8820787604906392}"
      ]
     },
     "execution_count": 9,
     "metadata": {},
     "output_type": "execute_result"
    }
   ],
   "source": [
    "weights = class_weight.compute_class_weight('balanced',\n",
    "                                            np.unique(labels),\n",
    "                                            labels)\n",
    "class_weights = dict(enumerate(weights))\n",
    "class_name_weights = {np.unique(labels)[key]:class_weights[key] for key in class_weights.keys()}\n",
    "class_name_weights"
   ]
  },
  {
   "cell_type": "code",
   "execution_count": 10,
   "metadata": {
    "id": "S_H-1vfmo2OO"
   },
   "outputs": [],
   "source": [
    "ohe = OneHotEncoder()\n",
    "labels = ohe.fit_transform(labels.reshape((-1,1))).toarray()\n",
    "\n",
    "NUM_CLASSES = len(weights)\n",
    "\n",
    "features = features.reshape((-1, \n",
    "                             vggish_params.NUM_FRAMES, \n",
    "                             vggish_params.NUM_BANDS, 1))\n",
    "\n",
    "labels = labels.reshape((-1, NUM_CLASSES))\n",
    "X_train = features\n",
    "y_train = labels\n",
    "del features,labels"
   ]
  },
  {
   "cell_type": "code",
   "execution_count": 11,
   "metadata": {},
   "outputs": [],
   "source": [
    "feature_mode = 'mel_spec'\n",
    "mode = 'test'\n",
    "test_features = pickle.load(open('features/{}/{}_features.pkl'.format(feature_mode, mode), 'rb'))\n",
    "test_labels = pickle.load(open('features/{}/{}_labels.pkl'.format(feature_mode, mode), 'rb'))\n",
    "test_features = np.concatenate(np.concatenate(test_features)).astype('float64')\n",
    "test_labels = np.concatenate(np.concatenate(test_labels)).astype('int64')\n",
    "\n",
    "test_labels = ohe.transform(test_labels.reshape((-1,1))).toarray()\n",
    "\n",
    "NUM_CLASSES = 30\n",
    "\n",
    "test_features = test_features.reshape((-1, \n",
    "                             vggish_params.NUM_FRAMES, \n",
    "                             vggish_params.NUM_BANDS, 1))\n",
    "\n",
    "test_labels = test_labels.reshape((-1, NUM_CLASSES))"
   ]
  },
  {
   "cell_type": "code",
   "execution_count": 12,
   "metadata": {},
   "outputs": [],
   "source": [
    "X_test = test_features\n",
    "y_test = test_labels\n",
    "del test_labels, test_features"
   ]
  },
  {
   "cell_type": "code",
   "execution_count": 13,
   "metadata": {},
   "outputs": [
    {
     "name": "stdout",
     "output_type": "stream",
     "text": [
      "X train shape (204951, 96, 64, 1)\n",
      "X test  shape (26154, 96, 64, 1)\n",
      "y train shape (204951, 30)\n",
      "y test  shape (26154, 30)\n"
     ]
    }
   ],
   "source": [
    "print('X train shape {}'.format(X_train.shape))\n",
    "print('X test  shape {}'.format(X_test.shape))\n",
    "print('y train shape {}'.format(y_train.shape))\n",
    "print('y test  shape {}'.format(y_test.shape))"
   ]
  },
  {
   "cell_type": "code",
   "execution_count": 23,
   "metadata": {},
   "outputs": [],
   "source": [
    "# Define VGGish, load the checkpoint, and run the batch through the model to produce embeddings\n",
    "model_name = 'vggish_tcn'\n",
    "\n",
    "learning_rate=vggish_params.LEARNING_RATE\n",
    "epsilon1=vggish_params.ADAM_EPSILON\n",
    "\n",
    "model=vggish_keras.get_vggish_keras()\n",
    "model.load_weights(checkpoint_path)\n",
    "\n",
    "last=model.output\n",
    "o = Reshape((128,1))(last)\n",
    "o = TCN(return_sequences=False)(o)\n",
    "main_out=Dense(NUM_CLASSES, activation='sigmoid', name='main_out')(o)\n",
    "model=Model(model.input, main_out)\n",
    "\n",
    "ADAM=Adam(lr=learning_rate, epsilon=epsilon1)\n",
    "model.compile(optimizer=ADAM, loss='binary_crossentropy', metrics=['categorical_accuracy'])\n",
    "\n",
    "# model.load_weights('checkpoints/model_{}.h5'.format(sfreq))\n",
    "checkpoint=ModelCheckpoint('checkpoints/model_{}.h5'.format(model_name), monitor='val_categorical_accuracy', verbose=1, save_best_only=True, mode='max')\n",
    "earlystopping=EarlyStopping(monitor='val_loss', patience=20, verbose=1)\n",
    "reducelr=ReduceLROnPlateau(monitor='val_loss', factor=0.1, patience=10, verbose=1, min_lr=0.000001) "
   ]
  },
  {
   "cell_type": "code",
   "execution_count": 24,
   "metadata": {
    "scrolled": true
   },
   "outputs": [
    {
     "name": "stdout",
     "output_type": "stream",
     "text": [
      "Model: \"functional_5\"\n",
      "_________________________________________________________________\n",
      "Layer (type)                 Output Shape              Param #   \n",
      "=================================================================\n",
      "input_7 (InputLayer)         [(None, 96, 64, 1)]       0         \n",
      "_________________________________________________________________\n",
      "conv1 (Conv2D)               (None, 96, 64, 64)        640       \n",
      "_________________________________________________________________\n",
      "pool1 (MaxPooling2D)         (None, 48, 32, 64)        0         \n",
      "_________________________________________________________________\n",
      "conv2 (Conv2D)               (None, 48, 32, 128)       73856     \n",
      "_________________________________________________________________\n",
      "pool2 (MaxPooling2D)         (None, 24, 16, 128)       0         \n",
      "_________________________________________________________________\n",
      "conv3_1 (Conv2D)             (None, 24, 16, 256)       295168    \n",
      "_________________________________________________________________\n",
      "conv3_2 (Conv2D)             (None, 24, 16, 256)       590080    \n",
      "_________________________________________________________________\n",
      "pool3 (MaxPooling2D)         (None, 12, 8, 256)        0         \n",
      "_________________________________________________________________\n",
      "conv4_1 (Conv2D)             (None, 12, 8, 512)        1180160   \n",
      "_________________________________________________________________\n",
      "conv4_2 (Conv2D)             (None, 12, 8, 512)        2359808   \n",
      "_________________________________________________________________\n",
      "pool4 (MaxPooling2D)         (None, 6, 4, 512)         0         \n",
      "_________________________________________________________________\n",
      "flatten (Flatten)            (None, 12288)             0         \n",
      "_________________________________________________________________\n",
      "fc1_1 (Dense)                (None, 4096)              50335744  \n",
      "_________________________________________________________________\n",
      "fc1_2 (Dense)                (None, 4096)              16781312  \n",
      "_________________________________________________________________\n",
      "fc2 (Dense)                  (None, 128)               524416    \n",
      "_________________________________________________________________\n",
      "reshape_6 (Reshape)          (None, 128, 1)            0         \n",
      "_________________________________________________________________\n",
      "tcn_3 (TCN)                  (None, 64)                91136     \n",
      "_________________________________________________________________\n",
      "main_out (Dense)             (None, 30)                1950      \n",
      "=================================================================\n",
      "Total params: 72,234,270\n",
      "Trainable params: 72,234,270\n",
      "Non-trainable params: 0\n",
      "_________________________________________________________________\n"
     ]
    }
   ],
   "source": [
    "model.summary()"
   ]
  },
  {
   "cell_type": "code",
   "execution_count": 25,
   "metadata": {},
   "outputs": [
    {
     "name": "stdout",
     "output_type": "stream",
     "text": [
      "Epoch 1/100\n",
      "   1/3203 [..............................] - ETA: 0s - loss: 2.8378 - categorical_accuracy: 0.0156WARNING:tensorflow:Callbacks method `on_train_batch_end` is slow compared to the batch time (batch time: 0.0155s vs `on_train_batch_end` time: 0.0284s). Check your callbacks.\n",
      "3203/3203 [==============================] - ETA: 0s - loss: 0.0933 - categorical_accuracy: 0.4566\n",
      "Epoch 00001: val_categorical_accuracy improved from -inf to 0.66319, saving model to checkpoints/model_vggish_tcn.h5\n",
      "3203/3203 [==============================] - 147s 46ms/step - loss: 0.0933 - categorical_accuracy: 0.4566 - val_loss: 0.0647 - val_categorical_accuracy: 0.6632\n",
      "Epoch 2/100\n",
      "3203/3203 [==============================] - ETA: 0s - loss: 0.0441 - categorical_accuracy: 0.6464\n",
      "Epoch 00002: val_categorical_accuracy improved from 0.66319 to 0.67802, saving model to checkpoints/model_vggish_tcn.h5\n",
      "3203/3203 [==============================] - 152s 47ms/step - loss: 0.0441 - categorical_accuracy: 0.6464 - val_loss: 0.0688 - val_categorical_accuracy: 0.6780\n",
      "Epoch 3/100\n",
      "3203/3203 [==============================] - ETA: 0s - loss: 0.0291 - categorical_accuracy: 0.7129\n",
      "Epoch 00003: val_categorical_accuracy improved from 0.67802 to 0.70054, saving model to checkpoints/model_vggish_tcn.h5\n",
      "3203/3203 [==============================] - 153s 48ms/step - loss: 0.0291 - categorical_accuracy: 0.7129 - val_loss: 0.0773 - val_categorical_accuracy: 0.7005\n",
      "Epoch 4/100\n",
      "3203/3203 [==============================] - ETA: 0s - loss: 0.0197 - categorical_accuracy: 0.7669\n",
      "Epoch 00004: val_categorical_accuracy improved from 0.70054 to 0.70991, saving model to checkpoints/model_vggish_tcn.h5\n",
      "3203/3203 [==============================] - 154s 48ms/step - loss: 0.0197 - categorical_accuracy: 0.7669 - val_loss: 0.0816 - val_categorical_accuracy: 0.7099\n",
      "Epoch 5/100\n",
      "3203/3203 [==============================] - ETA: 0s - loss: 0.0140 - categorical_accuracy: 0.8089\n",
      "Epoch 00005: val_categorical_accuracy did not improve from 0.70991\n",
      "3203/3203 [==============================] - 153s 48ms/step - loss: 0.0140 - categorical_accuracy: 0.8089 - val_loss: 0.0966 - val_categorical_accuracy: 0.6967\n",
      "Epoch 6/100\n",
      "3203/3203 [==============================] - ETA: 0s - loss: 0.0106 - categorical_accuracy: 0.8417\n",
      "Epoch 00006: val_categorical_accuracy improved from 0.70991 to 0.71213, saving model to checkpoints/model_vggish_tcn.h5\n",
      "3203/3203 [==============================] - 155s 48ms/step - loss: 0.0106 - categorical_accuracy: 0.8417 - val_loss: 0.0942 - val_categorical_accuracy: 0.7121\n",
      "Epoch 7/100\n",
      "3203/3203 [==============================] - ETA: 0s - loss: 0.0085 - categorical_accuracy: 0.8672\n",
      "Epoch 00007: val_categorical_accuracy did not improve from 0.71213\n",
      "3203/3203 [==============================] - 154s 48ms/step - loss: 0.0085 - categorical_accuracy: 0.8672 - val_loss: 0.1154 - val_categorical_accuracy: 0.6971\n",
      "Epoch 8/100\n",
      "3203/3203 [==============================] - ETA: 0s - loss: 0.0072 - categorical_accuracy: 0.8862\n",
      "Epoch 00008: val_categorical_accuracy did not improve from 0.71213\n",
      "3203/3203 [==============================] - 154s 48ms/step - loss: 0.0072 - categorical_accuracy: 0.8862 - val_loss: 0.1134 - val_categorical_accuracy: 0.7077\n",
      "Epoch 9/100\n",
      "3203/3203 [==============================] - ETA: 0s - loss: 0.0062 - categorical_accuracy: 0.9029\n",
      "Epoch 00009: val_categorical_accuracy did not improve from 0.71213\n",
      "3203/3203 [==============================] - 154s 48ms/step - loss: 0.0062 - categorical_accuracy: 0.9029 - val_loss: 0.1157 - val_categorical_accuracy: 0.7000\n",
      "Epoch 10/100\n",
      "3203/3203 [==============================] - ETA: 0s - loss: 0.0057 - categorical_accuracy: 0.9131\n",
      "Epoch 00010: val_categorical_accuracy did not improve from 0.71213\n",
      "3203/3203 [==============================] - 154s 48ms/step - loss: 0.0057 - categorical_accuracy: 0.9131 - val_loss: 0.1184 - val_categorical_accuracy: 0.7046\n",
      "Epoch 11/100\n",
      "3203/3203 [==============================] - ETA: 0s - loss: 0.0052 - categorical_accuracy: 0.9219\n",
      "Epoch 00011: val_categorical_accuracy did not improve from 0.71213\n",
      "\n",
      "Epoch 00011: ReduceLROnPlateau reducing learning rate to 9.999999747378752e-06.\n",
      "3203/3203 [==============================] - 155s 48ms/step - loss: 0.0052 - categorical_accuracy: 0.9219 - val_loss: 0.1249 - val_categorical_accuracy: 0.7073\n",
      "Epoch 12/100\n",
      "3203/3203 [==============================] - ETA: 0s - loss: 0.0031 - categorical_accuracy: 0.9480\n",
      "Epoch 00012: val_categorical_accuracy did not improve from 0.71213\n",
      "3203/3203 [==============================] - 154s 48ms/step - loss: 0.0031 - categorical_accuracy: 0.9480 - val_loss: 0.1395 - val_categorical_accuracy: 0.7091\n",
      "Epoch 13/100\n",
      "3203/3203 [==============================] - ETA: 0s - loss: 0.0024 - categorical_accuracy: 0.9590\n",
      "Epoch 00013: val_categorical_accuracy did not improve from 0.71213\n",
      "3203/3203 [==============================] - 154s 48ms/step - loss: 0.0024 - categorical_accuracy: 0.9590 - val_loss: 0.1486 - val_categorical_accuracy: 0.7050\n",
      "Epoch 14/100\n",
      "3203/3203 [==============================] - ETA: 0s - loss: 0.0022 - categorical_accuracy: 0.9634\n",
      "Epoch 00014: val_categorical_accuracy did not improve from 0.71213\n",
      "3203/3203 [==============================] - 154s 48ms/step - loss: 0.0022 - categorical_accuracy: 0.9634 - val_loss: 0.1562 - val_categorical_accuracy: 0.7039\n",
      "Epoch 15/100\n",
      "3203/3203 [==============================] - ETA: 0s - loss: 0.0021 - categorical_accuracy: 0.9659\n",
      "Epoch 00015: val_categorical_accuracy did not improve from 0.71213\n",
      "3203/3203 [==============================] - 154s 48ms/step - loss: 0.0021 - categorical_accuracy: 0.9659 - val_loss: 0.1614 - val_categorical_accuracy: 0.7033\n",
      "Epoch 16/100\n",
      "3203/3203 [==============================] - ETA: 0s - loss: 0.0020 - categorical_accuracy: 0.9674\n",
      "Epoch 00016: val_categorical_accuracy did not improve from 0.71213\n",
      "3203/3203 [==============================] - 155s 48ms/step - loss: 0.0020 - categorical_accuracy: 0.9674 - val_loss: 0.1659 - val_categorical_accuracy: 0.7001\n",
      "Epoch 17/100\n",
      "3203/3203 [==============================] - ETA: 0s - loss: 0.0019 - categorical_accuracy: 0.9682\n",
      "Epoch 00017: val_categorical_accuracy did not improve from 0.71213\n",
      "3203/3203 [==============================] - 154s 48ms/step - loss: 0.0019 - categorical_accuracy: 0.9682 - val_loss: 0.1671 - val_categorical_accuracy: 0.7010\n",
      "Epoch 18/100\n",
      "3203/3203 [==============================] - ETA: 0s - loss: 0.0018 - categorical_accuracy: 0.9689\n",
      "Epoch 00018: val_categorical_accuracy did not improve from 0.71213\n",
      "3203/3203 [==============================] - 155s 48ms/step - loss: 0.0018 - categorical_accuracy: 0.9689 - val_loss: 0.1692 - val_categorical_accuracy: 0.7014\n",
      "Epoch 19/100\n",
      "3203/3203 [==============================] - ETA: 0s - loss: 0.0018 - categorical_accuracy: 0.9694\n",
      "Epoch 00019: val_categorical_accuracy did not improve from 0.71213\n",
      "3203/3203 [==============================] - 156s 49ms/step - loss: 0.0018 - categorical_accuracy: 0.9694 - val_loss: 0.1717 - val_categorical_accuracy: 0.7012\n",
      "Epoch 20/100\n",
      "3203/3203 [==============================] - ETA: 0s - loss: 0.0018 - categorical_accuracy: 0.9699\n",
      "Epoch 00020: val_categorical_accuracy did not improve from 0.71213\n",
      "3203/3203 [==============================] - 156s 49ms/step - loss: 0.0018 - categorical_accuracy: 0.9699 - val_loss: 0.1741 - val_categorical_accuracy: 0.6989\n",
      "Epoch 21/100\n",
      "3203/3203 [==============================] - ETA: 0s - loss: 0.0017 - categorical_accuracy: 0.9700\n",
      "Epoch 00021: val_categorical_accuracy did not improve from 0.71213\n",
      "\n",
      "Epoch 00021: ReduceLROnPlateau reducing learning rate to 1e-06.\n",
      "3203/3203 [==============================] - 155s 49ms/step - loss: 0.0017 - categorical_accuracy: 0.9700 - val_loss: 0.1750 - val_categorical_accuracy: 0.7017\n",
      "Epoch 00021: early stopping\n"
     ]
    }
   ],
   "source": [
    "history = model.fit(X_train, y_train, epochs=100, batch_size=64, validation_data=(X_test, y_test),\n",
    "                    class_weight=class_weights, callbacks= [checkpoint, earlystopping, reducelr], shuffle=True)"
   ]
  },
  {
   "cell_type": "code",
   "execution_count": 38,
   "metadata": {},
   "outputs": [
    {
     "data": {
      "text/plain": [
       "[<matplotlib.lines.Line2D at 0x7ff5fd0bf430>]"
      ]
     },
     "execution_count": 38,
     "metadata": {},
     "output_type": "execute_result"
    },
    {
     "data": {
      "image/png": "[encoded data removed]",
      "text/plain": [
       "<Figure size 432x288 with 1 Axes>"
      ]
     },
     "metadata": {
      "needs_background": "light"
     },
     "output_type": "display_data"
    }
   ],
   "source": [
    "plt.plot(history.history['val_categorical_accuracy'])"
   ]
  },
  {
   "cell_type": "markdown",
   "metadata": {},
   "source": [
    "### Contextual Results"
   ]
  },
  {
   "cell_type": "code",
   "execution_count": 17,
   "metadata": {},
   "outputs": [
    {
     "name": "stdout",
     "output_type": "stream",
     "text": [
      "Loaded best checkpoint!\n"
     ]
    }
   ],
   "source": [
    "model.load_weights('checkpoints/model_{}.h5'.format(sfreq))\n",
    "print('Loaded best checkpoint!')"
   ]
  },
  {
   "cell_type": "code",
   "execution_count": 18,
   "metadata": {},
   "outputs": [],
   "source": [
    "labels_test = ohe.inverse_transform(y_test).flatten()"
   ]
  },
  {
   "cell_type": "code",
   "execution_count": 19,
   "metadata": {},
   "outputs": [],
   "source": [
    "pred = model.predict(X_test)"
   ]
  },
  {
   "cell_type": "code",
   "execution_count": 20,
   "metadata": {},
   "outputs": [
    {
     "data": {
      "text/plain": [
       "array(['alarm-clock', 'baby-cry', 'blender', 'car-horn', 'cat-meow',\n",
       "       'chopping', 'cooking', 'cough', 'dishwasher', 'dog-bark', 'door',\n",
       "       'doorbell', 'drill', 'engine', 'flush', 'hair-dryer', 'hammer',\n",
       "       'hazard-alarm', 'knock', 'laugh', 'microwave', 'phone-ring', 'saw',\n",
       "       'shaver', 'snore', 'speech', 'toothbrush', 'typing', 'vacuum',\n",
       "       'water-running'], dtype='<U32')"
      ]
     },
     "execution_count": 20,
     "metadata": {},
     "output_type": "execute_result"
    }
   ],
   "source": [
    "np.unique(labels_test)"
   ]
  },
  {
   "cell_type": "code",
   "execution_count": 21,
   "metadata": {},
   "outputs": [],
   "source": [
    "encoding = {label: ohe.transform(np.array(label).reshape(-1,1)).toarray() for label in np.unique(labels_test)}\n",
    "\n",
    "contexts = {\n",
    "    'monolithic': ['alarm-clock', 'baby-cry', 'blender', 'car-horn', 'cat-meow',\n",
    "       'chopping', 'cooking', 'cough', 'dishwasher', 'dog-bark', 'door',\n",
    "       'doorbell', 'drill', 'engine', 'flush', 'hair-dryer', 'hammer',\n",
    "       'hazard-alarm', 'knock', 'laugh', 'microwave', 'phone-ring', 'saw',\n",
    "       'shaver', 'snore', 'speech', 'toothbrush', 'typing', 'vacuum',\n",
    "       'water-running'],\n",
    "    'bathroom': ['water-running', 'shaver', 'toothbrush', 'flush', 'hair-dryer'],\n",
    "    'kitchen': ['hazard-alarm', 'speech', 'chopping', 'water-running', 'microwave', 'blender', 'dishwasher', 'cooking'],\n",
    "    'bedroom': ['speech', 'baby-cry', 'cough', 'snore', 'alarm-clock'],\n",
    "    'office': ['phone-ring', 'speech', 'cough', 'door', 'knock', 'typing'],\n",
    "    'entrance': ['speech', 'door', 'knock', 'doorbell', 'laugh'],\n",
    "    'workshop': ['drill', 'hazard-alarm', 'speech', 'vacuum', 'hammer', 'saw'],\n",
    "    'outdoor': ['dog-bark', 'hazard-alarm', 'speech', 'car-horn', 'engine', 'cat-meow']\n",
    "}\n",
    "\n",
    "context_encoding = {}\n",
    "for context in contexts.keys():\n",
    "    context_encoding[context] = np.zeros((1,30))\n",
    "    for activity in contexts[context]:\n",
    "        context_encoding[context] += encoding[activity]    "
   ]
  },
  {
   "cell_type": "code",
   "execution_count": 22,
   "metadata": {},
   "outputs": [
    {
     "name": "stdout",
     "output_type": "stream",
     "text": [
      "250, monolithic, 0.24025080287505735, 0.21753807234584813\n",
      "250, bathroom, 0.4432389937106918, 0.3767953629978072\n",
      "250, kitchen, 0.3242099322799097, 0.23509611885221973\n",
      "250, bedroom, 0.27311387620097655, 0.24571837773417937\n",
      "250, office, 0.3991017500387177, 0.438140046030926\n",
      "250, entrance, 0.261678104936905, 0.3186410410470032\n",
      "250, workshop, 0.2824427480916031, 0.2560457100237921\n",
      "250, outdoor, 0.3335302806499261, 0.2292495039714536\n"
     ]
    }
   ],
   "source": [
    "for context in contexts.keys():\n",
    "#     context = list(contexts.keys())[0]\n",
    "    valid_idx = [i for i, label in enumerate(labels_test) if label in contexts[context]]\n",
    "    valid_pred = pred[valid_idx]\n",
    "    valid_labels = labels_test[valid_idx]\n",
    "    valid_pred = np.argmax(valid_pred * context_encoding[context], axis=1)\n",
    "    valid_pred = [ohe.categories_[0][pr] for pr in valid_pred]\n",
    "    acc = accuracy_score(valid_labels, valid_pred)\n",
    "    f1 = f1_score(valid_labels, valid_pred, average='weighted')\n",
    "    conf_mat = confusion_matrix(valid_labels, valid_pred, normalize='true')\n",
    "    label_names = np.unique(valid_labels)\n",
    "    print('{}, {}, {}, {}'.format(sfreq, context, acc, f1))\n",
    "    # fig, ax = plt.subplots(figsize=(13,10))\n",
    "    # sns.heatmap(conf_mat, cmap='Blues', ax=ax, xticklabels=label_names, yticklabels=label_names, annot=False)\n",
    "    # ax.set_title('sFreq: {}, Context: {}, Acc: {}'.format(sfreq,context,acc))\n",
    "    # ax.set_xlabel('Predicted Label')\n",
    "    # ax.set_ylabel('True Label')"
   ]
  },
  {
   "cell_type": "markdown",
   "metadata": {},
   "source": [
    "### File-Level Metrics "
   ]
  },
  {
   "cell_type": "code",
   "execution_count": 27,
   "metadata": {},
   "outputs": [],
   "source": [
    "feature_mode = 'mel_spec'\n",
    "mode = 'test'\n",
    "test_features = pickle.load(open('features/{}/{}_features.pkl'.format(feature_mode, mode), 'rb'))\n",
    "test_labels = pickle.load(open('features/{}/{}_labels.pkl'.format(feature_mode, mode), 'rb'))\n",
    "\n",
    "test_features_flat = []\n",
    "for cls in test_features:\n",
    "    for file in cls:\n",
    "        if len(file) != 0:\n",
    "            test_features_flat.append(file)\n",
    "\n",
    "test_labels_ohe = []\n",
    "for cls in test_labels:\n",
    "    for file in cls:\n",
    "        if len(file) != 0:\n",
    "            file_labels = ohe.transform(np.array(file).reshape((-1,1))).toarray()\n",
    "            test_labels_ohe.append(file_labels)\n",
    "\n",
    "NUM_CLASSES = 30\n",
    "\n",
    "X_test = [file.reshape((-1, vggish_params.NUM_FRAMES, vggish_params.NUM_BANDS, 1)) for file in test_features_flat] \n",
    "y_test = [file.reshape((-1, NUM_CLASSES)) for file in test_labels_ohe]"
   ]
  },
  {
   "cell_type": "code",
   "execution_count": 28,
   "metadata": {},
   "outputs": [
    {
     "name": "stdout",
     "output_type": "stream",
     "text": [
      "Loaded best checkpoint!\n"
     ]
    }
   ],
   "source": [
    "model.load_weights('checkpoints/model_{}.h5'.format(model_name))\n",
    "print('Loaded best checkpoint!')"
   ]
  },
  {
   "cell_type": "code",
   "execution_count": 29,
   "metadata": {},
   "outputs": [],
   "source": [
    "labels_test = np.array([ohe.inverse_transform(file).flatten() for file in y_test])"
   ]
  },
  {
   "cell_type": "code",
   "execution_count": 30,
   "metadata": {},
   "outputs": [],
   "source": [
    "pred = np.array([model.predict(file) for file in X_test])"
   ]
  },
  {
   "cell_type": "code",
   "execution_count": 31,
   "metadata": {},
   "outputs": [],
   "source": [
    "label_int = soundtransfer.label\n",
    "label_inv = soundtransfer.label_inv\n",
    "\n",
    "encoding = {label: ohe.transform([[label]]).toarray() for label in ohe.categories_[0]}\n",
    "\n",
    "contexts = {\n",
    "    'monolithic': ['alarm-clock', 'baby-cry', 'blender', 'car-horn', 'cat-meow',\n",
    "       'chopping', 'cooking', 'cough', 'dishwasher', 'dog-bark', 'door',\n",
    "       'doorbell', 'drill', 'engine', 'flush', 'hair-dryer', 'hammer',\n",
    "       'hazard-alarm', 'knock', 'laugh', 'microwave', 'phone-ring', 'saw',\n",
    "       'shaver', 'snore', 'speech', 'toothbrush', 'typing', 'vacuum',\n",
    "       'water-running'],\n",
    "    'bathroom': ['water-running', 'shaver', 'toothbrush', 'flush', 'hair-dryer'],\n",
    "    'kitchen': ['hazard-alarm', 'speech', 'chopping', 'water-running', 'microwave', 'blender', 'dishwasher', 'cooking'],\n",
    "    'bedroom': ['speech', 'baby-cry', 'cough', 'snore', 'alarm-clock'],\n",
    "    'office': ['phone-ring', 'speech', 'cough', 'door', 'knock', 'typing'],\n",
    "    'entrance': ['speech', 'door', 'knock', 'doorbell', 'laugh'],\n",
    "    'workshop': ['drill', 'hazard-alarm', 'speech', 'vacuum', 'hammer', 'saw'],\n",
    "    'outdoor': ['dog-bark', 'hazard-alarm', 'speech', 'car-horn', 'engine', 'cat-meow']\n",
    "}\n",
    "\n",
    "context_encoding = {}\n",
    "for context in contexts.keys():\n",
    "    context_encoding[context] = np.zeros((1,30))\n",
    "    for activity in contexts[context]:\n",
    "        context_encoding[context] += encoding[label_int[activity]]    "
   ]
  },
  {
   "cell_type": "code",
   "execution_count": 32,
   "metadata": {},
   "outputs": [
    {
     "name": "stdout",
     "output_type": "stream",
     "text": [
      "monolithic,0.7900477164280846,0.786789101413722\n",
      "bathroom,0.9359430604982206,0.935280808042485\n",
      "kitchen,0.8272727272727273,0.820865863201876\n",
      "bedroom,0.9203187250996016,0.9216175460911974\n",
      "office,0.9578313253012049,0.9580662851282215\n",
      "entrance,0.8605577689243028,0.8624109616228934\n",
      "workshop,0.8741007194244604,0.8713101697833592\n",
      "outdoor,0.9127272727272727,0.9142474891026211\n"
     ]
    }
   ],
   "source": [
    "for context in contexts.keys():\n",
    "    valid_idx = [i for i, label in enumerate(labels_test) if label[0] in [label_int[x] for x in contexts[context]]]\n",
    "    valid_pred = pred[valid_idx]\n",
    "    valid_labels = labels_test[valid_idx]\n",
    "    valid_pred = [file * context_encoding[context] for file in valid_pred]\n",
    "\n",
    "    # Transform to per file level labels\n",
    "    valid_pred = [np.argmax(np.sum(file, axis=0)) for file in valid_pred]\n",
    "    valid_labels = [file[0] for file in valid_labels]\n",
    "\n",
    "    acc = accuracy_score(valid_labels, valid_pred)\n",
    "    f1 = f1_score(valid_labels, valid_pred, average='weighted')\n",
    "    conf_mat = confusion_matrix(valid_labels, valid_pred, normalize='true')\n",
    "    # label_names = np.unique(valid_labels)\n",
    "    print('{},{},{}'.format(context, acc, f1))"
   ]
  },
  {
   "cell_type": "code",
   "execution_count": 84,
   "metadata": {},
   "outputs": [
    {
     "data": {
      "text/plain": [
       "[]"
      ]
     },
     "execution_count": 84,
     "metadata": {},
     "output_type": "execute_result"
    }
   ],
   "source": [
    "valid_idx"
   ]
  }
 ],
 "metadata": {
  "accelerator": "GPU",
  "colab": {
   "authorship_tag": "ABX9TyOZ3nl0I+mVkmJRBp9GYBH+",
   "name": "model.ipynb",
   "provenance": []
  },
  "kernelspec": {
   "display_name": "Python 3",
   "language": "python",
   "name": "python3"
  },
  "language_info": {
   "codemirror_mode": {
    "name": "ipython",
    "version": 3
   },
   "file_extension": ".py",
   "mimetype": "text/x-python",
   "name": "python",
   "nbconvert_exporter": "python",
   "pygments_lexer": "ipython3",
   "version": "3.8.3"
  }
 },
 "nbformat": 4,
 "nbformat_minor": 1
}
